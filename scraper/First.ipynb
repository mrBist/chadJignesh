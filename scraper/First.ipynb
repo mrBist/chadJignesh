{
 "cells": [
  {
   "cell_type": "code",
   "execution_count": 191,
   "metadata": {},
   "outputs": [],
   "source": [
    "import json"
   ]
  },
  {
   "cell_type": "code",
   "execution_count": 110,
   "metadata": {},
   "outputs": [],
   "source": [
    "df = pd.read_csv(\"news.csv\")"
   ]
  },
  {
   "cell_type": "code",
   "execution_count": 154,
   "metadata": {},
   "outputs": [],
   "source": [
    "df = df[[\"title\", \"description\",\"text\"]]"
   ]
  },
  {
   "cell_type": "code",
   "execution_count": 159,
   "metadata": {},
   "outputs": [],
   "source": [
    "data_dicts = []\n",
    "for i in range(len(df)):\n",
    "    data = df.iloc[i,:]\n",
    "    data = {\"title\": data[\"title\"], \"description\" : data[\"description\"], \"text\" : data[\"text\"]}\n",
    "    data_dicts.append(data)"
   ]
  },
  {
   "cell_type": "code",
   "execution_count": 192,
   "metadata": {},
   "outputs": [],
   "source": [
    "from elasticsearch import Elasticsearch"
   ]
  },
  {
   "cell_type": "code",
   "execution_count": 193,
   "metadata": {},
   "outputs": [],
   "source": [
    "INDEX_NAME = \"covidnews\"\n",
    "ES_HOST = {\"host\" : \"localhost\", \"port\" : 9200}"
   ]
  },
  {
   "cell_type": "code",
   "execution_count": 194,
   "metadata": {},
   "outputs": [],
   "source": [
    "es = Elasticsearch(hosts= [ES_HOST])"
   ]
  },
  {
   "cell_type": "code",
   "execution_count": 195,
   "metadata": {},
   "outputs": [
    {
     "name": "stdout",
     "output_type": "stream",
     "text": [
      "deleting 'covidnews' index...\n",
      " response: '{'acknowledged': True}'\n"
     ]
    }
   ],
   "source": [
    "if es.indices.exists(INDEX_NAME):\n",
    "    print(\"deleting '%s' index...\" % (INDEX_NAME))\n",
    "    res = es.indices.delete(index = INDEX_NAME)\n",
    "    print(\" response: '%s'\" % (res))"
   ]
  },
  {
   "cell_type": "code",
   "execution_count": 196,
   "metadata": {},
   "outputs": [
    {
     "name": "stdout",
     "output_type": "stream",
     "text": [
      "creating 'covidnews' index...\n",
      " response: '{'acknowledged': True, 'shards_acknowledged': True, 'index': 'covidnews'}'\n"
     ]
    }
   ],
   "source": [
    "request_body = {\n",
    "    \"settings\" : {\n",
    "        \"number_of_shards\": 1,\n",
    "        \"number_of_replicas\": 0\n",
    "    }\n",
    "}\n",
    "print(\"creating '%s' index...\" % (INDEX_NAME))\n",
    "res = es.indices.create(index = INDEX_NAME, body = request_body)\n",
    "print(\" response: '%s'\" % (res))"
   ]
  },
  {
   "cell_type": "code",
   "execution_count": 197,
   "metadata": {},
   "outputs": [],
   "source": [
    "from tqdm import tqdm"
   ]
  },
  {
   "cell_type": "code",
   "execution_count": null,
   "metadata": {},
   "outputs": [
    {
     "name": "stderr",
     "output_type": "stream",
     "text": [
      "  0%|                                                                                         | 0/6788 [00:00<?, ?it/s]C:\\Users\\rjkin\\AppData\\Local\\Programs\\Python\\Python36\\lib\\site-packages\\elasticsearch\\connection\\base.py:190: ElasticsearchDeprecationWarning: [types removal] Specifying types in document index requests is deprecated, use the typeless endpoints instead (/{index}/_doc/{id}, /{index}/_doc, or /{index}/_create/{id}).\n",
      "  warnings.warn(message, category=ElasticsearchDeprecationWarning)\n",
      " 38%|█████████████████████████████▋                                                | 2589/6788 [04:55<07:33,  9.26it/s]"
     ]
    },
    {
     "name": "stdout",
     "output_type": "stream",
     "text": [
      "{'title': 'NYC hospitals could run out of COVID-19 test swabs, city health department memo says', 'description': 'New York City is in danger of running out of swabs for COVID-19 tests and is urging health-care providers to continue testing only patients who are gravely ill, the city health department said in a memo.', 'text': 'New York City is in danger of running out of swabs for COVID-19 tests and is urging health-care\\xa0providers to continue testing only patients who are gravely ill, the city health department said in a memo. \"As the swab supply continues to decline, there is a real possibility hospitals will completely run out,\" the April 11\\xa0alert to health-care providers said. \"At this time, providers are reminded to only test hospitalized patients in order to preserve resources that are needed to diagnose and appropriately manage patients with more severe illness.\" The warning came amid repeated pleas from New York City and state officials for the federal government to provide widespread testing in order to move to a containment phase in the coronavirus outbreak. \"If the president of the United States or anyone else wants a recovery — and we all want it, right? But if you\\'re serious about it, you can\\'t do it without widespread testing,\" Mayor Bill de Blasio said at a city hall briefing Monday. THE LATESTCoronavirus: What\\'s happening in Canada and around the world April 13A COVID-19 glossary: What the terms mean and some subtle differences The city\\'s health commissioner, Dr. Oxiris Barbot, said the city \"won\\'t be able to get this over the finish line, if you will, if we don\\'t have the supply that the mayor is calling for or the assistance of the federal government.\" Tests, protective equipment being rationed Through Sunday afternoon, 462,000 people in New York have been tested for the virus, according to state figures. Of those, nearly 189,000 had tested positive. Because of rationing, just 44 per cent\\xa0of tests conducted in the state have been done in New York City, even though the city represents 74 per cent\\xa0of the state\\'s fatalities from the virus. Lack of testing capability, partly due to rationing of personal protective equipment for the people who would have to administer them, has also stopped officials from doing widespread testing of hospital and nursing-home staff who might be passing infections to each other and to patients. WATCH | What it\\'s like to get tested for COVID-19: A look at what patients could expect if they end up in an emergency room with COVID-19 symptoms. 1:59 \\'It is a killer\\' Meanwhile, New York\\'s death toll from coronavirus topped 10,000, with hospitals still seeing 2,000 new patients a day, Gov. Andrew Cuomo said Monday. The state tallied 671 new deaths on Sunday. It was the first time in a week the daily toll dipped below 700. Still, the governor noted people are still dying at a \"horrific level of pain and grief and sorrow.\" \"This virus is very good at what it does. It is a killer,\" Cuomo said during a news conference.  The worst can be over, and it is over unless we do something reckless.- New York Gov. Andrew Cuomo Cuomo said nearly 2,000 people were newly hospitalized with the virus Sunday, though once discharges and deaths are accounted for, the number of people hospitalized has flattened to just under 19,000. The governor said the state\\'s tenuous progress will likely continue as long as people continue to follow stay-at-home restrictions. \"The worst can be over, and it is over unless we do something reckless,\" Cuomo said. \"And you can turn those numbers on two or three days of reckless behaviour.\"'}\n"
     ]
    },
    {
     "name": "stderr",
     "output_type": "stream",
     "text": [
      " 39%|██████████████████████████████▌                                               | 2657/6788 [05:03<07:13,  9.52it/s]"
     ]
    },
    {
     "name": "stdout",
     "output_type": "stream",
     "text": [
      "{'title': 'Get informed on the top stories of the day in one quick scan', 'description': \"In today's Morning Brief, we look at the debate over how and when to ease physical distancing rules. We also have stories on the drop in oversight of infection control measures at long-term care facilities in Ontario, and why China suddenly reported a 50 per cent in the number of deaths in Wuhan, the epicentre of the coronavirus outbreak.\", 'text': 'Good morning! This is our daily news roundup\\xa0with everything you need to know in one concise read. Sign up here to get this delivered to your inbox every morning. Will it really take \\'weeks\\' to ease physical distancing? Maybe not With increasing evidence that Canada is flattening its\\xa0COVID-19 curve, the next challenge is when and how to begin easing the country\\'s physical distancing rules. Take it slow and steady, say\\xa0some experts, who note\\xa0that it might be possible to start the easing sooner than you think.  There might well have been collective discouragement when Prime Minister Justin Trudeau announced Tuesday that our isolation must continue for \"weeks.\"\\xa0But will it really take that long? It\\'s a debate that is just beginning, with some pushing for faster easing and others — especially those on the front lines in hospitals — begging for more time. Watch |\\xa0How to physical distance in tricky situations  \\xa0 \"I believe we\\'re at the peak but not through the peak,\"\\xa0said Dr. MIchael Gardam, an infectious disease specialist and veteran of the SARS epidemic and H1N1 influenza pandemic. He has been bracing for the COVID-19 surge for months as chief of staff at Humber River Hospital in Toronto. \"I thought it would be much worse. I was thinking about battlefield triage and who would get ventilators.\"\\xa0  Gardam is not expecting Canada to face the nightmare scenarios of New York City and northern Italy,\\xa0\"as long as we keep being intelligent and keeping a lid on things.\"  Opening up health care depends on a steady supply of protective equipment.\\xa0So far, Dr. Matthew Muller, the medical director of infection prevention and control at St Michael\\'s Hospital in Toronto, is not confident that support is in place. \"We\\'ve already depleted a lot of our supplies that have not been replenished yet, so there\\'s a number of pieces to the puzzle,\" he said.  As CBC\\'s Kelly Crowe writes, the bottom line is that physical distancing was never intended to prevent people from catching COVID-19.\\xa0The goal was to keep everybody from getting sick at once.  \"We want the epidemic to simmer, not to boil.\\xa0The cases are going to happen, but if they happen at a simmer, we\\'ll be able to handle them,\" said Gardam, noting that discussions of how to begin easing up have already started.\\xa0Read more on this story here. Checking on family  (Christinne Muschi/Reuters) Pierre Boule and his brother Sylvain look in a window to see their 96-year-old mother, Georgette Larame, yesterday at Centre d\\'hebergement Yvon-Brunet, a seniors\\' long-term care centre, in Montreal. In brief Oversight of infection control measures — key to keeping long-term care homes free of illness — plummeted when Ontario scaled back comprehensive annual inspections last year,\\xa0a CBC News investigation has found. Infection control violations would typically be caught during so-called resident quality inspections (RQIs), but CBC News found that the number of violations dropped off along with the number of inspections in 2019.\\xa0Read more about the drop in infection control oversight here. Watch |\\xa0Comprehensive long-term care inspections found critical shortcomings before they were cancelled  With most shelters full and operating at a lowered capacity to adhere to physical distancing rules, some cities, such as Montreal, Vancouver, Calgary and Toronto, are putting up the homeless in hotels.\\xa0But advocates say there are too few beds and not enough being done.\\xa0The executive director for the Native Women\\'s Shelter in Montreal says she\\'s frustrated that the homeless are being left out in the cold — figuratively and literally — during this pandemic.\\xa0Read more about advocates urging\\xa0governments to provide more shelters and amenities for the homeless amid the pandemic. \\xa0 At least 50 per cent more people died in China\\'s virus epicentre of Wuhan than previously counted, with state media on Friday attributing the initial undercount to how overwhelmed the health system was coping with thousands of sick patients. The addition of 1,290 victims raised Wuhan\\'s death toll to 3,869, the most in China, and may confirm suspicions that far more people died in the city where the illness began than has been previously announced.\\xa0Read more on the revised death toll in Wuhan here.  Fans around the world — and now two members of the U.S. Congress — are demanding Live Nation, the world\\'s largest entertainment company, refund tickets for all events cancelled or postponed by the COVID-19 crisis.\\xa0The company, which owns Ticketmaster and took in $11 billion US in concert and ticket revenue last year, is under pressure from customers to return their money immediately. The company announced this week that while it honours refunds for shows that have been officially cancelled, 90 per cent of its shows are simply being postponed for future dates that have yet to be set. That means it won\\'t reimburse most of its customers right now as it awaits an end to the pandemic in the hope of one day rescheduling events.\\xa0Read how the pandemic has left Live Nation scrambling for cash.  Just days after saying he had total authority to reopen states, U.S. President Donald Trump yesterday sounded more deferential as he released a set of guidelines and said governors could \"call their own shots.\"\\xa0But with legal authority and public support already on their side, Trump\\'s reversal changes little. Before Trump\\'s pivot, states were already well ahead in the discussion of what comes next. Ohio Gov. Mike DeWine, a Republican, said he would begin slowly reopening on May 1, when current shutdown orders expire. New York Gov. Andrew Cuomo, on the other hand, extended his state\\'s stay-at-home orders until May 15.\\xa0Read more about the reopening debate in the United States.\\xa0 Watch |\\xa0Some states extend COVID-19 restrictions, Trump reveals reopening plan  One of the world\\'s foremost critical care experts is warning against what he calls the misuse and overuse of mechanical ventilators.\\xa0\"A standard treatment cannot be applied to an un-standard disease,\" said Luciano Gattinoni, a world-renowned Italian intensive care specialist. He was referring to the current protocol for the machines used to push oxygen into the lungs of patients gravely ill with COVID-19, the disease caused by the novel coronavirus. Gattinoni gained renown in the early 1980s for placing patients with certain respiratory problems in prone position, on their stomachs, to improve their oxygenation. The technique was first met with ridicule before being widely adopted.\\xa0Read more about Gattinoni\\'s concerns here.  Now for some good news to start your Friday:\\xa0Worried she would expose her family to the deadly COVID-19 virus, London, Ont., nurse Barbie Allen was in need of a solution. Someone suggested she rent an RV to park in her driveway so she\\'d have a place to sleep near her family, but not so close as to risk infection. That\\'s where brothers Andy and Kirk Thomson, who own Can-Am RV Centre, came into the picture. Allen called Kirk about renting an RV. Two days later, he was backing one into her driveway. There was only one problem: he wouldn\\'t take payment at all. \"He said \\'Oh no, this is the least I could do.\\'\" Andy said his family felt compelled to help after seeing stories about front-line health-care workers treating COVID-19 patients while putting themselves, and their families, at risk of infection. So far, the Thomson brothers have lent out 15 RVs to health-care workers.\\xa0Read more about how the company is helping out.\\xa0If you want more good news, check out CBC\\'s\\xa0daily good news video compilation here. Front Burner:\\xa0Could COVID-19 survivor blood keep people safe? As scientists worldwide scramble for COVID-19 treatments and cures, some see promise in antibody-rich plasma of survivors. In Canada and beyond, survivors are donating their blood for new, fast-tracked clinical trials.\\xa0Today, CBC senior correspondent Susan Ormiston joins us from Washington, D.C., to explain why antibody-rich plasma could be useful in the fight against the coronavirus.  Today in history: April 17 1610:\\xa0Explorer Henry Hudson sails from England. Two months later, he reached what is now the Hudson Strait in the Canadian Arctic.  1855:\\xa0The city of Charlottetown is incorporated. In September 1864, it played host to the Charlottetown Conference on Atlantic Union, which turned into the discussions that led to Confederation.  1961:\\xa0About 1,500 Cuban exiles, trained by the CIA, launched the disastrous Bay of Pigs\\xa0invasion of Cuba in a failed attempt to overthrow Fidel Castro\\'s government.  1967:\\xa0Prime Minister Lester Pearson announces the creation of the Order of Canada, a decoration to honour outstanding citizens.  1982:\\xa0Years of political wrangling end when Queen Elizabeth signs the royal proclamation of Canada\\'s Constitution in a Parliament Hill ceremony.\\xa0  1998:\\xa0Toronto-Dominion Bank and Canadian Imperial Bank of Commerce announce\\xa0plans to merge. The decision came nearly three months after a similar announcement by the Royal Bank and the Bank of Montreal. The federal government rejected both mergers at the end of the year.'}\n"
     ]
    },
    {
     "name": "stderr",
     "output_type": "stream",
     "text": [
      " 39%|██████████████████████████████▌                                               | 2663/6788 [05:03<08:18,  8.27it/s]"
     ]
    },
    {
     "name": "stdout",
     "output_type": "stream",
     "text": [
      "{'title': 'What you need to know about COVID-19 in Ottawa on Thursday, March 26', 'description': \"CBC Ottawa's latest roundup of key points during the coronavirus pandemic.\", 'text': 'Recent developments:  Via Rial employee who worked on Quebec City-Windsor route tests positive for COVID-19 University of Ottawa cancels spring convocation.\\xa0 2 more deaths, 170 new cases of COVID-19 in Ontario. 8 new confirmed cases of COVID-19 in the region; 2 are in hospital. Ottawa, Gatineau closing community sports parks and courts, playgrounds. Gatineau opening more shelter space to encourage physical distancing. Ontario restaurants can now offer takeout or delivery alcohol. Montfort and\\xa0Queensway Carleton hospitals prepare to open centres for\\xa0assessment and clinical care of\\xa0COVID-19 patients.\\xa0 The Ottawa Hospital is appealing for donations of masks, gloves, shields and other personal protective\\xa0equipment for health-care staff. Any companies or organizations with donations can email:\\xa0coviddonations@toh.ca  What you should know As Ontario sees a substantial surge in coronavirus cases,\\xa0health officials continue to call on residents to keep up physical distancing as people are likely carrying the novel coronavirus COVID-19 without knowing it. This means avoiding non-essential trips out, working from home and cancelling gatherings, even with friends or extended family. Ottawa Public Health advises residents to restrict contact to members of their own household, and to stay at least two metres away from everyone else. WATCH: Here\\'s what social distancing looks like in cities around the world As the world deals with a global pandemic, drone\\xa0footage\\xa0shows how quiet public spaces have\\xa0become in several major cities. 1:06 Public health officials are also urging anyone who\\'s had\\xa0close contact with someone who has travelled to self-isolate for 14 days. That means staying home for two weeks and asking relatives, friends or neighbours to deliver\\xa0groceries, medication\\xa0and other supplies. All deliveries should be left at the door to maintain a two-metre distance. People who feel sick should also self-isolate. LISTEN:\\xa0\\'Too soon to say\\' how social distancing is affecting COVID-19 spread, OPH says In a news conference conducted by telephone, Vera Etches, Ottawa’s chief medical officer of health, says a delay in getting test results and the continuing return of travellers from abroad make it too early to say how social distancing measures are affecting the spread of COVID-19. 0:42 Travellers who return to Canada must now enter a mandatory 14-day period of self-isolation\\xa0or face a fine of up to $750,000, or as much as six months in jail. Only\\xa0people\\xa0deemed essential workers\\xa0are exempt. To help bolster the economy while many businesses stay closed and workers stay home, Ontario announced a $17-billion aid package Wednesday. Ontario\\'s Minister of Finance Rod Phillips on the latest in his government\\'s economic and fiscal update amid the COVID-19 pandemic 8:27 The City of Ottawa declared a state of emergency Wednesday. Other municipalities in the region including\\xa0Cornwall,\\xa0United Counties of Prescott and Russell, United Counties of Stormont, Dundas and Glengarry, Kingston, Prince Edward County and Rideau Lakes have also declared states of emergency. Ontario and Quebec have ordered all non-essential businesses to close. On Thursday the University of Ottawa announced it\\'s cancelling spring convocation due to the risk posed by COVID-19. WATCH: Ottawa food banks see increased need during COVID-19 pandemic Michael Maidment, CEO of the Ottawa Food Bank, said business closures and job losses have caused a 20 to 30 per cent increase in food bank need during the coronavirus pandemic. 1:08 Ontario Provincial Police said Friday officers will fine individuals or businesses that break the physical distancing rules. Police in Quebec\\xa0are also enforcing a\\xa0ban on\\xa0gatherings of more than two people.\\xa0In Gatineau, a tenant was fined for hosting a gathering Wednesday.\\xa0 Sports venues such as fields and courts are closed to discourage gatherings. Park spaces remain open. WATCH: CBC Ottawa\\'s Local Daily for Thursday, March 26 Lucy van Oldenbarneveld, Adrian Harewood and Omar Dabaghi-Pacheco bring you the latest on the COVID-19 pandemic in Ottawa. 13:08 Quebec schools are closed until at least May, while Ontario has launched\\xa0an e-learning program while its schools remain closed, likely past the initial date of April 6. Public transit authorities\\xa0are\\xa0scaling back service\\xa0because ridership has dropped substantially.\\xa0 Ottawa residents needing information can still call 311, and all essential services such as garbage and recycling collection, as well as\\xa0some bylaw services, will continue.\\xa0 Spread of COVID-19 in Ottawa Ottawa saw its first COVID-19-related death on March 25.\\xa0A man in his 90s with no travel history died 10 days after he first developed\\xa0a fever.\\xa0 Ontario\\'s Ministry of Health confirms 32\\xa0people have now tested positive for COVID-19 in Ottawa, including Sophie Grégoire Trudeau, a health-care worker at The Ottawa Hospital, a City of Ottawa employee at 100 Constellation Dr., a Health Canada employee at Tunney\\'s Pasture, two Ottawa Senators and three employees of tech company Ciena in Kanata.\\xa0 Ottawa\\'s medical officer of health has said\\xa0computer models suggest 4,000 people in Ottawa have COVID-19, many without knowing it. Vera Etches said the virus could infect 4,000 people a day\\xa0at its peak\\xa0if physical distancing and self-isolation recommendations aren\\'t respected.  Ontario has 858 confirmed cases of novel coronavirus. The addition of 170 confirmed cases between Wednesday and Thursday is the largest single-day jump in the province. Quebec has 1,629 presumptive and confirmed cases. Thirty-nine deaths in Canada have been linked to COVID-19, including 15\\xa0in Ontario and eight\\xa0in Quebec.\\xa0  What are the symptoms of COVID-19? Symptoms of COVID-19 range from a very mild, cold-like illness to a severe lung infection. The most common symptoms include fever, fatigue\\xa0and a dry cough. They may take up to 14 days to appear, which is why that\\'s the period of self-isolation. Older people, those with compromised immune systems\\xa0and those with underlying medical problems such as high blood pressure, heart problems or diabetes\\xa0are more likely to develop serious illness. WATCH: Here\\'s how Canadians are helping each other through the pandemic How Canadians across the country are helping each other through the COVID-19 pandemic. 3:04 The coronavirus\\xa0primarily spreads through droplets when an infected person coughs or sneezes. The virus can also spread through close, prolonged contact, such as\\xa0touching or handshaking, and via surfaces such as door\\xa0handles, mobile phones, tables and light switches if they touch their eyes, nose or mouth before washing their hands. When to get tested Anyone in Ottawa who has a new or worsening cough or fever\\xa0and has\\xa0travelled outside Canada, or\\xa0has been in contact with a confirmed case, should go to the COVID-19 screening centre at the Brewer Arena. The centre is open from 9 a.m. to 8 p.m. daily at\\xa0151 Brewer Way, off Bronson Avenue near Carleton University. You don\\'t have to call ahead.  CBC EXPLAINS | Understanding COVID-19 testing in Ottawa  If you meet some of the criteria but don\\'t have symptoms, you won\\'t be tested\\xa0and should self-isolate for 14 days. If you have severe symptoms, call 911. The\\xa0Montfort and\\xa0Queensway Carleton hospitals are preparing to open centres similar to the Brewer site, but with a wider scope including\\xa0clinical care for COVID-19 patients. More details are expected next week.\\xa0 LISTEN:\\xa0Critical care clinics \\'ready to be opened\\' if needed, Ottawa hospital says   Dr. Andrew Willmore, medical director of emergency management at the Ottawa Hospital, says there are several care centres standing by in case of a rise in COVID-19 cases. 0:49 In western Quebec: Gatineau\\'s\\xa0downtown assessment location is at 135 blvd. Saint-Raymond. Outaouais\\xa0resident\\xa0should call the regional help\\xa0line at 819-644-4545\\xa0if they have a cough or fever, whether they\\'ve travelled or not. If your symptoms require a trip to the emergency room, call ahead if your condition allows to let them know your travel history. Another space is\\xa0opening up for the city\\'s shelter users at the Centre communautaire\\xa0Père-Arthur-Guertin\\xa0on rue\\xa0Bériault\\xa0because the Gîte Ami shelter\\'s capacity has been reduced for physical distancing. Kingston, Ont. The assessment centre in Kingston is now at the\\xa0Kingston Memorial Centre\\xa0at 303 York St.\\xa0It is open 10 a.m. to 8 p.m. If you develop mild to moderate symptoms after travelling, either contact your health-care provider or go to the\\xa0test site. Kingston\\'s public health unit says to\\xa0check its website\\xa0for information, and call Telehealth\\xa0at 1-866-797-0000 with any remaining questions. A lone pedestrian crosses Metcalfe Street in downtown Ottawa on March 24, 2020. (Francis Ferland/CBC) Other communities The public health unit\\xa0in the Belleville, Ont., area is\\xa0asking people only call it at 613-966-5500\\xa0if they\\'ve checked the\\xa0website and still have questions. The same advice goes for Leeds, Grenville and Lanark\\'s unit at 1-800-660-5853 extension 2499. Hawkesbury,\\xa0Ont., has\\xa0an assessment centre at\\xa0750 Laurier St. open from\\xa09 a.m. to 5 p.m. Monday to Friday.\\xa0 Like Ottawa, only go there if you have new or worsening symptoms and have travelled or been in contact with a confirmed case. Go to CHEO if you\\'re looking after an infant younger than six months old that fits this description. Self-isolate if you have mild symptoms, go to the hospital if your symptoms are severe. The Eastern Ontario Health Unit (EOHU) is also working on a special\\xa0\"Community Paramedic Program\" for home visits. Only people older than age 70, who have chronic health problems or compromised immune systems can call 613-933-1375 from 8 a.m. to 8 p.m. to ask about one of these visits. On Friday, the\\xa0Winchester District Memorial Hospital\\xa0announced it is\\xa0preparing\\xa0an\\xa0assessment centre with the help of the EOHU. The hope is the facility will never have\\xa0to be used, the hospital wrote in a release. Renfrew County is providing home testing under some circumstances. Its public health unit says people who have symptoms or have been in close contact with a confirmed case should use the province\\'s self-assessment tool. Call Telehealth\\u200b\\u200b\\u200b,\\xa0their health care provider or it at 613-735-8654 if they still have more questions. The province of Ontario generally advises people experiencing symptoms to call\\xa0Telehealth\\xa0or their health care provider. There has been a lag of four days or more to get Ontario\\'s test results, with more being done per day than can be processed.  In the Outaouais, the local health agency is calling anyone whose tests take more than a week to get back to them. First Nations communities The Mohawk communities\\xa0of Akwesasne and Mohawks of the Bay of Quinte\\xa0(MBQ) have\\xa0declared a state of emergency to prepare for possible cases. Anyone in MBQ who has symptoms can call 613-967-3603 to talk to a nurse. A home test may be possible after that. In Akwesasne, community members are asked to carry their status cards when crossing the Canada-U.S. border for essential trips. The Algonquin communities of\\xa0Kitigan Zibi and Pikwakanagan\\xa0have scaled back non-essential services and are asking residents to follow\\xa0public health advice. Pikwakanagan\\'s election on Saturday, March 28 is going ahead, with members strongly encouraged to vote remotely. For more information, visit:  Ottawa Public Health, your local\\xa0eastern Ontario health unit, the Ontario Ministry of Health\\xa0(in several languages), including their\\xa0self-assessment tool.\\xa0 the Public Health Agency of Canada. the Centre intégré de santé et de services sociaux de l\\'Outaouais\\xa0(in French). '}\n"
     ]
    },
    {
     "name": "stderr",
     "output_type": "stream",
     "text": [
      " 39%|██████████████████████████████▋                                               | 2673/6788 [05:04<06:44, 10.17it/s]"
     ]
    },
    {
     "name": "stdout",
     "output_type": "stream",
     "text": [
      "{'title': 'Montreal firefighters to work 24-hour shifts, give up vacations in response to COVID-19 crisis', 'description': 'With five Montreal firefighters infected and 35 others in isolation, firefighters will respond to only the most critical 911 emergencies for now, as part of a host of measures to prevent further\\xa0spread of COVID-19 within that vital workforce.', 'text': 'Montreal firefighters will respond respond to only the most critical 911 emergencies for the duration of the COVID-19 outbreak, as part of a host of measures to prevent further\\xa0spread of COVID-19 within that vital workforce. As of Friday morning, five Montreal firefighters had tested positive for the novel coronavirus. They\\xa0worked at stations in Westmount, Ahuntsic and Parc-Extension. They are now in self-isolation, along with 35 other firefighters who were in direct contact with them. \"The isolation of certain firefighters was also necessary after a cardiac emergency intervention for a citizen that, in all likelihood, was infected by the coronavirus,\" Chris Ross, president of the Montreal Firefighters Association, said in a news release Friday. Montreal declares local state of emergency over fears of COVID-19 outbreak among city\\'s homeless Montreal\\'s fire department and the union representing firefighters have reached an agreement in principle on special provisions for working under the threat of COVID-19. (Simon-Marc Charron/Radio-Canada) Because of these cases, Montreal\\'s fire department and the\\xa0union representing firefighters have reached an\\xa0agreement in principle to make temporary changes to the way the fire stations operate and firefighters\\' daily activities. The temporary changes include putting firefighters on 24-hour shifts, as of Monday, as well as changes in the way firefighters respond to calls. Ross said his members didn\\'t agree unanimously to the changes, but the union agreed they were necessary for everyone\\'s safety. The main objective of the changes is to ensure\\xa0firefighters\\xa0stay healthy,\\xa0thereby\\xa0maintaining front-line services — and preventing a domino effect, as more firefighters get sick or need to be isolated. Apart from the 24-hours shifts, all vacation time, time off and \"time swaps\" will be suspended until at least June 30, with the possibility of that being extended. Firefighters will not be transferred from one station to another, to eliminate the possibility of cross-infection between stations. When it comes to emergency first responder calls, firefighters will only respond to the most critical, until further notice.'}\n"
     ]
    },
    {
     "name": "stderr",
     "output_type": "stream",
     "text": [
      " 40%|███████████████████████████████▍                                              | 2738/6788 [05:11<08:33,  7.89it/s]"
     ]
    }
   ],
   "source": [
    "ids = 1\n",
    "errors = 0\n",
    "for data in tqdm(data_dicts):\n",
    "    try:\n",
    "        res = es.index(index='covidnews',doc_type='articles',id=ids,body=data)\n",
    "    except:\n",
    "        errors += 1\n",
    "        print(data)\n",
    "    ids += 1"
   ]
  },
  {
   "cell_type": "code",
   "execution_count": 125,
   "metadata": {},
   "outputs": [],
   "source": [
    "search = {\"size\": 4,\"query\": {\"match\": {\"text\": \"china death in covid-19\"}}}\n",
    "res= es.search(index= INDEX_NAME,body = json.dumps(search))"
   ]
  },
  {
   "cell_type": "code",
   "execution_count": 126,
   "metadata": {},
   "outputs": [
    {
     "data": {
      "text/plain": [
       "{'total': {'value': 6784, 'relation': 'eq'},\n",
       " 'max_score': 6.495981,\n",
       " 'hits': [{'_index': 'covidnews',\n",
       "   '_type': 'articles',\n",
       "   '_id': '526',\n",
       "   '_score': 6.495981,\n",
       "   '_source': {'title': 'Timeline: How the new coronavirus arose and spread',\n",
       "    'description': \"Chinese authorities first investigated an outbreak of respiratory illness in the central city of Wuhan in late December. Here's a look at how information about its cause has unfolded and how it has spread since then.\",\n",
       "    'text': 'Chinese authorities first investigated an outbreak of respiratory illness in the central city of Wuhan in late December. Here\\'s a look at how information about its cause has unfolded and how it has spread since then.   Dec. 31, 2019  Chinese experts investigate an outbreak of respiratory illness in the central city of Wuhan. Most patients had visited a seafood market in the city. Authoritiesshutit down and disinfected it. Total reported cases: 27 Deaths: 0  Jan. 3, 2020  Chinese officials rule out common respiratory diseases such as influenza, bird flu and adenovirus as the cause of the pneumonia cases in Wuhan. Singapore says it will screen arrivals on flights from Wuhan. Total reported cases: 44 Deaths: 0  Jan. 5  Chinese officials rule out SARS and MERSas the cause of the mysterious pneumonia. Total reported cases: 59 Deaths: 0  Jan. 7  Hong Kong adds the mysterious pneumonia to a list of diseases that medical practitioners must report to the government. Fifteen patients are treated in Hong Kong for fever and respiratory infection after recent visits to Wuhan. Total reported cases: 59 Deaths: 0  Jan. 9  China\\'s official XinhuaNews Agency says the preliminary lab tests show the pathogen behind the pneumonia cases is a new type of coronavirus, the same family of viruses behind SARS and MERS. Total reported cases: 59 Deaths: 0  Jan. 11  Wuhan Municipal Health Commission reports China\\'s first death from the new type of coronavirus, a 61-year-old man. Total reported cases:41 (revised downward from previous day) Deaths: 1  Jan. 13  A Chinese woman isquarantined in Thailand with a mystery strain of coronavirus, authorities said on Monday, the first time it has been detected outside China. Total reported cases: 42 (41 in China, 1 in Thailand) Deaths: 1  Jan. 16  Japan confirms its first case of thepneumonia. Total cases: 45 (42 in China, 2 in Thailand, 1 in Japan) Deaths: 1  Jan. 17  A second deathfrom the new coronavirus is reported in China. The U.S. says it will screen passengers for the virus at threeairports with direct flights from Wuhan. Total reported cases: 45 (42 in China, 2 in Thailand, 1 in Japan) Deaths: 2  Jan. 19  A3rd death and more than 100 new cases are announced in China, with reports in Beijing, Shanghai and Shenzhen. Total reported cases: 201 (198 in China, 2 in Thailand, 1 in Japan) Deaths: 3  Jan. 20:  China confirms human-to-human transmission of the new coronavirus, after two people in Guangdong caught the disease from family members who had been to Wuhan. Another death is reported. South Korea confirms its first case. Total reported cases: 221(217 in China,2 in Thailand, 1 in Japan, 1 in South Korea) Deaths: 4  Jan. 21  The first U.S. case of theChina coronavirus is confirmed, a man in his 30s in the Seattle area. Taiwan also confirms its first case. Countries in Asia and around the globe begin body temperature checks at airports, railway stations and along highways in hopes of catching people carrying the virus. Total reported cases: 446 (440 in China, 2 in Thailand, 1 in Japan, 1 in South Korea, 1 in the U.S. and 1 in Taiwan) Deaths: 9  Jan. 22  Hong Kong quarantines a man after itsfirst preliminary positive test for the new coronavirus. Macao also reports onecase. The Public Health Agency of Canada starts asking travellers if they have been in Wuhan, China, in the past 14 days.Signs are planned forairports in Toronto, Montreal and Vancouver to remind passengers to talk to border officials if they have flu-like symptoms. Total reported cases: 581(571in China, 4 in Thailand, 1 in Japan, 1 in South Korea, 1 in the U.S..1 in Taiwan, 1 in Hong Kong and 1 in Macao) Deaths: 17  Jan. 23  China closes access to Wuhan and is poised to lock down two neighbouring cities. The City of Beijing cancels major public events including two well-known Lunar New Year temple fairs. Singapore reports its first case. WHO says the new coronavirus is not a global health emergency, but could become one. The Canadian government urgestravellers to\"exercise a high degree of caution in China due to the risk of arbitrary enforcement of local laws,\" a notice that isone level belowan officialtravel advisory. Total reported cases:About 650 Deaths: 18  Jan. 24  China\\'s National Health Commission confirmsthe first death outside the central province of Hubei. U.S. reports its second case. Total reported cases:830 Deaths:25  Jan. 25  In Canada, health officials confirmthe country\\'s first \"presumptive\" caseof coronavirus in Toronto. A man in his 50s travelled from China to Toronto on Jan. 22 and \"within a day\" became \"quite ill\" and was admitted to hospital. Total reported cases: 1,287 Deaths: 41  Jan. 26  China\\'s health minister says the ability of the virus to spread is getting stronger and the number of infections could rise. Wuhan bansmost vehicle use, including private cars, in downtown areas. Thailand reports a total of eight infection cases; Taiwan, Australia, Singapore and Malaysia reports four; the U.S. France andJapan 3; Vietnam and South Korea two apiece andCanada and Nepal one. Total reported cases: More than 2,000 globally, most of them in China Deaths: 56 in China  Follow the spread of the new coronavirus with this interactive map'}},\n",
       "  {'_index': 'covidnews',\n",
       "   '_type': 'articles',\n",
       "   '_id': '529',\n",
       "   '_score': 6.495981,\n",
       "   '_source': {'title': 'Timeline: How the new coronavirus arose and spread',\n",
       "    'description': \"Chinese authorities first investigated an outbreak of respiratory illness in the central city of Wuhan in late December. Here's a look at how information about its cause has unfolded and how it has spread since then.\",\n",
       "    'text': 'Chinese authorities first investigated an outbreak of respiratory illness in the central city of Wuhan in late December. Here\\'s a look at how information about its cause has unfolded and how it has spread since then.   Dec. 31, 2019  Chinese experts investigate an outbreak of respiratory illness in the central city of Wuhan. Most patients had visited a seafood market in the city. Authoritiesshutit down and disinfected it. Total reported cases: 27 Deaths: 0  Jan. 3, 2020  Chinese officials rule out common respiratory diseases such as influenza, bird flu and adenovirus as the cause of the pneumonia cases in Wuhan. Singapore says it will screen arrivals on flights from Wuhan. Total reported cases: 44 Deaths: 0  Jan. 5  Chinese officials rule out SARS and MERSas the cause of the mysterious pneumonia. Total reported cases: 59 Deaths: 0  Jan. 7  Hong Kong adds the mysterious pneumonia to a list of diseases that medical practitioners must report to the government. Fifteen patients are treated in Hong Kong for fever and respiratory infection after recent visits to Wuhan. Total reported cases: 59 Deaths: 0  Jan. 9  China\\'s official XinhuaNews Agency says the preliminary lab tests show the pathogen behind the pneumonia cases is a new type of coronavirus, the same family of viruses behind SARS and MERS. Total reported cases: 59 Deaths: 0  Jan. 11  Wuhan Municipal Health Commission reports China\\'s first death from the new type of coronavirus, a 61-year-old man. Total reported cases:41 (revised downward from previous day) Deaths: 1  Jan. 13  A Chinese woman isquarantined in Thailand with a mystery strain of coronavirus, authorities said on Monday, the first time it has been detected outside China. Total reported cases: 42 (41 in China, 1 in Thailand) Deaths: 1  Jan. 16  Japan confirms its first case of thepneumonia. Total cases: 45 (42 in China, 2 in Thailand, 1 in Japan) Deaths: 1  Jan. 17  A second deathfrom the new coronavirus is reported in China. The U.S. says it will screen passengers for the virus at threeairports with direct flights from Wuhan. Total reported cases: 45 (42 in China, 2 in Thailand, 1 in Japan) Deaths: 2  Jan. 19  A3rd death and more than 100 new cases are announced in China, with reports in Beijing, Shanghai and Shenzhen. Total reported cases: 201 (198 in China, 2 in Thailand, 1 in Japan) Deaths: 3  Jan. 20:  China confirms human-to-human transmission of the new coronavirus, after two people in Guangdong caught the disease from family members who had been to Wuhan. Another death is reported. South Korea confirms its first case. Total reported cases: 221(217 in China,2 in Thailand, 1 in Japan, 1 in South Korea) Deaths: 4  Jan. 21  The first U.S. case of theChina coronavirus is confirmed, a man in his 30s in the Seattle area. Taiwan also confirms its first case. Countries in Asia and around the globe begin body temperature checks at airports, railway stations and along highways in hopes of catching people carrying the virus. Total reported cases: 446 (440 in China, 2 in Thailand, 1 in Japan, 1 in South Korea, 1 in the U.S. and 1 in Taiwan) Deaths: 9  Jan. 22  Hong Kong quarantines a man after itsfirst preliminary positive test for the new coronavirus. Macao also reports onecase. The Public Health Agency of Canada starts asking travellers if they have been in Wuhan, China, in the past 14 days.Signs are planned forairports in Toronto, Montreal and Vancouver to remind passengers to talk to border officials if they have flu-like symptoms. Total reported cases: 581(571in China, 4 in Thailand, 1 in Japan, 1 in South Korea, 1 in the U.S..1 in Taiwan, 1 in Hong Kong and 1 in Macao) Deaths: 17  Jan. 23  China closes access to Wuhan and is poised to lock down two neighbouring cities. The City of Beijing cancels major public events including two well-known Lunar New Year temple fairs. Singapore reports its first case. WHO says the new coronavirus is not a global health emergency, but could become one. The Canadian government urgestravellers to\"exercise a high degree of caution in China due to the risk of arbitrary enforcement of local laws,\" a notice that isone level belowan officialtravel advisory. Total reported cases:About 650 Deaths: 18  Jan. 24  China\\'s National Health Commission confirmsthe first death outside the central province of Hubei. U.S. reports its second case. Total reported cases:830 Deaths:25  Jan. 25  In Canada, health officials confirmthe country\\'s first \"presumptive\" caseof coronavirus in Toronto. A man in his 50s travelled from China to Toronto on Jan. 22 and \"within a day\" became \"quite ill\" and was admitted to hospital. Total reported cases: 1,287 Deaths: 41  Jan. 26  China\\'s health minister says the ability of the virus to spread is getting stronger and the number of infections could rise. Wuhan bansmost vehicle use, including private cars, in downtown areas. Thailand reports a total of eight infection cases; Taiwan, Australia, Singapore and Malaysia reports four; the U.S. France andJapan 3; Vietnam and South Korea two apiece andCanada and Nepal one. Total reported cases: More than 2,000 globally, most of them in China Deaths: 56 in China  Follow the spread of the new coronavirus with this interactive map'}},\n",
       "  {'_index': 'covidnews',\n",
       "   '_type': 'articles',\n",
       "   '_id': '925',\n",
       "   '_score': 6.3977532,\n",
       "   '_source': {'title': 'What you need to know now about the coronavirus: New method of diagnosing illness',\n",
       "    'description': 'A spike in new cases and deaths stems from casting net wider so fewer cases are missed. Stay up to date on the outbreak from novel coronavirus and what Canadians need to know.',\n",
       "    'text': 'The latest:  Death toll reaches1,367, up 254 from the previous day. Apparent spike in cases and death toll relates to new method of diagnosis for COVID-19. China has worked through backlog of cases from earlier in the outbreak, some now clinically confirmed positive. China now has59,805 laboratory and clinically confirmed cases, up15,152. Diamond Princess cruise ship docked in Yokohama, Japan, is largest cluster outside of China. 12 Canadians who were aboardhave the illness. No additional countries are reporting cases.   A new method of diagnosing the illness caused by novel coronavirusis allowing front-line medical workers in China to get patientsinto care more quickly andpublic health departments to then track down people who may have come into contact with the virus. At a World Health Organization newsconference Thursday, Dr. Mike Ryan,executive director ofWHO\\'s emergency program, explained an apparent spike in deaths and new cases reported by Chinese authorities. China now has 59,805 confirmed cases, up 15,152 from Wednesday, and the number of deaths increased by 254 to reach 1,367. The increase comes after many suspect cases from Hubei province that had been backlogged werereclassified using patients\\' chest images, rather than waiting for laboratory confirmation, said Ryan. So, the increase is largely due to a change in how cases are being diagnosedand reported,he said. A mother and toddler wear masks and plastic rain coats in an attempt to protect from exposure to the novel coronavirus at the Shanghai railway station on Thursday. (Aly Song/Reuters) \"Crucially, we understand that most of these cases relate to a period going back over days and weeks and are retrospectively reported as cases, sometimes back to the beginning of the outbreak itself,\" he said. \"We\\'ve seen this spike in the number of cases reported in China, but this does not represent a significant change in the trajectory of the outbreak.\" The number of countries reporting cases of the illness has held steady at 24. Higher numbers may contain some good news Medical expertssay the higher numberslikely reflect a more accurate picture of the illness. Dr. Mike Tildesley, an associate professor at the University of Warwick in the U.K. who studies zoonoticdiseases — those that spread from animals to humans — said many of these new cases werepreviously defined as \"probable\" cases. \"Given this change in classification, it is unsurprising that we have seen an increase in confirmed cases, but this does not necessarily mean that we are seeing an increase in the rate of infection,\" he said in a written statement. \"What it does mean is that we may now have a more accurate measure of the true extent of the outbreak, which in the longer term will improve our ability to predict how the virus may spread in the future.\" Indeed, cases are not rising dramatically outside China apart from among passengers on a cruise liner now quarantined off the Japanese port of Yokohama,said Ryan. 12 Canadians test positive on cruise ship A further 44 cases were reported on the vessel Thursday, raising the total to 219. Authorities said some elderly people would finally to be allowed to disembark on Friday. Foreign Affairs MinisterFrançois-Philippe Champagnesaid12 Canadians who were aboard the ship have contracted COVID-19. Foreign Affairs Minister François-Philippe Champagne says 12 Canadians aboard the Diamond Princess cruise ship have contracted the virus. (Sean Kilpatrick/The Canadian Press) They\\'ve sincebeen moved to Japanese health facilities, and at least three require hospitalization, he said. Champagne said emergency response teams and consular officials are in Japan to make sure Canadians are receiving the help they need. \"We know that there are some people who need medications on board, they want to have contact with their families, we\\'re facilitating that,\" Champagne said at a briefing in Senegal, where he is on a diplomatic trip. Passengers of the Diamond Princess cruise ship continue to be quarantined at Daikoku Pier Cruise Terminal in Yokohama, south of Tokyo.  (Kim Kyung-Hoon/Reuters) As for Canadians still in the centre of the viral outbreak, Champagne said all the 400 or so Canadians who wished to leave Hubei, the Chinese province that includes the city of Wuhan, have been repatriated and are quarantined in southern Ontario, at Canadian Forces Base Trenton. The last flight chartered by the Canadian government to evacuate people from Wuhan, which landed at CFB Trenton on Tuesday, was the last the government plans to send to the region. Those Canadians who chose to stay behind in Hubei have been provided with consular services, Champagne said. Death toll steady around 2% Mark Fielder, a professor ofmedical microbiology atLondon\\'sKingston University, said the new clinically confirmed cases are now added to those previously identified only throughnucleic acid-based lab tests. \"I am reassured that despite the rise in numbers, the death rate still stands at around twoper cent,\" said Fielder. Almost 6,000 more coronavirus cases reported in ChinaWHO chief says coronavirus outbreak is \\'public enemy No. 1\\' \"As it stands, I think the data and the situation remain one that we need to have global eyes fixed upon.We should be concerned and take it seriously, but not worry.\"'}},\n",
       "  {'_index': 'covidnews',\n",
       "   '_type': 'articles',\n",
       "   '_id': '39',\n",
       "   '_score': 6.314409,\n",
       "   '_source': {'title': 'Wuhan health officials raise death toll linked to COVID-19 by 50%',\n",
       "    'description': \"At least 50 per cent more people died in China's virus epicentre of Wuhan than previously counted, with state media on Friday attributing the initial undercount to how overwhelmed the health system was coping with thousands of sick patients.\",\n",
       "    'text': 'At least 50 per cent more people died in China\\'s virus epicentre of Wuhan than previously counted, with state media on Friday attributing the initial undercount to how overwhelmed the health system was coping with thousands of sick patients. Wuhan, the capitalofHubei province, saw an addition of 1,290 victims Thatraisedits death toll to 3,869 — the most in China — and confirmedsuspicions that far more people died in the city where the illness began than has been previously announced. The total confirmed cases in the city of 11 million people also increased by 325 to 50,333, accounting for about two-thirds of China\\'s total 82,367 announced cases. The revised Wuhan figures raised China\\'s death toll to 4,632, up from 3,342 announced by the National Health Commission on Friday morning.  The official Xinhua News Agency quoted an unidentified official with Wuhan\\'s epidemic and prevention and control headquarters as saying that during the early stages of the outbreak, \"due to the insufficiency in admission and treatment capability, a few medical institutions failed to connect with the disease prevention and control system in time, while hospitals were overloaded and medics were overwhelmed with patients. \"As a result, belated, missed and mistaken reporting occurred,\" the official was quoted as saying. A woman who recovered from the COVID-19 coronavirus infection is disinfected by volunteers as she arrives at a hotel for a 14-day quarantine March 1 after being discharged from a hospital in Wuhan. The revised Wuhan figures, released Friday, raised China\\'s death toll to 4,632, up from 3,342. (STR/AFP via Getty Images) The new figures were compiled by comparing data from Wuhan\\'s epidemic prevention and control system, the city funeral service, the municipal hospital authority, and nucleic acid testing to \"remove double-counted cases and fill in missed cases,\" the official was quoted as saying. Deaths occurring outside hospitals had not been registered previously and some medical institutions had confirmed cases but reported them late or not at all, the official said. WHO under fire Questions have long swirled around the accuracy of China\\'s case reporting, with Wuhan in particular going several days in January without reporting new cases or deaths. That has led to accusations that Chinese officials were seeking to minimize the impact of the outbreak and wasting opportunities to bring it under control in a shorter time. A group of eight medical workers, including a doctor who later died of the virus, were even threatened by police for trying to alert people about the disease over social media. China didn\\'t warn public of likely pandemic for 6 crucial days Chinese officials have stridently denied covering up cases, saying their reports were accurate and timely. However, the U.N.\\'s World Health Organization has come under criticism for defending China\\'s handling of the outbreak and President Donald Trump is suspending funding to the WHO over what he alleges is its pro-China bias. Trump\\'s blaming of China came after he initially spent weeks showeringpraise on Chinese President Xi Jinping over the country\\'s performance in the pandemic, while largely dismissing the risk it posed to the U.S. INTERACTIVEAre Canada\\'s efforts to flatten the curve working?  At the start of the outbreak, China proceeded cautiously and largely in secret, emphasizing political stability and the leadership of Xi\\'s ruling Communist Party. More than 3,000 people had been infected before China\\'s government told the public that a pandemic was likely, something officials had concluded six days earlier. The risk of sustained human-to-human transmission was also downplayed, even while infected people entered hospitals across the country and the first case outside China was found, in Thailand. Officials even sought to shift blame to the U.S. for the outbreak, with foreign ministry spokesman Zhao Lijian tweeting without evidence on March 12: \"It might be US army who brought the epidemic to Wuhan ... US owe us an explanation!\"'}}]}"
      ]
     },
     "execution_count": 126,
     "metadata": {},
     "output_type": "execute_result"
    }
   ],
   "source": [
    "res[\"hits\"]"
   ]
  },
  {
   "cell_type": "code",
   "execution_count": 190,
   "metadata": {},
   "outputs": [
    {
     "name": "stdout",
     "output_type": "stream",
     "text": [
      "id: 4467, score: 15.379805\n",
      "No, you can't make an N95 mask out of a bra\n",
      "\n",
      "id: 5994, score: 11.361135\n",
      "Manitoba forecast eases fears of major flooding during COVID-19 pandemic\n",
      "\n",
      "id: 900, score: 9.870743\n",
      "No running water on Air Canada flight from China during worsening coronavirus outbreak\n",
      "\n",
      "id: 5220, score: 9.804422\n",
      "300 Cache Creek residents on evacuation alert due to fear of flooding\n",
      "\n"
     ]
    }
   ],
   "source": [
    "for hit in res[\"hits\"][\"hits\"]:\n",
    "    print(\"id: {}, score: {}\".format(hit[\"_id\"], hit[\"_score\"]))\n",
    "    print(hit[\"_source\"][\"title\"])\n",
    "    print()"
   ]
  },
  {
   "cell_type": "code",
   "execution_count": 37,
   "metadata": {
    "scrolled": true
   },
   "outputs": [],
   "source": [
    "T = df.loc[12,\"text\"]"
   ]
  },
  {
   "cell_type": "code",
   "execution_count": 35,
   "metadata": {},
   "outputs": [],
   "source": [
    "from spacy.lang.en import English\n",
    "nlp = English()\n",
    "nlp.add_pipe(nlp.create_pipe('sentencizer'))\n",
    "MAX_LEN = 512"
   ]
  },
  {
   "cell_type": "code",
   "execution_count": 97,
   "metadata": {},
   "outputs": [],
   "source": [
    "def solve_window(model, claim : str, text : str):\n",
    "    pass\n",
    "\n",
    "\n",
    "def make_windows(text : str):\n",
    "    doc = nlp(text)\n",
    "    sentences = [sent.string.strip() for sent in doc.sents]\n",
    "    total_sents = len(sentences)\n",
    "\n",
    "    # Checking if any sentence has a length > MAX_LENGTH if it has then truncate the sentence \n",
    "\n",
    "\n",
    "    truncate = lambda sent : sent[:MAX_LEN]\n",
    "    sentences = list(map(truncate,sentences))\n",
    "\n",
    "    \n",
    "    sent_lengths = [len(s.split()) for s in sentences]\n",
    "    \n",
    "    chunks = []\n",
    "\n",
    "    window_start = 0\n",
    "    window_end = 0\n",
    "    word_count = 0\n",
    "    while window_end < total_sents:\n",
    "\n",
    "        if(sent_lengths[window_end] + word_count > 512):\n",
    "            temp_str = \"\"\n",
    "            for i in range(window_start, window_end):\n",
    "                temp_str += sentences[i]\n",
    "            chunks.append(temp_str)\n",
    "            \n",
    "            window_start += 1\n",
    "            word_count -= sent_lengths[window_start]\n",
    "        else:\n",
    "            word_count += sent_lengths[window_end]\n",
    "            window_end += 1\n",
    "    \n",
    "    \n",
    "    \n",
    "    temp_str = \"\"\n",
    "    for i in range(window_start, window_end):\n",
    "        temp_str += sentences[i]\n",
    "        \n",
    "    chunks.append(temp_str)\n",
    "    return chunks\n",
    "                \n",
    "\n"
   ]
  },
  {
   "cell_type": "code",
   "execution_count": 102,
   "metadata": {},
   "outputs": [],
   "source": [
    "from tqdm import tqdm"
   ]
  },
  {
   "cell_type": "code",
   "execution_count": 107,
   "metadata": {},
   "outputs": [
    {
     "name": "stderr",
     "output_type": "stream",
     "text": [
      "100%|█████████████████████████████████████████████████████████████████████████████| 6788/6788 [00:42<00:00, 159.36it/s]\n"
     ]
    }
   ],
   "source": [
    "sm= 0\n",
    "for T in tqdm(df.loc[:,\"text\"]):\n",
    "    W = make_windows(T)\n",
    "    sm += len(W)"
   ]
  },
  {
   "cell_type": "code",
   "execution_count": 108,
   "metadata": {},
   "outputs": [
    {
     "data": {
      "text/plain": [
       "14.831761932822628"
      ]
     },
     "execution_count": 108,
     "metadata": {},
     "output_type": "execute_result"
    }
   ],
   "source": [
    "sm/len(df)"
   ]
  },
  {
   "cell_type": "code",
   "execution_count": 111,
   "metadata": {},
   "outputs": [],
   "source": [
    "sm = 0\n",
    "for sent in df.loc[:,\"text\"]:\n",
    "    if(len(sent.split()) > 512):\n",
    "        sm += 1"
   ]
  },
  {
   "cell_type": "code",
   "execution_count": 112,
   "metadata": {},
   "outputs": [
    {
     "data": {
      "text/plain": [
       "4554"
      ]
     },
     "execution_count": 112,
     "metadata": {},
     "output_type": "execute_result"
    }
   ],
   "source": [
    "sm"
   ]
  },
  {
   "cell_type": "code",
   "execution_count": 146,
   "metadata": {},
   "outputs": [
    {
     "name": "stdout",
     "output_type": "stream",
     "text": [
      "Five British nationals, including a nine-year-old child, have been diagnosed with the coronavirus in France, after staying in the same ski chalet and coming into contact with a person who had been in Singapore, Health Minister Agnès Buzyn said on Saturday. The total number of people infected with the virus in France has now reached 11. Buzyn said the group of people newly infected with the virus were not in a serious condition. They had formed \"a cluster, a grouping around one original case\" after staying in the same chalet, in the Contamines-Montjoie resort in Savoie in eastern France. \"That original case was brought to our attention last night, it is a British national who had returned from Singapore where he had stayed between January 20 and 23, and he arrived in France on January 24 for four days,\" Buzyn said. As China deaths hit 722, WHO warns of global shortage of coronavirus protective equipmentWhat we know so far about the coronavirus Two of the apartments in the ski chalet were being examined, another health official told the televised news conference. 2 schools closed The chalet where they were staying housed a British family that lives in Contamines and another family of British vacationers. The sickened child lives in Contamines and attends a local school, and took French classes at another local school, regional officials told a news conference Saturday. Both schools will be closed, and the pupils will be monitored for signs of the virus.  The infected Britons had been hospitalized overnight in the region, the ministry added. The virus has killed more than 720 people and infected over 34,500 since late December, mostly in China's Hubei province and elsewhere across mainland China.\n"
     ]
    }
   ],
   "source": [
    "print(df.loc[398,\"text\"])"
   ]
  },
  {
   "cell_type": "code",
   "execution_count": 145,
   "metadata": {},
   "outputs": [
    {
     "data": {
      "text/plain": [
       "'The latest:  Worldwide COVID-19 death toll tops 100,000. U.S. sees more than 35,000 new cases and 2,108 deaths on Friday. Government documents reveal a slow start to Canada\\'s COVID-19 response. Canadian military intelligence unit issued warning about Wuhan outbreak back in January. Emergencies Act talks rejected by premiers, deemed a distraction. Health experts are calling for increased COVID-19 testing—so why isn\\'t Canada testing everyone? INTERACTIVE |Tracking the coronavirus in Canada.  The worldwide death toll from the coronavirus topped 100,000 on Friday, with the U.S. seeing more than 2,000 deaths in one day,according to the running tally kept by Johns Hopkins University. The sad milestone comes as Christians around the globe mark a Good Friday unlike any other —in front of computer screens instead of in church pews. Meanwhile, some countries are tiptoeing toward reopening segments of their battered economies. In Canada, a physician who tweeted about an elderly patient who chose to forgo a ventilator is now asking the government not to forget about community doctorsduring the pandemic. On Thursday, Dr. Nadia Alam of Georgetown, Ont., posted a tweet about a 72-year-old man with worsening COVID-19 symptoms she treated that day. Despite the fact that his condition was quickly worsening, Alam said, he did not want to be hooked up to the machine sometimes critical to keep COVID-19 patients alive. \"He turned to me and said \\'If I go, if I die from this, I would rather die looking at the sky. I would rather die looking at my family,\\'\" Alam told CBC\\'s RosemaryBarton in a Friday interview. I’m starving. Thirsty. Tired. I wore my N95 mask for 7 hours straight. Careful to conserve my <a href=\"https://twitter.com/hashtag/PPE?src=hash&amp;ref_src=twsrc%5Etfw\">#PPE</a>.<br><br>Then I go see a 72 yr old man with poor lung function &amp; <a href=\"https://twitter.com/hashtag/COVID%E3%83%BC19?src=hash&amp;ref_src=twsrc%5Etfw\">#COVIDー19</a>, on oxygen.<br><br>“I don’t want to die on a machine. I want to see the blue sky.”<br><br>So I sat. And we watched the sky. <a href=\"https://t.co/jDoQpIpRwn\">pic.twitter.com/jDoQpIpRwn</a>&mdash;@DocSchmadia Instead,Alam sat with the man, and called his family. That tweet struck a chord with Canadians as it was shared widely online, but Alam saidthere is another pressing issue she would like addressed. While hospitals are already struggling with dangerously low supplies of personal protective equipment like gowns and masks, Alam saidmany family doctors have already run out completely. And while the government has launchedmeasures to supply hospitals, it\\'s important local doctors have the equipment they need as well. WATCH | Doctor talks about the \\'desperation, sadness and hope\\' around putting COVID-19 patients on life support Dr. Nadia Alam of Georgetown, Ont., describes how one elderly patient didn\\'t want to be on a ventilator and how her children are afraid that she, too, may get sick. 10:28 \"I know that you\\'re focused on the hospitals — please don\\'t forget about the communities,\" Alam said, \"because that is where we take care of our pregnant patients, that is where we take care of little kids, that is where I take care of my patients with heart failure and cancer, for pain control.\" Earlier on Friday, Prime Minister Trudeau addressed the issue of health-care workers contracting the virus, and the need for hospital workers to have personal protective equipment. He saidhealth workers need to know \"that we have their back\" and have the support they need. Other health workers have alreadyexpressed concern about shortages of the protective gear they need.  Thefts in hospitals lead to lock up of masks, protective gear amid COVID-19 supply shortage  The daily briefing outside Rideau Cottage also looked at financial assistance to businesses and the supply of personal protective equipment, but the prime minister also took questions about testing, saying that expanded testing will be a \"key part\" of the path forward. After facing calls for more data about what was driving decisions, Canadian federal health officials on Thursday presented modelling information on how the outbreak could unfold. Dr. Theresa Tam, Canada\\'s chief public health officer, said that the models aren\\'t crystal balls — but they \"help us to plan and they tell us that our collective actions can have a direct and significant impact on the epidemic trajectory.\" WATCH | Trudeau lays groundwork for never-used Emergencies Act: Sources tell CBC News that the federal government has sent a letter to provinces and territories as part of the consultation period — a required step before triggering a public welfare emergency. 6:21 The models suggest that even with stringent public health measures, Canada could see 4,400 deaths linked to the growing epidemic. That figure — the most optimistic in the models presented — is just one of the projections offered by officials, who stressed that how people behave now will be critical to how the epidemic evolves. Health officials projected that 11,000 Canadians would die over the course of the pandemic if 2.5 per cent of the population was infected, a number that increased to 22,000 if the infection rate hit five per cent of the population. All the projections are \"highly sensitive\" to behaviours, Tam said as health officials outlined models with strict measures as well as offering a glimpse into what might have happened without controls.  Get the details of the models and projections and learn more about how to interpret COVID-19 disease models.  Public health officials have urged people to stay home, avoid large gatherings and keep up physical distancing, handwashing and other measures. Trudeau said that people generally come together at this time of year, \"but this weekend is going to be very different.\" Families and religious communities will need to find ways to connect despite physical separation. Even Easter egg hunts will be different, Trudeau said, as families stay home. WATCH | Public health officials want people to stay apart to slow the spread of COVID-19.Here\\'s a look at how to do that in some tricky situations:  Physical distancing has radically changed how we socialize. But there’s still some scenarios where it’s difficult to limit our physical contact with others. Here’s how to best navigate them. 3:23 His remarks came a day after he cautioned that public health measures won\\'t be lifted any time soon, a subject he returned to Friday. He said the government is talking with provinces, experts and industry about how and when restrictions might be lifted— but noted that Canada is still in the \"first phase\" of the spread of the virus. He said it\\'s possible Canada would be out of the first wave this summer, and at that point a loosening of some rules could occur. \"We\\'ll have to be very careful about how we do that,\" he said, noting that the country would still need to be vigilant about a resurgence of the virus. WHO cautions against easing movement restrictions Elsewhere, as weeks of lockdowns were extended in nation after nation, world governments were pressed to ease restrictions on key businesses and industries. After a two-week freeze on all non-essential economic activity, Spain decided to allow factories and construction sites to resume work on Monday, while schools, most shops and offices will remain closed. In Italy, the industrial lobbies in regions representing 45 per centof its economic output urged the government to ease its two-week lockdown on all non-essential manufacturing, saying the country \"risks definitively shutting down its own motor, and every day that passes the risk grows not to be able to restart it.\" The head of the World Health Organization, Tedros Adhanom Ghebreyesus, warned that a premature lifting of restrictions could \"lead to a deadly resurgence.\" WATCH |WHO warns against lifting restrictions too quickly The World Health Organization says that lifting restrictionsprematurelyduringthe coronavirus pandemic could lead to a deadly resurgence of the virus. 1:35 He said there had been a \"welcome slowing\" of the epidemicinsome European countries —Italy, Germany, Spain and France —butthere had been an \"alarming acceleration\" elsewhere includingcommunity transmission in 16 countries of Africa. The novel coronavirus,known as SARS-CoV2,was first reported in China in late 2019. There is no known cure or vaccine for COVID-19, the illness caused by the virus. While most people who contract the illness will experience mild to moderate symptoms, health officials have cautioned that certain segments of the population, including the elderly and people with pre-existing health issues, face a higher risk of severe disease and death.   Canada lost more than 1 million jobs last month as COVID-19 struck   The Public Health Agency of Canada, which has been posting updated information about the virus, says that COVID-19 is a \"serious health threat.\" The agency says that risk varies between communities but notes that the overall risk to Canadians is \"considered high.\" Read on for a look at what\\'s happening in Canada and around the world. Here\\'s what\\'s happening in the provinces and territories As of midnight ET on Friday, Canada had more than 22,100 confirmed and presumptive cases of COVID-19. The provinces and territories that provide data on recovered cases listed more than 6,000 as resolved. A CBC News tally of deaths, which is based on public health information and reporting, lists 621COVID-19-related deaths in Canada, as well as two coronavirus-linked deaths of Canadians abroad. British Columbia\\'s top doctor says shedoesn\\'t plan to build out projections around possible COVID-19 death tolls.\"Our modelling is about what we need to prepare for,\" Dr. Bonnie Henry said. \"As you can see, deaths are not something that can be predicted. It depends on how your outbreak evolves.\"Read more about what\\'s happening in B.C. A person wearing a P100 respirator crosses a street in the Downtown Eastside of Vancouver on Friday. (Darryl Dyck/Canadian Press) Alberta reported its highest single-day death toll with seven fatalities. They include four new deaths at the McKenzie Towne continuing care centre in Calgary, bringing that facility\\'s total to 17. Meanwhile, Alberta\\'s chief medical officer, Dr. Deena Hinshaw, saidnew mandatory mask requirements are being put in place for health workers at long-term care sites, and staff at continuing care homes will be prevented from moving from facility to facility starting next week. Read more about what\\'s happening in Alberta.   Here are the latest COVID-19 statistics for Alberta — and what they mean   Alberta reported four new deaths at the McKenzie Town continuing care centre in Calgary on Friday, bringing that facility\\'s total to 17.  (Jeff McIntosh/The Canadian Press) Saskatchewan announced $50 million in funding to help small and medium businesses impacted by the fallout from the COVID-19 outbreak.Read more about what\\'s happening in Saskatchewan, including what the premier has said about whether the Emergencies Act should be used. In Manitoba, aWinnipeg man in his 70s has died, bringing the province\\'s number of deaths to four.Additionally,three people linked to the National Microbiology Laboratory in Winnipeg have tested positive.They are all in self-isolation and Manitoba Health is doing contact tracing, an email obtained by CBC News says. Read more about what\\'s happening in Manitoba. A nearly empty downtown Winnipeg is seen on Friday. (Trevor Brine/CBC) The Ontario government on Saturday said it has extended until April 23 all emergency orders in place under a section of the province\\'s Emergency Management and Civil Protection Act, declared on March 17 to help slow the spread of infection. That means the continued closure of amenities in parks and recreational areas, non-essential workplaces, public places and bars and restaurants, along with restrictions on social gatherings and the prohibition of price-gouging. Read more about what\\'s happening in Ontario.   Almonte, Ont., care home resident feels in the dark about COVID-19 outbreak as facility pledges more transparency   Schools in Quebec could reopen as early as May, Premier François Legaultsaid Friday. Hecited the latest numbers on the coronavirus pandemic as evidence that the first wave is stabilizing, though the province continues to have the most cases in the country.Read more about what\\'s happening in Quebec, including details about extra staff being sent to hard-hit nursing homes. Paramedics take a patient from an ambulance at the Verdun Hospital in Montreal on Friday. (Graham Hughes/The Canadian Press) New Brunswick Premier Blaine Higgs said Thursday that there\\'s hope the province could return to \"normal in some form this summer.\"Higgs said that reopening businesses will depend on how the situation evolves in the coming weeks and months and noted that the economy won\\'t reopen fully until a vaccine is developed. Read more about what\\'s happening in N.B. Nova Scotia doesn\\'t plan to lift restrictions in place because of COVID-19 until at least June.Dr. Robert Strang, the province\\'s top health officer, said the summer \"is going to look somewhat different than most summers.\" Read more about what\\'s happening in N.S. An emergency alert is seen on a phone in Dartmouth, N.S., on Friday. (Andrew Vaughan/Canadian Press) Prince Edward Island has created a$750,000 fund to help farmers as they face the fallout from the novel coronavirus.Read more about what\\'s happening on P.E.I. Newfoundland and Labrador\\'s health minister is warning people that the province\\'s peak is expected later than other provinces—and says that restrictions could be in place for months to come. Read more about what\\'s happening in N.L. The Yukon government is offering financial assistance for eligible businesses that have been impacted by COVID-19 and the measures to fight it.Read more about what\\'s happening across Canada\\'s North. Here\\'s a look at what\\'s happening in the United States From The Associated Press and Reuters, updated at 11 p.m. ET New U.S. government figures show novel coronavirus infections will spike during the summer if stay-at-home orders are lifted after 30 days as planned, the New York Times reported on Friday. The projections outline different scenarios. But if the 30-day stay-at-home order is lifted, the death total is estimated to reach 200,000, the Times said, \"even if schools remain closed until summer, 25 per cent of the country continues to work from home and some social distancing continues.\" A person leaves with a bag of donated groceries from a van outside a church in Lawrence, Mass., on Friday. (Elise Amendola/Associated Press) Despite that, U.S. President Donald Trump gave a much different projection during the daily White House coronavirus briefing. Hesaidhe thinks the United States will lose fewer than the 100,000 lives initially projected, and that he will soon be announcing a secondcoronavirus task forceto focus onre-opening the country after the worst of the pandemicpasses. White House physicians Dr. Anthony Fauci andDr. Deborah Birxhave meanwhile advised Americans to maintain strict social distancing measures until those restrictions are lifted. Both pointed to a levelling of the infection curve, though both said it hasn\\'t yet\"reached the peak.\" Earlier Friday, Trump said on Twitter a funding measure to help small businesses should be approved by Congress with no additions, as a partisan skirmish in the U.S. Senate cut short a Republican effort to speed up$250 billion US in new assistance. \"Democrats are blocking a [$251 billion] funding boost for Small Businesses which will help them keep their employees. It should be for only that reason, with no additions. We should have a big Infrastructure Phase Four with Payroll Tax Cuts & more. Big Economic Bounceback!\" Trump said in a Twitter post. Workers clean the Hazleton Transit Center in Hazleton, Pa., on Friday. (Warren Ruda/Standard-Speaker via AP) U.S. Treasury SecretarySteven Mnuchin and congressional leaders areset to hold bipartisannegotiations on a new coronavirus-response bill with the goal ofreaching a deal by early next week, Senate Democratic LeaderChuck Schumer said on Friday. In New York City, officials haveshortened the amount of time unclaimed remains will be held before they are buried in the city\\'s public cemetery, as the city struggles to deal with a mounting death toll and dwindling morgue space. Under the new policy, the medical examiner\\'s office will keep bodies in storage for just 14 days before they\\'re buried in the city\\'s potter\\'s field on Hart Island. WATCH |Drone footage shows bodies in caskets being buried in New York City: New York City is burying more of its dead in a potter\\'s field on Hart Island amid a surge in deaths due to the coronavirus. 3:24 After three days of record daily deaths, New York state saw 777 fatalities on Friday —down from 799 a day earlier —bringing the state\\'s tollto more than 7,800. In Michigan, more than 200 people died from COVID-19 in the last day. \"We are not out of the woods yet,\" Governor Gretchen Whitmer said. According to a tally by Johns Hopkins University, the U.S. saw more than 35,000 new cases on Friday, with2,108 deaths. The U.S. now has almost half a million cases and more than18,500 deaths, according to the tally.Only Italy has recorded more fatalities. Here\\'s a look at what\\'s happening around the world From The Associated Press and Reuters, updated at 7:45 p.m. ET Italian authorities are using helicopters, drones and stepped-up police checks to make sure Italians don\\'t slip out of their homes for the Easter holiday weekend.The virus has killed more than 18,800 people in Italy and over 95,000 worldwide, according to data gathered by Johns Hopkins University. The coronavirus has claimed at least 15,843 lives in Spain and has officially infected 152,446 people, although both the rate of contagion and mortality are dropping, official health ministry data showedFriday. The 605 new deaths recorded overnight were the lowest increase since March 24. Health-workers cry during a memorial for their colleague who died of COVID-19 at the Severo Ochoa Hospital in Leganes, Spain, on Friday. (Manu Fernandez/The Associated Press) There were encouraging signs in France, where the national health agency saw indications the crisis is stabilizing, though more than 13,000 lives have been lost. The health ministry said 7,004 people were in intensivecare, a fall of 62 or 0.9 per cent following a 1 per centfall on Thursday. The British government says the U.K. has recorded 980 new deaths of people with the coronavirus, an increase from 881 deaths reported in the previous 24 hours and the highest daily total to date. Health Secretary Matt Hancock says that as of Friday, 8,958 patients have died in hospital after testing positive for the coronavirus in the U.K. British Prime Minister Boris Johnson,meanwhile, is in \"very good spirits\" after returning to a hospital ward from intensive care, but his recovery is at an early stage, his spokesperson said on Friday. People observe social distancing as they queue up to shop outside a branch of the Tesco supermarket chain in west London on Friday. (Matt Dunham/Associated Press) Pope Francis presided over a torch-lit Good Friday procession in an otherwise empty St. Peter\\'s Square, with nurses and doctors among those holding a cross as the COVID-19 pandemic upended the traditional ceremony at Rome\\'s Colosseum. There are more than 134,000 confirmed cases of the coronavirus in the Middle East, including over 5,300 fatalities. Some 4,200 of those deaths are in Iran, which has the largest outbreak in the region. Authorities there had recorded over 68,000 total cases as of Friday. Iran\\'s Supreme Leader Ayatollah Ali Khamenei suggested mass gatherings may be barred through the holy Muslim fasting month of Ramadan, which runs from late April through most of May. Turkey announced a two-day lockdown in Istanbul, Ankara and other major cities as the country\\'s death toll rose above 1,000.The move, which covers 31 provinces, scales up restrictionsunder which people belowthe age of 20 and senior citizens havebeen told to stay at home. A commuter wearing a mask travels on a metro train in Istanbul on Friday. (Emrah Gurel/Associated Press) Yemen reported its first case on Friday, as aid groups try to prepare for an outbreak where war has shattered the health system and spread hunger and disease.  War-torn Yemen confirms 1st coronavirus case; braces for outbreak South Korea reports recovered coronavirus patients testing positive again  China\\'s Wuhancity, where the pandemic began, is stilltesting residents regularly despite relaxing its tough two-month lockdown, with the country wary of a rebound as it sets its sights on normalizing the economy. The total number of novelcoronavirus infections in Japan hit 6,003 on Friday, public broadcasterNHKreported. Early voting in South Korea\\'s parliamentary election began on Friday with coronavirus patients casting ballots at disinfected polling stations. South Korean President Moon Jae-in wears a face mask as he enters into a voting booth to cast his early vote for the upcoming parliamentary election at a polling station in Seoul on Friday. (Lee Jin-wook/Yonhap via AP) All Botswana\\'s parliamentarians, including the president, will be quarantined for two weeks and tested, after a health worker screening lawmakers for the virus tested positive. In the Kenyan capital of Nairobi, people desperate for food stampeded, pushing through a gate at a district office in the Kibera slum. Police fired tear gas, injuring several people. The epidemic has so far infected over 440 people in Burkina Faso, including six government ministers, and killed 24. WATCH |WHO raises concern about coronavirus escalation in Africa The World Health Organization is increasingly concerned about the spread of the coronavirus in Africa, where rural areas are particularly vulnerable. 1:09   Countries in sub-Saharan Africa may face \\'huge peak\\' in coronavirus cases \\'very soon,\\' WHO warns   Chile will start handing out certificates to people who have recovered that will exempt them from adhering to quarantines or other restrictions. Mexico has recorded its first two deaths of pregnant women from the coronavirus as the reported death toll reached 194, the health ministry said Brazil\\'sHealth Ministry says a teenager from an Indigenous tribe has died of coronavirus, marking the first resident of an Indigenous community to die from COVID-19 andraising alarm about the spread of the virus in the country\\'s protected lands. Meanwhile,PresidentJair Bolsonaro took to the streets of Brasilia on Friday, drawing crowds and greeting followers in his latest public pushback against social isolation measures. Volunteers spray disinfectant in an alley at the Santa Marta slum in Rio de Janeiro on Friday. (Leo Correa/Associated Press)'"
      ]
     },
     "execution_count": 145,
     "metadata": {},
     "output_type": "execute_result"
    }
   ],
   "source": [
    "df.loc[123,\"text\"].replace(\"\\xa0\",\"\")"
   ]
  },
  {
   "cell_type": "code",
   "execution_count": 1,
   "metadata": {},
   "outputs": [],
   "source": [
    "import requests\n",
    "from bs4 import BeautifulSoup\n",
    "import re\n",
    "import newspaper\n",
    "from collections import deque\n",
    "Article = newspaper.Article\n",
    "import sys\n",
    "from tqdm import tqdm\n",
    "import pickle\n",
    "import os\n"
   ]
  },
  {
   "cell_type": "code",
   "execution_count": 2,
   "metadata": {},
   "outputs": [],
   "source": [
    "def save_dict(obj, path ):\n",
    "    with open(path, 'wb') as f:\n",
    "        pickle.dump(obj, f, pickle.HIGHEST_PROTOCOL)\n",
    "\n",
    "def load_dict(path):\n",
    "    with open(path, 'rb') as f:\n",
    "        return pickle.load(f)\n",
    "\n",
    "\n"
   ]
  },
  {
   "cell_type": "code",
   "execution_count": 48,
   "metadata": {},
   "outputs": [],
   "source": [
    "class LinkExtractor:\n",
    "    def __init__(self, name : str, base_url : str, domain_name : str = None,\n",
    "                 max_links : int = 100000, avoid_patterns : list = None , accept_if_only_patterns : list = None):\n",
    "        self.name = name\n",
    "        self.base_url = base_url\n",
    "        self.max_links = max_links\n",
    "        self.avoid_patterns = avoid_patterns\n",
    "        self.accept_if_only_patterns = accept_if_only_patterns\n",
    "        if(domain_name == None):\n",
    "            self.domain_name = base_url.split(\"://\")[1]\n",
    "        self.all_urls = set()\n",
    "        \n",
    "        if(avoid_patterns is not None):\n",
    "            for patt in avoid_patterns:\n",
    "                if(type(patt) != type(re.compile(\"type_check\"))):\n",
    "                    assert False , \"avoid_list only takes compiled re objects\"\n",
    "        if(accept_if_only_patterns is not None):\n",
    "            for patt in accept_if_only_patterns:\n",
    "                if(type(patt) != type(re.compile(\"type_check\"))):\n",
    "                    assert False , \"avoid_list only takes compiled re objects\"\n",
    "        \n",
    "        \n",
    "    def __str__(self):\n",
    "        return self.name\n",
    "\n",
    "\n",
    "    \n",
    "    def _does_match_avoid(self,string : str):\n",
    "        if(self.avoid_patterns is None):\n",
    "            return False\n",
    "        for patt in self.avoid_patterns:\n",
    "            if(not patt.fullmatch(string) is None):\n",
    "                return True\n",
    "        \n",
    "        return False\n",
    "            \n",
    "    \n",
    "    def _does_match_accept(self,string : str):\n",
    "        if(self.accept_if_only_patterns is None):\n",
    "            return True\n",
    "        for patt in self.accept_if_only_patterns:\n",
    "            if(patt.fullmatch(string) is not None):\n",
    "                return True\n",
    "        \n",
    "        return False\n",
    "    \n",
    "    def extract_links(self, url: str):\n",
    "        try:\n",
    "            response = requests.get(url, timeout = 1)\n",
    "        except:\n",
    "            return []\n",
    "        if(response.status_code != 200):\n",
    "            return []\n",
    "        soup = BeautifulSoup(response.text)\n",
    "        links = []\n",
    "        for link in soup.findAll('a', attrs={'href': re.compile(\"^http://|^https://\")}):\n",
    "            l = link.get(\"href\")\n",
    "            prefixes = [\"https://\" + self.domain_name , \"http://\" + self.domain_name]\n",
    "            if(l.startswith(prefixes[0]) or l.startswith(prefixes[1])):\n",
    "                links.append(link.get('href'))\n",
    "        return links\n",
    "    \n",
    "    def extract_all_links(self):\n",
    "        # doing a bfs here\n",
    "        \n",
    "        \n",
    "        seen_urls = set()\n",
    "        seen_urls.add(self.base_url)\n",
    "        queue = deque()\n",
    "        queue.appendleft(self.base_url)\n",
    "        \n",
    "        self.all_urls.add(self.base_url)\n",
    "        \n",
    "        while len(queue) > 0 and len(self.all_urls) < self.max_links:\n",
    "            sys.stdout.write('\\r'+ \"total visited = {} found = {}\".format(len(seen_urls), len(self.all_urls)))\n",
    "           # print(len(self.all_urls))\n",
    "            current_url = queue.pop()\n",
    "            urls_local = self.extract_links(current_url)\n",
    "            \n",
    "            for url in urls_local:\n",
    "                if(url not in seen_urls):\n",
    "                    queue.appendleft(url)\n",
    "                    seen_urls.add(url)\n",
    "                    if(self._does_match_accept(url) and not self._does_match_avoid(url)):\n",
    "                        self.all_urls.add(url)\n",
    "        \n",
    "        \n",
    "    \n",
    "    \n",
    "    "
   ]
  },
  {
   "cell_type": "code",
   "execution_count": 49,
   "metadata": {},
   "outputs": [
    {
     "data": {
      "text/plain": [
       "True"
      ]
     },
     "execution_count": 49,
     "metadata": {},
     "output_type": "execute_result"
    }
   ],
   "source": [
    "\"hello world\".startswith(\"hello\")"
   ]
  },
  {
   "cell_type": "code",
   "execution_count": 50,
   "metadata": {},
   "outputs": [],
   "source": [
    "NDTV_extractor = LinkExtractor(name = \"NDTV\", base_url = \"https://www.ndtv.com/\", avoid_patterns = [re.compile(r\".*/page-[0-9]+\"), re.compile(r\".*/video.*\")],\n",
    "                accept_if_only_patterns = [ re.compile(r\".*-[0-9]*\")]\n",
    "             )"
   ]
  },
  {
   "cell_type": "code",
   "execution_count": 66,
   "metadata": {},
   "outputs": [],
   "source": [
    "ITV_extractor = LinkExtractor(name = \"TOI\", base_url = \"https://www.indiatvnews.com/\",\n",
    "                              avoid_patterns = [re.compile(r\".*(/photos|/video|/brand-content).*\")],\n",
    "                              accept_if_only_patterns = [re.compile(r\".*-[0-9]*\")])"
   ]
  },
  {
   "cell_type": "code",
   "execution_count": 67,
   "metadata": {
    "collapsed": true
   },
   "outputs": [
    {
     "name": "stdout",
     "output_type": "stream",
     "text": [
      "total visited = 33115 found = 16154"
     ]
    },
    {
     "ename": "KeyboardInterrupt",
     "evalue": "",
     "output_type": "error",
     "traceback": [
      "\u001b[1;31m---------------------------------------------------------------------------\u001b[0m",
      "\u001b[1;31mKeyboardInterrupt\u001b[0m                         Traceback (most recent call last)",
      "\u001b[1;32m<ipython-input-67-48618ccdb046>\u001b[0m in \u001b[0;36m<module>\u001b[1;34m\u001b[0m\n\u001b[1;32m----> 1\u001b[1;33m \u001b[0mITV_extractor\u001b[0m\u001b[1;33m.\u001b[0m\u001b[0mextract_all_links\u001b[0m\u001b[1;33m(\u001b[0m\u001b[1;33m)\u001b[0m\u001b[1;33m\u001b[0m\u001b[0m\n\u001b[0m",
      "\u001b[1;32m<ipython-input-48-7d9bbd4184e8>\u001b[0m in \u001b[0;36mextract_all_links\u001b[1;34m(self)\u001b[0m\n\u001b[0;32m     76\u001b[0m            \u001b[1;31m# print(len(self.all_urls))\u001b[0m\u001b[1;33m\u001b[0m\u001b[1;33m\u001b[0m\u001b[0m\n\u001b[0;32m     77\u001b[0m             \u001b[0mcurrent_url\u001b[0m \u001b[1;33m=\u001b[0m \u001b[0mqueue\u001b[0m\u001b[1;33m.\u001b[0m\u001b[0mpop\u001b[0m\u001b[1;33m(\u001b[0m\u001b[1;33m)\u001b[0m\u001b[1;33m\u001b[0m\u001b[0m\n\u001b[1;32m---> 78\u001b[1;33m             \u001b[0murls_local\u001b[0m \u001b[1;33m=\u001b[0m \u001b[0mself\u001b[0m\u001b[1;33m.\u001b[0m\u001b[0mextract_links\u001b[0m\u001b[1;33m(\u001b[0m\u001b[0mcurrent_url\u001b[0m\u001b[1;33m)\u001b[0m\u001b[1;33m\u001b[0m\u001b[0m\n\u001b[0m\u001b[0;32m     79\u001b[0m \u001b[1;33m\u001b[0m\u001b[0m\n\u001b[0;32m     80\u001b[0m             \u001b[1;32mfor\u001b[0m \u001b[0murl\u001b[0m \u001b[1;32min\u001b[0m \u001b[0murls_local\u001b[0m\u001b[1;33m:\u001b[0m\u001b[1;33m\u001b[0m\u001b[0m\n",
      "\u001b[1;32m<ipython-input-48-7d9bbd4184e8>\u001b[0m in \u001b[0;36mextract_links\u001b[1;34m(self, url)\u001b[0m\n\u001b[0;32m     52\u001b[0m         \u001b[1;32mif\u001b[0m\u001b[1;33m(\u001b[0m\u001b[0mresponse\u001b[0m\u001b[1;33m.\u001b[0m\u001b[0mstatus_code\u001b[0m \u001b[1;33m!=\u001b[0m \u001b[1;36m200\u001b[0m\u001b[1;33m)\u001b[0m\u001b[1;33m:\u001b[0m\u001b[1;33m\u001b[0m\u001b[0m\n\u001b[0;32m     53\u001b[0m             \u001b[1;32mreturn\u001b[0m \u001b[1;33m[\u001b[0m\u001b[1;33m]\u001b[0m\u001b[1;33m\u001b[0m\u001b[0m\n\u001b[1;32m---> 54\u001b[1;33m         \u001b[0msoup\u001b[0m \u001b[1;33m=\u001b[0m \u001b[0mBeautifulSoup\u001b[0m\u001b[1;33m(\u001b[0m\u001b[0mresponse\u001b[0m\u001b[1;33m.\u001b[0m\u001b[0mtext\u001b[0m\u001b[1;33m)\u001b[0m\u001b[1;33m\u001b[0m\u001b[0m\n\u001b[0m\u001b[0;32m     55\u001b[0m         \u001b[0mlinks\u001b[0m \u001b[1;33m=\u001b[0m \u001b[1;33m[\u001b[0m\u001b[1;33m]\u001b[0m\u001b[1;33m\u001b[0m\u001b[0m\n\u001b[0;32m     56\u001b[0m         \u001b[1;32mfor\u001b[0m \u001b[0mlink\u001b[0m \u001b[1;32min\u001b[0m \u001b[0msoup\u001b[0m\u001b[1;33m.\u001b[0m\u001b[0mfindAll\u001b[0m\u001b[1;33m(\u001b[0m\u001b[1;34m'a'\u001b[0m\u001b[1;33m,\u001b[0m \u001b[0mattrs\u001b[0m\u001b[1;33m=\u001b[0m\u001b[1;33m{\u001b[0m\u001b[1;34m'href'\u001b[0m\u001b[1;33m:\u001b[0m \u001b[0mre\u001b[0m\u001b[1;33m.\u001b[0m\u001b[0mcompile\u001b[0m\u001b[1;33m(\u001b[0m\u001b[1;34m\"^http://|^https://\"\u001b[0m\u001b[1;33m)\u001b[0m\u001b[1;33m}\u001b[0m\u001b[1;33m)\u001b[0m\u001b[1;33m:\u001b[0m\u001b[1;33m\u001b[0m\u001b[0m\n",
      "\u001b[1;32m~\\AppData\\Local\\Programs\\Python\\Python36\\lib\\site-packages\\bs4\\__init__.py\u001b[0m in \u001b[0;36m__init__\u001b[1;34m(self, markup, features, builder, parse_only, from_encoding, exclude_encodings, element_classes, **kwargs)\u001b[0m\n\u001b[0;32m    343\u001b[0m             \u001b[0mself\u001b[0m\u001b[1;33m.\u001b[0m\u001b[0mreset\u001b[0m\u001b[1;33m(\u001b[0m\u001b[1;33m)\u001b[0m\u001b[1;33m\u001b[0m\u001b[0m\n\u001b[0;32m    344\u001b[0m             \u001b[1;32mtry\u001b[0m\u001b[1;33m:\u001b[0m\u001b[1;33m\u001b[0m\u001b[0m\n\u001b[1;32m--> 345\u001b[1;33m                 \u001b[0mself\u001b[0m\u001b[1;33m.\u001b[0m\u001b[0m_feed\u001b[0m\u001b[1;33m(\u001b[0m\u001b[1;33m)\u001b[0m\u001b[1;33m\u001b[0m\u001b[0m\n\u001b[0m\u001b[0;32m    346\u001b[0m                 \u001b[0msuccess\u001b[0m \u001b[1;33m=\u001b[0m \u001b[1;32mTrue\u001b[0m\u001b[1;33m\u001b[0m\u001b[0m\n\u001b[0;32m    347\u001b[0m                 \u001b[1;32mbreak\u001b[0m\u001b[1;33m\u001b[0m\u001b[0m\n",
      "\u001b[1;32m~\\AppData\\Local\\Programs\\Python\\Python36\\lib\\site-packages\\bs4\\__init__.py\u001b[0m in \u001b[0;36m_feed\u001b[1;34m(self)\u001b[0m\n\u001b[0;32m    429\u001b[0m         \u001b[0mself\u001b[0m\u001b[1;33m.\u001b[0m\u001b[0mbuilder\u001b[0m\u001b[1;33m.\u001b[0m\u001b[0mreset\u001b[0m\u001b[1;33m(\u001b[0m\u001b[1;33m)\u001b[0m\u001b[1;33m\u001b[0m\u001b[0m\n\u001b[0;32m    430\u001b[0m \u001b[1;33m\u001b[0m\u001b[0m\n\u001b[1;32m--> 431\u001b[1;33m         \u001b[0mself\u001b[0m\u001b[1;33m.\u001b[0m\u001b[0mbuilder\u001b[0m\u001b[1;33m.\u001b[0m\u001b[0mfeed\u001b[0m\u001b[1;33m(\u001b[0m\u001b[0mself\u001b[0m\u001b[1;33m.\u001b[0m\u001b[0mmarkup\u001b[0m\u001b[1;33m)\u001b[0m\u001b[1;33m\u001b[0m\u001b[0m\n\u001b[0m\u001b[0;32m    432\u001b[0m         \u001b[1;31m# Close out any unfinished strings and close all the open tags.\u001b[0m\u001b[1;33m\u001b[0m\u001b[1;33m\u001b[0m\u001b[0m\n\u001b[0;32m    433\u001b[0m         \u001b[0mself\u001b[0m\u001b[1;33m.\u001b[0m\u001b[0mendData\u001b[0m\u001b[1;33m(\u001b[0m\u001b[1;33m)\u001b[0m\u001b[1;33m\u001b[0m\u001b[0m\n",
      "\u001b[1;32m~\\AppData\\Local\\Programs\\Python\\Python36\\lib\\site-packages\\bs4\\builder\\_lxml.py\u001b[0m in \u001b[0;36mfeed\u001b[1;34m(self, markup)\u001b[0m\n\u001b[0;32m    322\u001b[0m         \u001b[1;32mtry\u001b[0m\u001b[1;33m:\u001b[0m\u001b[1;33m\u001b[0m\u001b[0m\n\u001b[0;32m    323\u001b[0m             \u001b[0mself\u001b[0m\u001b[1;33m.\u001b[0m\u001b[0mparser\u001b[0m \u001b[1;33m=\u001b[0m \u001b[0mself\u001b[0m\u001b[1;33m.\u001b[0m\u001b[0mparser_for\u001b[0m\u001b[1;33m(\u001b[0m\u001b[0mencoding\u001b[0m\u001b[1;33m)\u001b[0m\u001b[1;33m\u001b[0m\u001b[0m\n\u001b[1;32m--> 324\u001b[1;33m             \u001b[0mself\u001b[0m\u001b[1;33m.\u001b[0m\u001b[0mparser\u001b[0m\u001b[1;33m.\u001b[0m\u001b[0mfeed\u001b[0m\u001b[1;33m(\u001b[0m\u001b[0mmarkup\u001b[0m\u001b[1;33m)\u001b[0m\u001b[1;33m\u001b[0m\u001b[0m\n\u001b[0m\u001b[0;32m    325\u001b[0m             \u001b[0mself\u001b[0m\u001b[1;33m.\u001b[0m\u001b[0mparser\u001b[0m\u001b[1;33m.\u001b[0m\u001b[0mclose\u001b[0m\u001b[1;33m(\u001b[0m\u001b[1;33m)\u001b[0m\u001b[1;33m\u001b[0m\u001b[0m\n\u001b[0;32m    326\u001b[0m         \u001b[1;32mexcept\u001b[0m \u001b[1;33m(\u001b[0m\u001b[0mUnicodeDecodeError\u001b[0m\u001b[1;33m,\u001b[0m \u001b[0mLookupError\u001b[0m\u001b[1;33m,\u001b[0m \u001b[0metree\u001b[0m\u001b[1;33m.\u001b[0m\u001b[0mParserError\u001b[0m\u001b[1;33m)\u001b[0m \u001b[1;32mas\u001b[0m \u001b[0me\u001b[0m\u001b[1;33m:\u001b[0m\u001b[1;33m\u001b[0m\u001b[0m\n",
      "\u001b[1;32msrc\\lxml\\parser.pxi\u001b[0m in \u001b[0;36mlxml.etree._FeedParser.feed\u001b[1;34m()\u001b[0m\n",
      "\u001b[1;32msrc\\lxml\\parser.pxi\u001b[0m in \u001b[0;36mlxml.etree._FeedParser.feed\u001b[1;34m()\u001b[0m\n",
      "\u001b[1;32msrc\\lxml\\parsertarget.pxi\u001b[0m in \u001b[0;36mlxml.etree._TargetParserContext._handleParseResult\u001b[1;34m()\u001b[0m\n",
      "\u001b[1;32msrc\\lxml\\parsertarget.pxi\u001b[0m in \u001b[0;36mlxml.etree._TargetParserContext._handleParseResult\u001b[1;34m()\u001b[0m\n",
      "\u001b[1;32msrc\\lxml\\etree.pyx\u001b[0m in \u001b[0;36mlxml.etree._ExceptionContext._raise_if_stored\u001b[1;34m()\u001b[0m\n",
      "\u001b[1;32msrc\\lxml\\saxparser.pxi\u001b[0m in \u001b[0;36mlxml.etree._handleSaxTargetStartNoNs\u001b[1;34m()\u001b[0m\n",
      "\u001b[1;32msrc\\lxml\\saxparser.pxi\u001b[0m in \u001b[0;36mlxml.etree._callTargetSaxStart\u001b[1;34m()\u001b[0m\n",
      "\u001b[1;32msrc\\lxml\\parsertarget.pxi\u001b[0m in \u001b[0;36mlxml.etree._PythonSaxParserTarget._handleSaxStart\u001b[1;34m()\u001b[0m\n",
      "\u001b[1;32m~\\AppData\\Local\\Programs\\Python\\Python36\\lib\\site-packages\\bs4\\builder\\_lxml.py\u001b[0m in \u001b[0;36mstart\u001b[1;34m(self, name, attrs, nsmap)\u001b[0m\n\u001b[0;32m    211\u001b[0m         \u001b[0mself\u001b[0m\u001b[1;33m.\u001b[0m\u001b[0mnsmaps\u001b[0m \u001b[1;33m=\u001b[0m \u001b[1;33m[\u001b[0m\u001b[0mself\u001b[0m\u001b[1;33m.\u001b[0m\u001b[0mDEFAULT_NSMAPS_INVERTED\u001b[0m\u001b[1;33m]\u001b[0m\u001b[1;33m\u001b[0m\u001b[0m\n\u001b[0;32m    212\u001b[0m \u001b[1;33m\u001b[0m\u001b[0m\n\u001b[1;32m--> 213\u001b[1;33m     \u001b[1;32mdef\u001b[0m \u001b[0mstart\u001b[0m\u001b[1;33m(\u001b[0m\u001b[0mself\u001b[0m\u001b[1;33m,\u001b[0m \u001b[0mname\u001b[0m\u001b[1;33m,\u001b[0m \u001b[0mattrs\u001b[0m\u001b[1;33m,\u001b[0m \u001b[0mnsmap\u001b[0m\u001b[1;33m=\u001b[0m\u001b[1;33m{\u001b[0m\u001b[1;33m}\u001b[0m\u001b[1;33m)\u001b[0m\u001b[1;33m:\u001b[0m\u001b[1;33m\u001b[0m\u001b[0m\n\u001b[0m\u001b[0;32m    214\u001b[0m         \u001b[1;31m# Make sure attrs is a mutable dict--lxml may send an immutable dictproxy.\u001b[0m\u001b[1;33m\u001b[0m\u001b[1;33m\u001b[0m\u001b[0m\n\u001b[0;32m    215\u001b[0m         \u001b[0mattrs\u001b[0m \u001b[1;33m=\u001b[0m \u001b[0mdict\u001b[0m\u001b[1;33m(\u001b[0m\u001b[0mattrs\u001b[0m\u001b[1;33m)\u001b[0m\u001b[1;33m\u001b[0m\u001b[0m\n",
      "\u001b[1;31mKeyboardInterrupt\u001b[0m: "
     ]
    }
   ],
   "source": [
    "ITV_extractor.extract_all_links()"
   ]
  },
  {
   "cell_type": "code",
   "execution_count": 68,
   "metadata": {},
   "outputs": [],
   "source": [
    "with open(\"ITV_urls.txt\", \"w\") as f:\n",
    "    for url in ITV_extractor.all_urls:\n",
    "        f.write(url + \"\\n\")"
   ]
  },
  {
   "cell_type": "code",
   "execution_count": 65,
   "metadata": {
    "collapsed": true
   },
   "outputs": [
    {
     "data": {
      "text/plain": [
       "{'https://www.indiatvnews.com/',\n",
       " 'https://www.indiatvnews.com/auto/all-new-honda-city-2020-launched-check-ex-showroom-price-and-details-646416',\n",
       " 'https://www.indiatvnews.com/auto/audi-q2-bookings-open-in-india-q2-suv-price-features-details-654043',\n",
       " 'https://www.indiatvnews.com/auto/audi-rs7-launched-in-india-priced-at-rs-1-94-crore-634686',\n",
       " 'https://www.indiatvnews.com/auto/audi-suv-q8-launch-specifications-price-audi-car-launch-655567',\n",
       " 'https://www.indiatvnews.com/auto/audi-to-bring-entry-level-suv-q2-to-india-this-festive-season-647815',\n",
       " 'https://www.indiatvnews.com/auto/bill-gates-electrical-vehicles-zero-carbon-coronavirus-pandemic-644596',\n",
       " 'https://www.indiatvnews.com/auto/bmw-3-series-gran-turismo-shadow-edition-launched-in-india-at-rs-42-5-lakh-643345',\n",
       " 'https://www.indiatvnews.com/auto/bmw-cars-price-up-november-all-you-need-to-know-653659',\n",
       " 'https://www.indiatvnews.com/auto/bmw-s-1000-xr-launched-in-india-priced-at-rs-20-9-lakh-634669',\n",
       " 'https://www.indiatvnews.com/auto/bookings-open-for-hyundai-aura-official-launch-on-jan-21-everything-you-need-to-know-576428',\n",
       " 'https://www.indiatvnews.com/auto/cars-bmw-3-series-all-new-bimmer-launched-in-india-price-starts-at-rs-41-lakh-check-details-543917',\n",
       " 'https://www.indiatvnews.com/auto/cars-kia-seltos-launch-today-what-to-expect-543973',\n",
       " 'https://www.indiatvnews.com/auto/cars-today-kia-seltos-suv-launch-live-updates-features-and-specifications-price-starts-at-rs-9-69-lakh-all-you-need-to-know-544031',\n",
       " 'https://www.indiatvnews.com/auto/govt-tata-nexon-ev-hyundai-kona-electric-order-switch-to-electric-vehicles-647205',\n",
       " 'https://www.indiatvnews.com/auto/honda-city-new-launched-india-price-booking-waiting-time-features-photos-videos-634364',\n",
       " 'https://www.indiatvnews.com/auto/honda-jazz-pre-launch-bookings-open-hatchback-model-honda-cars-india-641004',\n",
       " 'https://www.indiatvnews.com/auto/indian-auto-industry-facing-one-of-the-toughest-times-in-history-needs-govt-support-kenichi-ayukawa-647140',\n",
       " 'https://www.indiatvnews.com/auto/kia-motors-expects-delay-in-new-model-launches-due-to-covid-19-640774',\n",
       " 'https://www.indiatvnews.com/auto/kia-motors-india-kia-sonet-unveilled-photos-videos-features-640281',\n",
       " 'https://www.indiatvnews.com/auto/kia-sonet-compact-suv-launched-price-starts-at-rs-6-71-lakh-kia-motors-650399',\n",
       " 'https://www.indiatvnews.com/auto/mahindra-drives-in-new-thar-price-starts-at-rs-9-8-lakh-653802',\n",
       " 'https://www.indiatvnews.com/auto/mahindra-suv-thar-launch-on-october-2-features-price-details-642266',\n",
       " 'https://www.indiatvnews.com/auto/mahindra-thar-2020-off-roader-first-impression-baby-jeep-wrangler-launch-details-price-642788',\n",
       " 'https://www.indiatvnews.com/auto/maruti-alto-40-lakh-units-sold-maruti-suzuki-india-limited-latest-news-big-milestone-641772',\n",
       " 'https://www.indiatvnews.com/auto/maruti-suzuki-india-s-s-presso-crosses-75-000-unit-sales-in-first-year-of-launch-653781',\n",
       " 'https://www.indiatvnews.com/auto/maruti-suzuki-s-cross-petrol-bookings-open-in-india-launch-date-price-details-636732',\n",
       " 'https://www.indiatvnews.com/auto/maruti-suzuki-s-nexa-becomes-3rd-largest-retailer-of-passenger-cars-says-senior-executive-639534',\n",
       " 'https://www.indiatvnews.com/auto/maruti-suzuki-s-presso-launch-today-price-specification-engine-variants-553297',\n",
       " 'https://www.indiatvnews.com/auto/maruti-suzuki-vehicle-subscription-program-for-individuals-in-delhi-ncr-bengaluru-651802',\n",
       " 'https://www.indiatvnews.com/auto/mercedes-benz-amg-gle-53-4matic-coupe-price-651634',\n",
       " 'https://www.indiatvnews.com/auto/mercedes-benz-eqc-electric-suv-launched-in-india-at-rs-99-3-lakh-655401',\n",
       " 'https://www.indiatvnews.com/auto/mercedes-benz-prices-hike-for-select-models-from-october-649538',\n",
       " 'https://www.indiatvnews.com/auto/mg-hector-plus-vs-mg-hector-key-differences-new-launch-price-features-specifications-635163',\n",
       " 'https://www.indiatvnews.com/auto/mg-motor-india-unveil-s-india-s-first-autonomous-level-1-premium-suv-gloster-652004',\n",
       " 'https://www.indiatvnews.com/auto/new-honda-hornet-2-0-launched-hmsi-forays-180-200cc-bike-segment-in-india-645242',\n",
       " 'https://www.indiatvnews.com/auto/new-motor-vehicle-rules-driving-license-rc-insurance-e-challans-new-mv-rules-motor-vehicles-act-2019-653528',\n",
       " 'https://www.indiatvnews.com/auto/pollution-control-certificate-compulsory-for-renewing-motor-insurance-643755',\n",
       " 'https://www.indiatvnews.com/auto/porsche-718-spyder-718-cayman-gt4-models-launched-in-india-price-features-other-details-643031',\n",
       " 'https://www.indiatvnews.com/auto/premium-suvs-launch-before-diwali-mg-gloster-audi-q3-mercedes-benz-a-class-limousine-features-details-650196',\n",
       " 'https://www.indiatvnews.com/auto/tata-motors-electric-suv-nexon-limited-period-subscription-offer-651110',\n",
       " 'https://www.indiatvnews.com/auto/tata-motors-launches-new-nexon-variant-price-specifications-tata-motors-suv-nexon-646621',\n",
       " 'https://www.indiatvnews.com/auto/top-5-car-launches-and-unveils-in-september-2019-545099',\n",
       " 'https://www.indiatvnews.com/bigg-boss-14',\n",
       " 'https://www.indiatvnews.com/business/markets-bse-sensex-nse-nifty-bombay-stock-exchange-655102',\n",
       " 'https://www.indiatvnews.com/business/markets-sensex-closing-340-points-40000-mark-nifty-rises-95-points-655380',\n",
       " 'https://www.indiatvnews.com/business/markets-sensex-nifty-top-gainers-bombay-stock-exchange-655287',\n",
       " 'https://www.indiatvnews.com/business/markets-sensex-nifty-top-gainers-bse-nse-bombay-stock-exchange-655384',\n",
       " 'https://www.indiatvnews.com/business/markets-sensex-rallies-327-points-rbi-policy-outcome-7th-day-gain-655635',\n",
       " 'https://www.indiatvnews.com/business/markets-sensex-rises-over-100-points-nifty-bse-nse-rbi-monetary-policy-outcome-655533',\n",
       " 'https://www.indiatvnews.com/business/news-amazon-india-partners-irctc-to-offer-reserved-train-ticket-bookings-655143',\n",
       " 'https://www.indiatvnews.com/business/news-amazon-legal-notice-reliance-future-group-deal-singapore-arbitration-ril-655558',\n",
       " 'https://www.indiatvnews.com/business/news-ambani-family-rs-5-crore-donation-chardham-devasthanam-board-uttarakhand-655135',\n",
       " 'https://www.indiatvnews.com/business/news-coca-cola-maker-work-from-home-employees-monetary-support-all-you-need-to-know-655198',\n",
       " 'https://www.indiatvnews.com/business/news-cox-kings-cfo-internal-auditor-arrested-yes-bank-case-enforcement-directorate-655104',\n",
       " 'https://www.indiatvnews.com/business/news-delhi-cinema-halls-multiplexes-reopen-oct-15-50-per-cent-seating-capacity-aap-govt-655189',\n",
       " 'https://www.indiatvnews.com/business/news-employees-in-india-face-increased-burnout-at-work-during-pandemic-report-655054',\n",
       " 'https://www.indiatvnews.com/business/news-ex-raw-boss-vikram-sood-huawei-in-india-permit-risky-655395',\n",
       " 'https://www.indiatvnews.com/business/news-forbes-india-rich-list-2020-reliance-industries-mukesh-ambani-richest-indian-forbes-list-2020-655350',\n",
       " 'https://www.indiatvnews.com/business/news-gold-price-declines-rs-694-gold-silver-rate-today-655113',\n",
       " 'https://www.indiatvnews.com/business/news-gold-price-rises-rs-82-gold-silver-rate-today-655398',\n",
       " 'https://www.indiatvnews.com/business/news-hdfc-bank-employees-jobs-increments-bonuses-promotions-secure-aditya-puri-ceo-md-655158',\n",
       " 'https://www.indiatvnews.com/business/news-india-gdp-expected-to-contract-by-9-6-per-cent-fy-2020-21-world-bank-655335',\n",
       " 'https://www.indiatvnews.com/business/news-india-real-time-financial-transactions-global-leader-coronavirus-pandemic-655128',\n",
       " 'https://www.indiatvnews.com/business/news-indian-railways-irctc-train-tickets-online-booking-cancellation-5-mins-before-departure-655607',\n",
       " 'https://www.indiatvnews.com/business/news-jewar-airport-noida-pact-signed-work-to-begin-soon-all-you-need-to-know-655078',\n",
       " 'https://www.indiatvnews.com/business/news-jio-waives-post-paid-security-fee-to-attract-customers-from-rival-networks-655686',\n",
       " 'https://www.indiatvnews.com/business/news-loan-restructuring-manageable-says-sbi-new-chairman-dinesh-khara-655223',\n",
       " 'https://www.indiatvnews.com/business/news-paytm-rs-10-crore-fund-for-mini-app-developers-655388',\n",
       " 'https://www.indiatvnews.com/business/news-rbi-monetary-policy-committee-begins-deliberations-rate-cut-unlikely-655224',\n",
       " 'https://www.indiatvnews.com/business/news-rbi-monetary-policy-rbi-repo-rate-unchanged-4-per-cent-governor-shaktikanta-das-655544',\n",
       " 'https://www.indiatvnews.com/business/news-rbi-new-deputy-governor-who-is-rajeshwar-rao-655213',\n",
       " 'https://www.indiatvnews.com/business/news-rtgs-money-transfer-to-be-available-24x7-december-2020-rbi-neft-fund-transfer-655572',\n",
       " 'https://www.indiatvnews.com/business/news-snapdeal-kum-mein-dum-diwali-sale-to-start-from-oct-16-snapdeal-sale-offers-details-655477',\n",
       " 'https://www.indiatvnews.com/business/news-swiss-bank-account-details-second-set-automatic-info-exchange-framework-655725',\n",
       " 'https://www.indiatvnews.com/business/news-tcs-announces-5-33-crore-shares-buyback-worth-rs-16-000-crore-655169',\n",
       " 'https://www.indiatvnews.com/business/news-tcs-shares-jumps-over-5-percent-share-buyback-tata-consultancy-services-655330',\n",
       " 'https://www.indiatvnews.com/business/news-uber-partners-lithium-urban-tech-655333',\n",
       " 'https://www.indiatvnews.com/business/news-urban-company-introduces-unlimited-mental-health-leave-policy-for-employees-655082',\n",
       " 'https://www.indiatvnews.com/business/news-world-bank-says-coronavirus-will-put-150-million-people-into-extreme-poverty-by-2021-655230',\n",
       " 'https://www.indiatvnews.com/crime/15-year-old-girl-raped-by-neighbour-in-gurugram-654510',\n",
       " 'https://www.indiatvnews.com/crime/2-lynched-beheaded-set-on-fire-over-witchcraft-suspicion-in-assam-karbi-anglong-rohimapur-village-653813',\n",
       " 'https://www.indiatvnews.com/crime/andhra-pradesh-traffic-inspector-sexual-harassment-rtc-depot-655564',\n",
       " 'https://www.indiatvnews.com/crime/balrampur-dalit-woman-gang-rape-murder-case-doctor-surfaces-as-key-witness-653782',\n",
       " 'https://www.indiatvnews.com/crime/bulandshahr-16-year-old-dalit-girl-pregnant-gangrape-up-rape-cases-hathras-654211',\n",
       " 'https://www.indiatvnews.com/crime/chhattisgarh-cops-exhume-girl-body-gangrape-655257',\n",
       " 'https://www.indiatvnews.com/crime/dalit-leader-shakti-malik-killed-bihar-purnea-tejashwi-tej-pratap-yadav-booked-fir-police-654387',\n",
       " 'https://www.indiatvnews.com/crime/delhi-encounter-robbers-gang-arrested-delhi-police-655522',\n",
       " 'https://www.indiatvnews.com/crime/delhi-engineer-duped-rs-28-lakh-fake-job-offer-655077',\n",
       " 'https://www.indiatvnews.com/crime/delhi-man-stabbed-civil-defence-volunteer-killed-snatching-incident-654662',\n",
       " 'https://www.indiatvnews.com/crime/former-amu-student-sanu-abbas-shot-dead-on-campus-aligarh-muslim-university-655548',\n",
       " 'https://www.indiatvnews.com/crime/gangrape-victim-ends-life-madhya-pradesh-narsinghpur-case-registered-against-police-officials-653943',\n",
       " 'https://www.indiatvnews.com/crime/ghaziabad-school-student-thrashed-class-12-student-assaulted-654416',\n",
       " 'https://www.indiatvnews.com/crime/goa-man-beats-20-year-old-daughter-to-death-with-cricket-stump-love-affair-arrested-653793',\n",
       " 'https://www.indiatvnews.com/crime/greater-noida-girl-gang-raped-accused-detained-655499',\n",
       " 'https://www.indiatvnews.com/crime/gurugram-25-year-old-woman-gangraped-brutally-thrashed-arrested-654281',\n",
       " 'https://www.indiatvnews.com/crime/haryana-businessman-looted-rs-11-lakh-cash-loot-man-burnt-locked-inside-car-655337',\n",
       " 'https://www.indiatvnews.com/crime/kanpur-missing-girl-decomposed-body-found-up-police-claims-victim-killed-property-dispute-654166',\n",
       " 'https://www.indiatvnews.com/crime/local-bjp-leader-manish-shukla-shot-dead-west-bengal-bandh-north-24-parganas-governor-reactions-police-investigation-654367',\n",
       " 'https://www.indiatvnews.com/crime/madhya-pradesh-bjp-mla-sitaram-adivasi-daughter-alleges-dowry-harassment-by-husband-655364',\n",
       " 'https://www.indiatvnews.com/crime/maharashtra-man-sends-army-area-pics-pakistan-whatsapp-group-arrested-654241',\n",
       " 'https://www.indiatvnews.com/crime/man-kills-another-for-passing-lewd-comments-on-wife-655216',\n",
       " 'https://www.indiatvnews.com/crime/man-kills-girlfriend-tries-to-evade-police-taking-cue-from-crime-shows-nabbed-in-assam-654106',\n",
       " 'https://www.indiatvnews.com/crime/mumbai-22-year-old-woman-raped-3-men-2-years-blackmailed-using-videos-653759',\n",
       " 'https://www.indiatvnews.com/crime/rajasthan-baran-tribal-girl-body-found-hanging-from-tree-654302',\n",
       " 'https://www.indiatvnews.com/crime/rajasthan-gang-rape-case-15-year-old-girl-abducted-raped-barmer-district-655126',\n",
       " 'https://www.indiatvnews.com/crime/ranchi-7-year-old-girl-raped-murdered-by-relative-655713',\n",
       " 'https://www.indiatvnews.com/crime/up-honour-killing-shahjahanpur-16-year-old-pregnant-dalit-girl-strangled-mutilated-by-father-brother-654978',\n",
       " 'https://www.indiatvnews.com/crime/up-man-sets-woman-on-fire-she-insists-on-marriage-crime-against-woman-654721',\n",
       " 'https://www.indiatvnews.com/crime/up-rape-cases-6-year-old-raped-aligarh-rape-case-minor-dies-delhi-hospital-hathras-rape-654709',\n",
       " 'https://www.indiatvnews.com/crime/uttar-pradesh-bhadohi-14-year-old-girl-stabbed-strangled-to-death-653920',\n",
       " 'https://www.indiatvnews.com/crime/uttar-pradesh-man-beheads-wife-carries-head-to-police-station-655556',\n",
       " 'https://www.indiatvnews.com/crime/uttar-pradesh-men-urinate-on-man-thrash-gunpoint-land-dispute-654670',\n",
       " 'https://www.indiatvnews.com/crime/uttar-pradesh-rape-case-5-year-old-dalit-girl-raped-uncle-hazratpur-village-655292',\n",
       " 'https://www.indiatvnews.com/crime/uttar-pradesh-woman-raped-at-gunpoint-muzaffarnagar-up-rape-cases-654449',\n",
       " 'https://www.indiatvnews.com/education/career-assam-police-recruitment-exam-rescheduled-on-november-22-653888',\n",
       " 'https://www.indiatvnews.com/education/career-bihar-bed-cet-2020-result-likely-today-how-to-check-direct-link-bihar-cetbed-lnmu-in-653417',\n",
       " 'https://www.indiatvnews.com/education/career-sams-odisha-cpet-admit-card-2020-released-samsodisha-gov-in-cpet-hall-ticket-download-653354',\n",
       " 'https://www.indiatvnews.com/education/exam-results-aiims-norcet-result-2020-declared-download-at-aiimsexams-org-655603',\n",
       " 'https://www.indiatvnews.com/education/exam-results-ap-eamcet-results-2020-date-time-andhra-eamcet-result-2020-manabadi-sche-ap-gov-in-655681',\n",
       " 'https://www.indiatvnews.com/education/exam-results-ap-icet-2020-result-declared-40-000-candidates-clear-exam-ap-icet-exam-2020-adimulapu-suresh-652255',\n",
       " 'https://www.indiatvnews.com/education/exam-results-ap-polycet-result-2020-declared-andhra-polycet-score-download-direct-link-polycetap-nic-in-655546',\n",
       " 'https://www.indiatvnews.com/education/exam-results-assam-cee-result-2020-declared-direct-link-rank-card-astu-ac-in-652883',\n",
       " 'https://www.indiatvnews.com/education/exam-results-bihar-bed-cet-2020-result-declared-check-bihar-cetbed-lnmu-in-direct-link-653644',\n",
       " 'https://www.indiatvnews.com/education/exam-results-cbse-class-12-compartment-result-2020-declared-cbseresults-nic-in-direct-link-655619',\n",
       " 'https://www.indiatvnews.com/education/exam-results-cbse-compartment-result-2020-date-time-cbse-result-2020-cbse-12th-result-2020-cbse-12th-compartment-result-2020-655597',\n",
       " 'https://www.indiatvnews.com/education/exam-results-cgsos-10th-12th-result-declared-check-chhattisgarh-open-school-result-2020-direct-link-cgsos-co-in-651113',\n",
       " 'https://www.indiatvnews.com/education/exam-results-chse-odisha-12th-arts-result-2020-declared-orrisaresults-nic-in-chseodisha-nic-in-647405',\n",
       " 'https://www.indiatvnews.com/education/exam-results-chse-odisha-12th-commerce-result-2020-declared-chse-results-odisha-2-result-direct-link-orrisaresults-nic-in-643232',\n",
       " 'https://www.indiatvnews.com/education/exam-results-clat-2020-result-declared-at-consortiumofnlus-ac-in-654538',\n",
       " 'https://www.indiatvnews.com/education/exam-results-comedk-uget-results-2020-declared-check-download-score-direct-link-at-comedk-org-646962',\n",
       " 'https://www.indiatvnews.com/education/exam-results-delhi-boys-score-100-percentile-in-jee-main-entrance-examination-648970',\n",
       " 'https://www.indiatvnews.com/education/exam-results-gujarat-gujcet-2020-result-declared-direct-link-gseb-org-647251',\n",
       " 'https://www.indiatvnews.com/education/exam-results-gujcet-result-2020-declared-tomorrow-gseb-gujarat-cet-result-2020-date-time-gseb-org-647234',\n",
       " 'https://www.indiatvnews.com/education/exam-results-icsi-cseet-result-2020-released-icsi-edu-download-score-online-details-650180',\n",
       " 'https://www.indiatvnews.com/education/exam-results-jee-advanced-result-2020-declared-jee-advanced-cut-off-2020-jee-advanced-result-direct-link-jeeadv-ac-in-654424',\n",
       " 'https://www.indiatvnews.com/education/exam-results-jee-advanced-toppers-2020-chirag-falor-jee-advanced-2020-result-announced-jee-advanced-result-direct-link-jeeadv-ac-in-654519',\n",
       " 'https://www.indiatvnews.com/education/exam-results-jee-main-2020-result-date-time-education-minister-ramesh-pokhriyal-nta-jee-mains-result-jeemain-nta-nic-in-648355',\n",
       " 'https://www.indiatvnews.com/education/exam-results-jee-main-paper-2-result-2020-declared-nta-jee-main-result-download-ntaresults-nic-in-jeemain-nta-nic-in-direct-link-650486',\n",
       " 'https://www.indiatvnews.com/education/exam-results-jee-main-result-jee-mains-result-date-2020-jee-mains-answer-key-2020-jeemain-nic-in-direct-link-648722',\n",
       " 'https://www.indiatvnews.com/education/exam-results-karnataka-kcet-result-2020-declared-karresults-nic-in-kea-kar-nic-in-result-direct-link-643734',\n",
       " 'https://www.indiatvnews.com/education/exam-results-kas-preliminary-result-2020-kerala-psc-result-direct-link-keralapsc-gov-in-645050',\n",
       " 'https://www.indiatvnews.com/education/exam-results-kcet-result-2020-to-be-declared-on-august-20-kea-karnataka-cet-result-2020-cetonline-karnataka-gov-in-kea-kar-nic-in-643004',\n",
       " 'https://www.indiatvnews.com/education/exam-results-keam-result-2020-declared-check-cee-kerala-gov-in-direct-link-648421',\n",
       " 'https://www.indiatvnews.com/education/exam-results-nta-jee-main-result-2020-declared-jeemain-nta-nic-in-direct-link-jee-mains-exam-toppers-648833',\n",
       " 'https://www.indiatvnews.com/education/exam-results-nta-jee-main-result-2020-declared-shortly-jeemain-nta-nic-in-ntaresults-nic-in-jee-mains-result-date-time-648906',\n",
       " 'https://www.indiatvnews.com/education/exam-results-rajasthan-bstc-pre-d-el-ed-results-2020-declared-pre-deled-result-2020-where-and-how-to-check-655076',\n",
       " 'https://www.indiatvnews.com/education/exam-results-tndte-tamil-nadu-diploma-result-2020-declared-tndte-result-2020-direct-link-polytechnic-april-2020-exam-result-645881',\n",
       " 'https://www.indiatvnews.com/education/exam-results-ts-eamcet-2020-toppers-telangana-eamcet-result-direct-link-eamcet-tsche-ac-in-654862',\n",
       " 'https://www.indiatvnews.com/education/exam-results-ts-eamcet-result-2020-declared-manabadi-ts-eamcet-result-direct-link-eamcet-tsche-ac-in-654825',\n",
       " 'https://www.indiatvnews.com/education/exam-results-up-jee-b-ed-result-2020-declared-lkouniv-ac-in-direct-link-647434',\n",
       " 'https://www.indiatvnews.com/education/exam-results-upsc-cds-ii-2019-final-exam-result-declared-upsc-gov-in-combined-defence-services-exam-toppers-646494',\n",
       " 'https://www.indiatvnews.com/education/exam-results-upsc-nda-na-2019-final-result-released-at-upscgovin-649766',\n",
       " 'https://www.indiatvnews.com/education/exam-results-upsc-nda-results-2020-declared-direct-link-upsc-nic-in-655705',\n",
       " 'https://www.indiatvnews.com/education/high-schools-class-9-to-12-students-half-day-classes-for-doubt-clarification-october-8-puducherry-653838',\n",
       " 'https://www.indiatvnews.com/education/higher-studies-du-to-announce-cut-offs-for-various-ug-programmes-on-oct-10-654325',\n",
       " 'https://www.indiatvnews.com/education/higher-studies-maharashtra-public-service-commission-mpsc-exam-postponed-news-655690',\n",
       " 'https://www.indiatvnews.com/education/higher-studies-ugc-releases-24-fake-universities-list-maximum-in-up-followed-by-delhi-full-list-655152',\n",
       " 'https://www.indiatvnews.com/education/higher-studies-upsc-2020-supreme-court-refuses-upsc-prelims-2020-exam-postpone-covid-19-upsc-civil-services-exam-653311',\n",
       " 'https://www.indiatvnews.com/education/news-andhra-polycet-2020-pass-percentage-qualify-exam-655614',\n",
       " 'https://www.indiatvnews.com/education/news-ap-eamcet-coronavirus-quarantined-candidates-appear-andhra-entrance-exams-653056',\n",
       " 'https://www.indiatvnews.com/education/news-cambridge-university-first-indian-origin-department-head-dr-manali-desai-newnham-college-academic-653453',\n",
       " 'https://www.indiatvnews.com/education/news-clat-2020-exam-cancellation-supreme-court-counselling-process-655592',\n",
       " 'https://www.indiatvnews.com/education/news-coronavirus-protection-lotion-antiviral-t-shirts-iit-delhi-653883',\n",
       " 'https://www.indiatvnews.com/education/news-delhi-university-dusu-deploy-500-volunteers-assist-during-du-admission-process-655515',\n",
       " 'https://www.indiatvnews.com/education/news-exams-postponed-nagpur-university-exams-postponed-teachers-stir-653204',\n",
       " 'https://www.indiatvnews.com/education/news-gujarat-private-schools-25-per-cent-fee-cut-653430',\n",
       " 'https://www.indiatvnews.com/education/news-mht-cet-2020-msrtc-buses-maharashtra-cet-exam-students-653615',\n",
       " 'https://www.indiatvnews.com/education/news-ncert-textbooks-to-be-available-in-indian-sign-language-654882',\n",
       " 'https://www.indiatvnews.com/education/news-puducherry-school-reopen-class-10-12-students-on-trial-basis-655432',\n",
       " 'https://www.indiatvnews.com/education/news-schools-colleges-coaching-centres-reopening-mha-guidelines-details-653423',\n",
       " 'https://www.indiatvnews.com/education/news-ug-pg-final-semester-exams-jadavpur-university-calcutta-university-west-bengal-653608',\n",
       " 'https://www.indiatvnews.com/education/news-unlock-5-education-ministry-issues-guidelines-for-reopening-of-schools-from-october-15-all-you-need-to-know-654552',\n",
       " 'https://www.indiatvnews.com/education/news-upsc-2020-50-percent-aspirants-skip-exam-in-lucknow-due-to-coronavirus-fear-654518',\n",
       " 'https://www.indiatvnews.com/elections/news-bihar-assembly-election-2020-bjp-warns-ljp-against-using-pm-s-photos-in-campaigning-655228',\n",
       " 'https://www.indiatvnews.com/elections/news-bihar-assembly-election-2020-chirag-paswan-ljp-releases-list-of-42-candidates-655404',\n",
       " 'https://www.indiatvnews.com/elections/news-bihar-elections-bihar-assembly-polls-election-commission-relaxes-registration-timeline-655530',\n",
       " 'https://www.indiatvnews.com/elections/news-bihar-ex-dgp-gupteshwar-pandey-political-fate-jdu-fields-sunil-kumar-valmiki-nagar-lok-sabha-bypolls-655451',\n",
       " 'https://www.indiatvnews.com/elections/news-elections-2020-political-gatherings-mha-guidelines-bihar-bypoll-constituencies-655417',\n",
       " 'https://www.indiatvnews.com/entertainment/bollywood/a-suitable-boy-trailer-ishaan-khatter-tabu-film-to-premiere-on-netflix-in-october-655591',\n",
       " 'https://www.indiatvnews.com/entertainment/bollywood/coolie-no-1-chhalaang-durgavati-among-9-new-films-set-for-ott-amazon-prime-video-release-655550',\n",
       " 'https://www.indiatvnews.com/entertainment/bollywood/laxmmi-bomb-trailer-out-akshay-kumar-kiara-advani-horror-comedy-diwali-release-date-655510',\n",
       " 'https://www.indiatvnews.com/entertainment/bollywood/rapper-raftaar-launches-song-by-rising-artistes-rish-and-ragha-655668',\n",
       " 'https://www.indiatvnews.com/entertainment/celebrities/83-will-transform-theatres-into-cricket-stadiums-tahir-raj-bhasin-655529',\n",
       " 'https://www.indiatvnews.com/entertainment/celebrities/actress-shikha-malhotra-serving-coronavirus-patients-tests-covid19-positive-hospitalised-655542',\n",
       " 'https://www.indiatvnews.com/entertainment/celebrities/akshay-kumar-laxmmi-bomb-trailer-celeb-fan-reactions-varun-dhawan-and-others-claim-king-of-comedy-is-back-655598',\n",
       " 'https://www.indiatvnews.com/entertainment/celebrities/akshay-kumar-replies-to-taapsee-pannu-s-disappointment-on-laxmmi-bomb-not-opening-in-theatres-655699',\n",
       " 'https://www.indiatvnews.com/entertainment/celebrities/amitabh-bachchan-joins-prabhas-deepika-padukone-starrer-nag-ashwin-s-next-multi-lingual-mega-project-655561',\n",
       " 'https://www.indiatvnews.com/entertainment/celebrities/bigg-boss-14-contestant-jasmin-bhasin-on-opportunities-in-bollywood-for-outsiders-654961',\n",
       " 'https://www.indiatvnews.com/entertainment/celebrities/bigg-boss-6-fame-sana-khan-quits-showbiz-forever-will-follows-order-of-the-creator-655485',\n",
       " 'https://www.indiatvnews.com/entertainment/celebrities/bigg-boss-6-fame-sana-khan-quits-showbiz-know-all-about-her-controversies-work-and-personal-life-655611',\n",
       " 'https://www.indiatvnews.com/entertainment/celebrities/dharma-productions-turns-40-karan-johar-pens-down-heartfelt-note-for-father-yash-johar-655495',\n",
       " 'https://www.indiatvnews.com/entertainment/celebrities/dilip-kumar-saira-banu-won-t-celebrate-wedding-anniversary-on-oct-11-here-s-why-655641',\n",
       " 'https://www.indiatvnews.com/entertainment/celebrities/irrfan-khan-s-wife-sutapa-sikdar-shares-heartfelt-poem-for-him-655677',\n",
       " 'https://www.indiatvnews.com/entertainment/celebrities/irrfan-s-son-babil-shares-photo-of-actor-s-grave-adorned-with-roses-here-s-to-your-forgiving-sensitive-soul-655500',\n",
       " 'https://www.indiatvnews.com/entertainment/celebrities/kangana-ranaut-s-sweet-birthday-wish-for-brother-aksht-on-this-day-goddess-blessed-us-655506',\n",
       " 'https://www.indiatvnews.com/entertainment/celebrities/manushi-chhillar-a-fan-of-bahubali-maker-rajamouli-s-work-655575',\n",
       " 'https://www.indiatvnews.com/entertainment/celebrities/milind-soman-s-wife-ankita-konwar-gives-a-befitting-reply-to-the-haters-trolling-her-husband-for-his-t-shirt-654715',\n",
       " 'https://www.indiatvnews.com/entertainment/celebrities/neha-kakkar-makes-her-relationship-with-rohanpreet-official-shares-photo-calling-him-mine-655579',\n",
       " 'https://www.indiatvnews.com/entertainment/celebrities/pulkit-samrat-says-he-will-wear-bangles-if-akshay-kumar-s-laxmmi-bomb-isn-t-bumper-hit-655715',\n",
       " 'https://www.indiatvnews.com/entertainment/celebrities/sapna-choudhary-blessed-with-baby-boy-654724',\n",
       " 'https://www.indiatvnews.com/entertainment/celebrities/twinkle-khanna-reveals-why-she-won-t-return-to-acting-655711',\n",
       " 'https://www.indiatvnews.com/entertainment/celebrities/vikrant-massey-set-to-star-in-hindi-remake-of-tamil-thriller-maanagaram-655494',\n",
       " 'https://www.indiatvnews.com/entertainment/celebrities/vinod-khanna-s-74th-birth-anniversary-when-akshaye-khanna-spoke-about-his-father-leaving-family-for-osho-654701',\n",
       " 'https://www.indiatvnews.com/entertainment/hollywood/benedict-cumberbatch-returns-as-doctor-strange-in-new-spider-man-film-655618',\n",
       " 'https://www.indiatvnews.com/entertainment/hollywood/mindy-kaling-welcomes-her-second-child-655648',\n",
       " 'https://www.indiatvnews.com/entertainment/masala/bigg-boss-12-s-anup-jalota-s-wedding-photos-with-jasleen-matharu-go-viral-here-s-how-he-reacts-655593',\n",
       " 'https://www.indiatvnews.com/entertainment/movie-review/dolly-kitty-aur-woh-chamakte-sitare-movie-review-bhumi-pednekar-konkona-sen-sharma-film-548',\n",
       " 'https://www.indiatvnews.com/entertainment/movie-review/gunjan-saxena-the-kargil-girl-movie-review-janhvi-kapoor-set-piece-biopic-manages-to-regale-546',\n",
       " 'https://www.indiatvnews.com/entertainment/movie-review/khaali-peeli-movie-review-ishaan-khatter-ananya-panday-jaideep-ahlawat-taxi-misadventure-not-all-fun-549',\n",
       " 'https://www.indiatvnews.com/entertainment/news/bengal-cinema-halls-to-reopen-with-sushant-singh-rajput-films-655460',\n",
       " 'https://www.indiatvnews.com/entertainment/news/khaali-peeli-tamil-film-ka-pae-ranasingam-to-release-in-theatres-on-oct-16-655640',\n",
       " 'https://www.indiatvnews.com/entertainment/news/richa-chadha-shares-court-s-order-copy-of-the-defamation-case-filed-by-her-against-the-actress-says-we-won-655555',\n",
       " 'https://www.indiatvnews.com/entertainment/news/sourabh-raaj-jain-highlights-anxiety-and-mental-health-issues-through-short-film-655680',\n",
       " 'https://www.indiatvnews.com/entertainment/news/team-radhe-back-on-set-salman-khan-jackie-shroff-disha-patani-others-resume-shoot-with-safety-655571',\n",
       " 'https://www.indiatvnews.com/entertainment/news/vicky-kaushal-s-the-immortal-ashwatthama-to-start-production-in-april-2021-655617',\n",
       " 'https://www.indiatvnews.com/entertainment/tv/all-you-need-to-know-about-adult-star-sapna-bhabhi-who-is-expected-to-make-enter-bigg-boss-14-655088',\n",
       " 'https://www.indiatvnews.com/entertainment/tv/bb14-ex-bigg-boss-fame-kamya-punjabi-thinks-her-friend-sidharth-shukla-is-stealing-the-thunder-again-654501',\n",
       " 'https://www.indiatvnews.com/entertainment/tv/bigg-boss-14-abhinav-shukla-to-sacrifice-his-hard-earned-immunity-for-wife-rubina-dilaik-655033',\n",
       " 'https://www.indiatvnews.com/entertainment/tv/bigg-boss-14-contestant-rahul-vaidya-says-there-s-favouritism-in-bollywood-music-industry-654421',\n",
       " 'https://www.indiatvnews.com/entertainment/tv/bigg-boss-14-episode-3-october-6-live-updates-sidharth-locks-horns-with-gauhar-and-eijaz-khan-654904',\n",
       " 'https://www.indiatvnews.com/entertainment/tv/bigg-boss-14-episode-4-oct-7-live-updates-sidharth-shukla-gautam-gulati-immunity-task-655215',\n",
       " 'https://www.indiatvnews.com/entertainment/tv/bigg-boss-14-episode-5-oct-8-live-updates-pavitra-punia-nikki-tamboli-get-into-a-catfight-655467',\n",
       " 'https://www.indiatvnews.com/entertainment/tv/bigg-boss-14-episode-6-oct-9-rubina-dilaik-locks-horns-with-seniors-hina-sidharth-and-gauhar-655722',\n",
       " 'https://www.indiatvnews.com/entertainment/tv/bigg-boss-14-here-s-when-naina-singh-shardul-pandit-and-others-will-enter-the-house-655130',\n",
       " 'https://www.indiatvnews.com/entertainment/tv/bigg-boss-14-housemate-jaan-kumar-sanu-my-mother-plays-role-of-both-parents-655468',\n",
       " 'https://www.indiatvnews.com/entertainment/tv/bigg-boss-14-housemate-rahul-vaidya-bollywood-singers-not-paid-for-film-recordings-655291',\n",
       " 'https://www.indiatvnews.com/entertainment/tv/bigg-boss-14-inside-pictures-of-the-house-gets-leaked-salman-khan-show-seen-yet-650485',\n",
       " 'https://www.indiatvnews.com/entertainment/tv/bigg-boss-14-meet-the-first-official-contestant-jaan-kumar-sanu-651950',\n",
       " 'https://www.indiatvnews.com/entertainment/tv/bigg-boss-14-nikki-tamboli-jasmin-bhasin-pavitra-punia-lock-horns-for-immunity-woo-sidharth-shukla-655260',\n",
       " 'https://www.indiatvnews.com/entertainment/tv/bigg-boss-14-nikki-tamboli-thinks-sidharth-shukla-marriage-material-how-he-reacts-654974',\n",
       " 'https://www.indiatvnews.com/entertainment/tv/bigg-boss-14-october-4-live-updates-contestants-jasmin-bhasin-nikki-tamboli-fight-radhe-maa-salman-khan-show-654322',\n",
       " 'https://www.indiatvnews.com/entertainment/tv/bigg-boss-14-october-5-gauahar-sidharth-s-fight-to-jaan-s-mohawk-haircut-all-you-can-expect-tonight-654592',\n",
       " 'https://www.indiatvnews.com/entertainment/tv/bigg-boss-14-october-5-live-updates-sidharth-shukla-jijaji-sara-gurpal-gauahar-khan-jasmin-bhasin-nikki-tamboli-654617',\n",
       " 'https://www.indiatvnews.com/entertainment/tv/bigg-boss-14-pavitra-punia-hid-her-marriage-while-dating-claims-ex-boyfriend-paras-chhabra-654364',\n",
       " 'https://www.indiatvnews.com/entertainment/tv/bigg-boss-14-pavitra-punia-hits-nikki-tamboli-with-a-tray-angry-jasmin-bhasin-threatens-to-kick-in-task-655041',\n",
       " 'https://www.indiatvnews.com/entertainment/tv/bigg-boss-14-pavitra-punia-slams-ex-beau-and-bb-13-star-paras-chhabra-654669',\n",
       " 'https://www.indiatvnews.com/entertainment/tv/bigg-boss-14-pavitra-punia-was-three-timing-while-being-with-paras-chhabra-says-mahira-sharma-654777',\n",
       " 'https://www.indiatvnews.com/entertainment/tv/bigg-boss-14-promo-know-why-sidharth-shukla-apologized-to-jaan-sanu-s-father-kumar-sanu-654580',\n",
       " 'https://www.indiatvnews.com/entertainment/tv/bigg-boss-14-promo-sara-gurpal-calls-sidharth-shukla-punjab-ka-jeeja-shehnaaz-gill-jasmin-bhasin-jealous-654512',\n",
       " 'https://www.indiatvnews.com/entertainment/tv/bigg-boss-14-promo-sidharth-shukla-jasmin-bhasin-s-cute-banter-will-leave-you-excited-for-tonight-s-episode-654264',\n",
       " 'https://www.indiatvnews.com/entertainment/tv/bigg-boss-14-rubina-dilaik-and-abhinav-shukla-feel-show-will-test-their-relationship-654365',\n",
       " 'https://www.indiatvnews.com/entertainment/tv/bigg-boss-14-sara-gurpal-will-go-mad-if-she-gets-film-with-salman-khan-655569',\n",
       " 'https://www.indiatvnews.com/entertainment/tv/bigg-boss-14-shehzad-deol-feels-shehnaaz-gill-opened-doors-for-punjabi-talent-654392',\n",
       " 'https://www.indiatvnews.com/entertainment/tv/bigg-boss-14-sidharth-shukla-gets-candid-about-his-learnings-from-season-13-654569',\n",
       " 'https://www.indiatvnews.com/entertainment/tv/bigg-boss-14-sneak-peek-jasmin-bhasin-is-a-pampered-princess-while-gauhar-khan-is-a-fighter-654804',\n",
       " 'https://www.indiatvnews.com/entertainment/tv/bigg-boss-14-sneak-peek-what-did-hina-khan-miss-the-most-after-exiting-the-bigg-boss-11-house-655115',\n",
       " 'https://www.indiatvnews.com/entertainment/tv/salman-khan-on-bigg-boss-14-happy-to-take-pay-cut-651941',\n",
       " 'https://www.indiatvnews.com/entertainment/tv/tv-actress-tinaa-dutta-squashes-bigg-boss-14-rumours-love-letter-match-not-made-in-heaven-651825',\n",
       " 'https://www.indiatvnews.com/entertainment/web-series/5-brilliant-fantasy-shows-on-the-ott-space-that-you-simply-can-t-afford-to-miss-655663',\n",
       " 'https://www.indiatvnews.com/fyi/amazon-great-indian-festival-2020-sale-all-you-need-to-know-offers-discounts-652865',\n",
       " 'https://www.indiatvnews.com/fyi/cabinet-approves-mission-karmayogi-for-civil-servents-capacity-building-what-it-is-all-about-646735',\n",
       " 'https://www.indiatvnews.com/fyi/can-i-get-the-coronavirus-twice-symptoms-covid-19-second-wave-transmission-649214',\n",
       " 'https://www.indiatvnews.com/fyi/china-hybrid-warfare-cyberattack-zhenhua-data-monitoring-10000-indians-pm-modi-sonia-gandhi-indian-army-chiefs-649432',\n",
       " 'https://www.indiatvnews.com/fyi/china-snoop-gate-zhenhua-big-data-leak-monitoring-pm-modi-top-indians-all-you-need-to-know-shenzen-okidb-649603',\n",
       " 'https://www.indiatvnews.com/fyi/coronavirus-what-is-contact-tracing-how-it-work-covid-19-654133',\n",
       " 'https://www.indiatvnews.com/fyi/debit-card-credit-card-new-rbi-rules-october-1-details-653153',\n",
       " 'https://www.indiatvnews.com/fyi/delhi-meerut-rapid-rail-all-you-need-to-know-about-bombardier-semi-high-speed-train-coaches-rrts-653133',\n",
       " 'https://www.indiatvnews.com/fyi/delhi-metro-construction-yamuna-bridge-soorghat-sonia-vihar-metro-station-pink-line-majlis-park-maujpur-corridor-642585',\n",
       " 'https://www.indiatvnews.com/fyi/donald-trump-coronavirus-what-is-25th-us-president-transfer-of-power-amendment-654128',\n",
       " 'https://www.indiatvnews.com/fyi/driving-license-rc-insurance-new-motor-vehicle-rules-changes-from-october-1-653364',\n",
       " 'https://www.indiatvnews.com/fyi/explained-what-happens-if-a-candidate-for-president-dies-donald-trump-us-presidential-elections-654324',\n",
       " 'https://www.indiatvnews.com/fyi/happy-independence-day-top-15-greatest-quotes-best-lines-full-list-642159',\n",
       " 'https://www.indiatvnews.com/fyi/happy-teachers-day-2020-who-is-sarvepalli-radhakrishnan-9-amazing-facts-647344',\n",
       " 'https://www.indiatvnews.com/fyi/hi-meerut-regional-rapid-transit-system-delhi-meerut-rrts-all-you-need-to-know-648493',\n",
       " 'https://www.indiatvnews.com/fyi/how-to-disinfect-clean-home-coronavirus-sanitization-mistakes-precautions-tips-spray-vs-hand-cleaning-who-guidelines-642953',\n",
       " 'https://www.indiatvnews.com/fyi/independence-day-five-women-freedom-fighter-role-models-some-names-like-jhansi-rani-642005',\n",
       " 'https://www.indiatvnews.com/fyi/jammu-kashmir-awaaz-e-awam-grievance-portal-set-up-ut-j-k-districts-642577',\n",
       " 'https://www.indiatvnews.com/fyi/kangana-ranaut-gets-y-security-cover-explained-all-you-need-to-know-about-xyz-security-in-india-648858',\n",
       " 'https://www.indiatvnews.com/fyi/kosi-rail-mega-bridge-project-historic-for-bihar-infrastructure-indian-railways-kosi-rail-mahasetu-history-650354',\n",
       " 'https://www.indiatvnews.com/fyi/mukesh-ambani-s-reliance-offers-amazon-20-billion-stakes-in-retail-arm-648595',\n",
       " 'https://www.indiatvnews.com/fyi/netaji-subhash-chandra-bose-75th-death-anniversary-10-memorable-quotes-643083',\n",
       " 'https://www.indiatvnews.com/fyi/off-roading-tracks-near-delhi-ncr-gurugram-faridabad-mahindra-thar-cycling-off-roading-642835',\n",
       " 'https://www.indiatvnews.com/fyi/pakistan-coronavirus-covid-19-vaccine-phase-3-clinical-trials-begin-what-we-know-643113',\n",
       " 'https://www.indiatvnews.com/fyi/pm-modi-longest-serving-indian-non-congress-prime-minister-2272-days-bjp-india-641933',\n",
       " 'https://www.indiatvnews.com/fyi/sbi-loan-moratorium-who-can-apply-eligibility-all-you-need-to-know-651420',\n",
       " 'https://www.indiatvnews.com/fyi/us-president-donald-trump-25th-amendment-explained-coronavirus-positive-653956',\n",
       " 'https://www.indiatvnews.com/fyi/uttar-pradesh-expressways-international-airports-domestic-airports-details-652429',\n",
       " 'https://www.indiatvnews.com/fyi/vaishno-devi-yatra-resume-vaishno-devi-temple-reopen-guidelines-jammu-and-kashmir-642183',\n",
       " 'https://www.indiatvnews.com/fyi/vikram-sarabhai-space-programme-birth-anniversary-interesting-facts-scientist-641482',\n",
       " 'https://www.indiatvnews.com/fyi/warren-buffett-interesting-facts-about-oracle-of-omaha-richest-billionaire-646069',\n",
       " 'https://www.indiatvnews.com/fyi/what-is-kesavananda-bharati-case-vs-state-of-kerala-basic-structure-constitution-fundamental-rights-647544',\n",
       " 'https://www.indiatvnews.com/fyi/who-is-ips-annamalai-kuppuswamy-singham-of-karnataka-bjp-644702',\n",
       " 'https://www.indiatvnews.com/fyi/who-is-kamala-harris-indian-american-senator-joe-biden-running-mate-us-election-2020-vice-president-641437',\n",
       " 'https://www.indiatvnews.com/fyi/who-was-nyima-tenzin-sff-soldier-martyred-india-china-tension-pangong-tso-lake-tibet-647899',\n",
       " 'https://www.indiatvnews.com/fyi/world-explained-armenia-and-azerbaijan-nagorno-karabakh-disputed-region-652653',\n",
       " 'https://www.indiatvnews.com/health/9-in-10-indian-workers-seek-robots-to-support-their-mental-health-655117',\n",
       " 'https://www.indiatvnews.com/health/93-percent-of-world-s-countries-report-covid-19-disruption-to-critical-mental-health-services-who-654763',\n",
       " 'https://www.indiatvnews.com/health/ai-can-detect-covid-19-in-lungs-like-virtual-physician-study-653596',\n",
       " 'https://www.indiatvnews.com/health/are-india-s-pharma-regulations-denting-patient-interests-653382',\n",
       " 'https://www.indiatvnews.com/health/are-men-at-a-greater-risk-of-heart-disease-than-women-653269',\n",
       " 'https://www.indiatvnews.com/health/change-in-method-of-recording-leads-to-dip-in-covid-antibodies-experts-653815',\n",
       " 'https://www.indiatvnews.com/health/clinical-trial-of-ayurvedic-remedy-for-covid-19-shows-groundbreaking-results-652838',\n",
       " 'https://www.indiatvnews.com/health/covid-19-has-prolonged-effect-on-many-during-pregnancy-655428',\n",
       " 'https://www.indiatvnews.com/health/covid-19-taking-heavy-mental-health-toll-on-people-study-654789',\n",
       " 'https://www.indiatvnews.com/health/delirium-key-sign-of-covid-19-in-frail-older-people-study-653570',\n",
       " 'https://www.indiatvnews.com/health/eating-dairy-products-may-cut-bowel-cancer-risk-finds-study-653118',\n",
       " 'https://www.indiatvnews.com/health/enhancing-blood-sugar-control-boosts-brain-health-in-diabetic-patients-study-654440',\n",
       " 'https://www.indiatvnews.com/health/experts-urge-patients-to-not-ignore-heart-ailments-due-to-covid-19-scare-653100',\n",
       " 'https://www.indiatvnews.com/health/first-person-cured-of-hiv-timothy-ray-brown-dies-653444',\n",
       " 'https://www.indiatvnews.com/health/fit-india-movement-2020-live-updates-pm-modi-interacts-milind-soman-rujuta-diwekar-other-fitness-enthusiasts-651726',\n",
       " 'https://www.indiatvnews.com/health/heart-disease-in-teenagers-linked-to-diabetes-exposure-in-womb-652827',\n",
       " 'https://www.indiatvnews.com/health/high-risk-of-deep-vein-thrombosis-in-patients-with-covid-19-study-654468',\n",
       " 'https://www.indiatvnews.com/health/how-diabetes-can-affect-your-eyes-654822',\n",
       " 'https://www.indiatvnews.com/health/humans-can-transmit-covid-19-virus-to-wildlife-study-655089',\n",
       " 'https://www.indiatvnews.com/health/india-s-feluda-covid-19-test-changes-colour-on-detection-of-sars-cov-2-say-scientists-652857',\n",
       " 'https://www.indiatvnews.com/health/keep-it-beating-telling-anxiety-from-heart-disease-653096',\n",
       " 'https://www.indiatvnews.com/health/pain-relief-caused-by-covid-19-may-help-explain-virus-spread-study-654102',\n",
       " 'https://www.indiatvnews.com/health/people-with-parkinson-s-disease-at-higher-death-risk-from-covid-19-study-653885',\n",
       " 'https://www.indiatvnews.com/health/pm-modi-s-fit-india-movement-2020-rujuta-diwekar-to-discuss-dal-chawal-ghee-and-dadi-ma-ke-nuske-651713',\n",
       " 'https://www.indiatvnews.com/health/researchers-identify-highly-effective-antibodies-against-covid-19-652183',\n",
       " 'https://www.indiatvnews.com/health/social-media-use-linked-with-depression-during-covid-19-says-study-653322',\n",
       " 'https://www.indiatvnews.com/health/study-supports-airborne-spread-of-covid-19-in-indoors-653361',\n",
       " 'https://www.indiatvnews.com/health/suffering-from-varicose-veins-swami-ramdev-shares-effective-yogasanas-to-cure-it-655309',\n",
       " 'https://www.indiatvnews.com/health/telemedicine-saves-chronic-pain-patients-time-money-654912',\n",
       " 'https://www.indiatvnews.com/health/try-these-effective-yoga-asanas-by-swami-ramdev-to-treat-stomach-ulcers-654419',\n",
       " 'https://www.indiatvnews.com/health/wearing-masks-significantly-reduces-covid-19-spread-study-655379',\n",
       " 'https://www.indiatvnews.com/health/work-from-home-hurting-back-and-neck-people-seek-medical-help-651774',\n",
       " 'https://www.indiatvnews.com/health/world-heart-day-2020-importance-of-having-healthy-heart-how-you-should-take-care-of-it-652969',\n",
       " 'https://www.indiatvnews.com/health/yoga-asanas-by-swami-ramdev-for-soldiers-posted-at-high-altitudes-652067',\n",
       " 'https://www.indiatvnews.com/health/yoga-tips-to-deal-with-side-effects-of-coronavirus-by-swami-ramdev-652534',\n",
       " 'https://www.indiatvnews.com/health/young-covid-patients-too-can-face-significant-adverse-outcomes-study-655613',\n",
       " 'https://www.indiatvnews.com/ipl-2020',\n",
       " 'https://www.indiatvnews.com/jobs/news-80-percent-indian-students-think-new-jobs-will-soon-arise-survey-641594',\n",
       " 'https://www.indiatvnews.com/jobs/news-a-devastating-jobs-report-for-april-will-show-virus-s-impact-615230',\n",
       " 'https://www.indiatvnews.com/jobs/news-active-hiring-january-next-year-2021-vacancies-jobs-latest-news-642689',\n",
       " 'https://www.indiatvnews.com/jobs/news-active-job-seekers-confident-about-career-progression-as-economy-reboots-survey-637698',\n",
       " 'https://www.indiatvnews.com/jobs/news-air-force-common-admission-test-afcat-exam-dates-training-duration-time-646982',\n",
       " 'https://www.indiatvnews.com/jobs/news-amazon-india-job-hiring-for-seasonal-jobs-temporary-employees-619515',\n",
       " 'https://www.indiatvnews.com/jobs/news-amazon-india-job-hiring-temporary-employees-619512',\n",
       " 'https://www.indiatvnews.com/jobs/news-amazon-india-to-hire-many-more-people-638677',\n",
       " 'https://www.indiatvnews.com/jobs/news-andhra-vro-recruitment-2020-over-3000-village-revenue-officers-posts-details-623817',\n",
       " 'https://www.indiatvnews.com/jobs/news-bank-of-india-recruitment-boi-vacancy-notification-jobs-salary-last-date-to-apply-eligibility-criteria-bankofindia-co-in-649768',\n",
       " 'https://www.indiatvnews.com/jobs/news-bookmyshow-job-cut-layoffs-270-employees-due-to-covid19-outbreak-621487',\n",
       " 'https://www.indiatvnews.com/jobs/news-bpssc-bihar-police-recruitment-2020-si-sergeant-posts-vacancies-begins-check-details-643054',\n",
       " 'https://www.indiatvnews.com/jobs/news-coronavirus-lockdown-one-in-5-in-country-jobless-636606',\n",
       " 'https://www.indiatvnews.com/jobs/news-covid-19-pandemic-left-147-million-people-unemployed-globally-study-633351',\n",
       " 'https://www.indiatvnews.com/jobs/news-epfo-june-new-enrolments-records-6-55-lakh-643590',\n",
       " 'https://www.indiatvnews.com/jobs/news-google-employees-work-from-home-extends-till-june-30-2021-637584',\n",
       " 'https://www.indiatvnews.com/jobs/news-haryana-reservation-private-sector-jobs-haryana-75-per-cent-quota-haryana-state-employment-of-local-candidates-ordinance-632339',\n",
       " 'https://www.indiatvnews.com/jobs/news-iaf-to-hold-recruitment-rally-in-bengaluru-on-september-23-646924',\n",
       " 'https://www.indiatvnews.com/jobs/news-india-hiring-activity-decline-trend-coronavirus-lockdown-impact-605333',\n",
       " 'https://www.indiatvnews.com/jobs/news-india-s-hiring-outlook-bleakest-in-15-years-survey-648320',\n",
       " 'https://www.indiatvnews.com/jobs/news-indian-jobseeker-lost-job-most-think-layoff-imminent-naukri-com-620966',\n",
       " 'https://www.indiatvnews.com/jobs/news-indian-students-job-opportunities-online-gaming-jobs-online-games-644632',\n",
       " 'https://www.indiatvnews.com/jobs/news-iocl-recruitment-2020-1000-apprentice-posts-vacancies-details-624548',\n",
       " 'https://www.indiatvnews.com/jobs/news-jobs-loss-unemployment-lockdown-impact-jobs-loss-northern-india-625279',\n",
       " 'https://www.indiatvnews.com/jobs/news-nhm-karnataka-recruitment-2020-apply-online-for-1356-posts-nurse-mid-level-healthcare-providers-633442',\n",
       " 'https://www.indiatvnews.com/jobs/news-opsc-recruitment-2020-apply-for-210-executive-engineers-civil-posts-get-salary-as-per-7th-pay-commission-643842',\n",
       " 'https://www.indiatvnews.com/jobs/news-pm-modi-mannkibaat-says-create-jobs-in-villages-east-india-turn-pandemic-into-opportunity-622124',\n",
       " 'https://www.indiatvnews.com/jobs/news-pnb-so-recruitment-2020-applications-open-for-535-posts-check-eligibility-details-pnb-vacancies-648661',\n",
       " 'https://www.indiatvnews.com/jobs/news-rbi-recruitment-2020-vacancies-medical-consultant-posts-last-date-tomorrow-621398',\n",
       " 'https://www.indiatvnews.com/jobs/news-sbi-invites-applications-for-cfo-postvoffers-annual-package-of-rs-1-crore-625173',\n",
       " 'https://www.indiatvnews.com/jobs/news-sbi-so-recruitment-2020-specialist-cadre-post-vacancy-sbi-co-in-629187',\n",
       " 'https://www.indiatvnews.com/jobs/news-sbi-to-hire-over-14000-people-in-2020-dismisses-claims-of-job-cuts-due-to-vrs-648098',\n",
       " 'https://www.indiatvnews.com/jobs/news-united-states-boeing-massive-job-cuts-12000-employees-layoff-emails-virus-impact-621181',\n",
       " 'https://www.indiatvnews.com/jobs/news-uttarakhand-govt-puts-brakes-on-fresh-recruitments-no-increment-for-employees-amid-covid-19-crisis-625299',\n",
       " 'https://www.indiatvnews.com/jobs/news-wdra-recruitment-2020-vacancies-section-officer-sfo-apply-before-may-30-details-617245',\n",
       " 'https://www.indiatvnews.com/jobs/news-yogi-adityanath-uttar-pradesh-teachers-recruitment-appointment-letters-jobs-migrant-workers-622388',\n",
       " 'https://www.indiatvnews.com/lifestyle/astrology-horoscope-for-friday-oct-2-2020-here-s-astrology-prediction-for-cancer-virgo-leo-and-all-zodiac-signs-653698',\n",
       " 'https://www.indiatvnews.com/lifestyle/astrology-horoscope-for-monday-oct-5-2020-here-s-astrology-prediction-for-cancer-libra-scorpio-and-all-signs-654314',\n",
       " 'https://www.indiatvnews.com/lifestyle/astrology-horoscope-today-astrology-oct-6-2020-bhavishyavani-from-cancer-to-to-libra-know-about-your-day-654603',\n",
       " 'https://www.indiatvnews.com/lifestyle/astrology-horoscope-today-astrology-october1-2020-from-cancer-leo-to-libra-know-about-your-day-653463',\n",
       " 'https://www.indiatvnews.com/lifestyle/astrology-horoscope-today-bhavishyavani-october-8-astrology-prediction-for-aquarius-scorpio-others-for-the-day-655244',\n",
       " 'https://www.indiatvnews.com/lifestyle/astrology-horoscope-today-october-4-2020-cancer-pisces-leo-virgo-know-your-astrology-prediction-for-the-day-654154',\n",
       " 'https://www.indiatvnews.com/lifestyle/astrology-horoscope-today-sep-23-2020-cancer-pisces-leo-virgo-know-your-astrology-prediction-for-the-day-652923',\n",
       " 'https://www.indiatvnews.com/lifestyle/astrology-horoscope-today-sep-30-2020-taurus-aries-leo-virgo-know-your-astrology-prediction-for-the-day-653187',\n",
       " 'https://www.indiatvnews.com/lifestyle/astrology-horoscope-today-september-28-2020-from-libra-to-scorpio-know-about-your-day-652673',\n",
       " 'https://www.indiatvnews.com/lifestyle/astrology-today-horoscope-oct-3-2020-here-s-your-daily-astrology-prediction-for-cancer-leo-and-others-653931',\n",
       " 'https://www.indiatvnews.com/lifestyle/astrology-today-horoscope-oct-7-2020-here-s-your-daily-astrology-prediction-for-cancer-leo-and-others-654919',\n",
       " 'https://www.indiatvnews.com/lifestyle/astrology-today-horoscope-october-9-2020-here-s-your-daily-astrology-prediction-for-cancer-leo-and-others-655491',\n",
       " 'https://www.indiatvnews.com/lifestyle/beauty-why-you-should-change-your-skin-hair-products-with-season-653359',\n",
       " 'https://www.indiatvnews.com/lifestyle/books-culture-gandhi-jayanti-2020-wishes-messages-quotes-facebook-and-whatsapp-status-images-photos-653595',\n",
       " 'https://www.indiatvnews.com/lifestyle/books-culture-happy-daughters-day-2020-wishes-messages-quotes-images-whatsapp-status-for-your-princess-652519',\n",
       " 'https://www.indiatvnews.com/lifestyle/food-coarse-grains-millets-must-for-balanced-diet-654358',\n",
       " 'https://www.indiatvnews.com/lifestyle/food-world-egg-day-experts-highlight-importance-of-eggs-to-boost-immunity-655683',\n",
       " 'https://www.indiatvnews.com/lifestyle/news-ai-finds-covid-19-infects-majority-of-bad-dreams-653664',\n",
       " 'https://www.indiatvnews.com/lifestyle/news-baby-on-the-horizon-you-might-need-changes-to-your-interior-space-655288',\n",
       " 'https://www.indiatvnews.com/lifestyle/news-international-coffee-day-2020-quotes-wishes-hd-images-greeting-facebook-instagram-captions-for-your-friends-653504',\n",
       " 'https://www.indiatvnews.com/lifestyle/news-vaishno-devi-prasad-to-be-delivered-at-home-by-speed-post-here-s-how-you-can-book-652783',\n",
       " 'https://www.indiatvnews.com/lifestyle/news-writing-by-hand-will-make-kids-truly-smart-in-digital-era-finds-study-654041',\n",
       " 'https://www.indiatvnews.com/lifestyle/people-marathi-socialist-rationalist-pushpa-bhave-dies-at-81-654002',\n",
       " 'https://www.indiatvnews.com/lifestyle/travel-exploring-outdoors-in-philadelphia-from-historic-homes-to-parks-and-scenic-trails-655687',\n",
       " 'https://www.indiatvnews.com/lifestyle/travel-world-tourism-day-2020-learn-the-art-of-slow-travel-652532',\n",
       " 'https://www.indiatvnews.com/lifestyle/vastu-vastu-tips-boss-s-cabin-should-be-in-this-direction-in-office-for-business-growth-653712',\n",
       " 'https://www.indiatvnews.com/lifestyle/vastu-vastu-tips-choosing-light-colour-curtains-for-office-cabin-attracts-positive-energy-654362',\n",
       " 'https://www.indiatvnews.com/lifestyle/vastu-vastu-tips-for-home-keep-metal-objects-in-north-west-direction-for-better-life-prosperity-652473',\n",
       " 'https://www.indiatvnews.com/lifestyle/vastu-vastu-tips-keep-metal-items-in-the-north-west-direction-you-will-get-great-benefits-652690',\n",
       " 'https://www.indiatvnews.com/lifestyle/vastu-vastu-tips-keep-these-things-in-mind-during-grah-pravesh-652937',\n",
       " 'https://www.indiatvnews.com/lifestyle/vastu-vastu-tips-keep-this-in-mind-before-placing-vault-in-the-office-to-avoid-shortage-of-money-655505',\n",
       " 'https://www.indiatvnews.com/lifestyle/vastu-vastu-tips-know-how-to-sit-in-front-of-the-door-to-avoid-ruining-your-health-653473',\n",
       " 'https://www.indiatvnews.com/lifestyle/vastu-vastu-tips-know-the-auspicious-time-of-grah-pravesh-to-keep-goddess-lakshmi-happy-653205',\n",
       " 'https://www.indiatvnews.com/lifestyle/vastu-vastu-tips-place-computer-in-this-direction-in-boss-s-cabin-to-maintain-good-coordination-653941',\n",
       " 'https://www.indiatvnews.com/lifestyle/vastu-vastu-tips-placing-chair-carpet-according-to-your-zodiac-sign-increases-profits-in-business-654652',\n",
       " 'https://www.indiatvnews.com/lifestyle/vastu-vastu-tips-which-direction-is-most-suitable-for-placing-vase-pot-in-office-655252',\n",
       " 'https://www.indiatvnews.com/news/good-news/russia-second-coronavirus-vaccine-epivaccorona-approval-date-register-covid19-pandemic-655653',\n",
       " 'https://www.indiatvnews.com/news/india/2015-batch-ias-officer-sudhakar-shinde-succumbs-to-coronavirus-655716',\n",
       " 'https://www.indiatvnews.com/news/india/bhima-koregaon-case-nia-arrests-father-stan-swamy-655578',\n",
       " 'https://www.indiatvnews.com/news/india/bhima-koregaon-case-nia-chargesheet-activists-delhi-university-professor-8-named-655667',\n",
       " 'https://www.indiatvnews.com/news/india/delhi-airport-duty-free-store-online-click-and-collect-service-655594',\n",
       " 'https://www.indiatvnews.com/news/india/delhi-coronavirus-patients-home-isolation-no-posters-outside-houses-655642',\n",
       " 'https://www.indiatvnews.com/news/india/drdo-rudram-1-test-fire-sukhoi-30-first-indigenous-anti-radiation-missile-655665',\n",
       " 'https://www.indiatvnews.com/news/india/earthquake-arunachal-pradesh-tremors-epicentre-richter-scale-655526',\n",
       " 'https://www.indiatvnews.com/news/india/former-cbi-director-ashwani-kumar-suicide-note-says-he-ended-life-due-to-disease-disability-655723',\n",
       " 'https://www.indiatvnews.com/news/india/goa-ammonia-gas-leak-food-processing-plant-killed-655671',\n",
       " 'https://www.indiatvnews.com/news/india/hal-employee-spying-pakistan-isi-arrested-nashik-supplying-fighter-jet-details-maharashtra-police-655625',\n",
       " 'https://www.indiatvnews.com/news/india/how-ljp-ram-vilas-paswan-death-will-cast-a-shadow-on-bihar-assembly-elections-2020-655676',\n",
       " 'https://www.indiatvnews.com/news/india/hyderabad-torrential-rains-strong-winds-waterlogging-traffic-jams-655709',\n",
       " 'https://www.indiatvnews.com/news/india/i-b-ministry-asks-private-tv-channels-to-not-show-half-truths-defame-individuals-655679',\n",
       " 'https://www.indiatvnews.com/news/india/imd-impact-based-cyclone-warnings-for-districts-655527',\n",
       " 'https://www.indiatvnews.com/news/india/india-covid-19-cases-coronavirus-vaccine-covid-death-toll-recovery-rate-maharashtra-mumbai-health-ministry-655520',\n",
       " 'https://www.indiatvnews.com/news/india/jammu-kashmir-covid-19-red-orange-green-zones-655514',\n",
       " 'https://www.indiatvnews.com/news/india/kanpur-woman-goes-missing-after-reaching-delhi-for-upsc-exam-found-dead-in-solan-mansi-singh-655724',\n",
       " 'https://www.indiatvnews.com/news/india/karnataka-court-directs-police-to-register-fir-against-kangana-ranaut-over-farm-laws-tweet-655732',\n",
       " 'https://www.indiatvnews.com/news/india/kejriwal-launches-tree-transplantation-policy-for-clean-and-green-delhi-655650',\n",
       " 'https://www.indiatvnews.com/news/india/lalu-prasad-yadav-granted-bail-fodder-scam-jharkhand-high-court-655570',\n",
       " 'https://www.indiatvnews.com/news/india/mizoram-coronavirus-cases-reported-24-hours-covid-19-latest-update-655689',\n",
       " 'https://www.indiatvnews.com/news/india/mohan-bhagwat-rss-chief-says-most-content-muslims-are-only-in-india-655717',\n",
       " 'https://www.indiatvnews.com/news/india/piyush-goyal-assigned-additional-charges-of-consumer-affairs-ministry-ram-vilas-paswan-death-655586',\n",
       " 'https://www.indiatvnews.com/news/india/pm-modi-lauds-ifs-officers-for-their-work-towards-serving-nation-furthering-national-interests-655532',\n",
       " 'https://www.indiatvnews.com/news/india/pm-modi-to-launch-physical-distribution-of-property-cards-under-svamitva-scheme-on-sunday-655718',\n",
       " 'https://www.indiatvnews.com/news/india/ram-vilas-paswan-aaj-ki-baat-rajat-sharma-opinion-655581',\n",
       " 'https://www.indiatvnews.com/news/india/ram-vilas-paswan-condolences-live-updates-tributes-chirag-paswan-655509',\n",
       " 'https://www.indiatvnews.com/news/india/ram-vilas-paswan-death-accorded-state-funeral-ravi-shankar-prasad-represent-government-655630',\n",
       " 'https://www.indiatvnews.com/news/india/ram-vilas-paswan-death-manmohan-singh-india-lost-greatest-dalit-socialist-leader-655698',\n",
       " 'https://www.indiatvnews.com/news/india/ram-vilas-paswan-left-lasting-imprint-on-politics-public-service-rahul-gandhi-writes-letter-of-condolence-to-chirag-655632',\n",
       " 'https://www.indiatvnews.com/news/india/ram-vilas-paswan-mortal-remains-patna-chirag-paswan-bihar-cm-nitish-kumar-sushil-modi-ravi-shankar-prasad-655707',\n",
       " 'https://www.indiatvnews.com/news/india/ramdas-athawale-rpi-sole-representative-of-nda-allies-in-modi-cabinet-after-ram-vilas-paswan-s-demise-655685',\n",
       " 'https://www.indiatvnews.com/news/india/republic-tv-cfo-summoned-mumbai-police-trp-rigging-scandal-arnab-goswami-655704',\n",
       " 'https://www.indiatvnews.com/news/india/trp-manipulation-racket-republic-tv-mumbai-police-commissioner-param-bir-singh-speaks-rajat-sharma-aaj-ki-baat-655488',\n",
       " 'https://www.indiatvnews.com/news/india/up-bjp-mla-relative-shot-dead-ghaziabad-655585',\n",
       " 'https://www.indiatvnews.com/news/india/uttar-pradesh-400-water-bodies-revived-655545',\n",
       " 'https://www.indiatvnews.com/news/india/west-bengal-couple-sell-infant-daughter-for-rs-4000-midnapore-covid-19-pandemic-655595',\n",
       " 'https://www.indiatvnews.com/news/world/34-white-house-staffers-coronavirus-infected-us-government-memo-revealed-655377',\n",
       " 'https://www.indiatvnews.com/news/world/afghan-peace-council-head-abdullah-abdullah-nsa-doval-talks-655229',\n",
       " 'https://www.indiatvnews.com/news/world/aus-aboriginal-site-named-worlds-3rd-best-place-to-see-655282',\n",
       " 'https://www.indiatvnews.com/news/world/breaking-news-latest-updates-october-7-coronavirus-pandemic-covid-19-654938',\n",
       " 'https://www.indiatvnews.com/news/world/breaking-news-latest-updates-october-8-coronavirus-pandemic-covid-19-655251',\n",
       " 'https://www.indiatvnews.com/news/world/breaking-news-october-9-coronavirus-live-updates-covid-19-655493',\n",
       " 'https://www.indiatvnews.com/news/world/changes-in-h1b-work-visa-will-attract-best-and-brightest-minds-says-us-official-655508',\n",
       " 'https://www.indiatvnews.com/news/world/china-coronavirus-broke-out-various-parts-globally-last-year-wuhan-covid-19-reported-first-655701',\n",
       " 'https://www.indiatvnews.com/news/world/china-experimental-coronavirus-vaccine-safe-shows-no-adverse-reactions-655170',\n",
       " 'https://www.indiatvnews.com/news/world/china-joins-covax-alliance-global-distribution-covid-19-vaccines-655549',\n",
       " 'https://www.indiatvnews.com/news/world/china-to-pay-big-price-for-spreading-coronavirus-globally-donald-trump-655422',\n",
       " 'https://www.indiatvnews.com/news/world/covid-19-positive-donald-trump-getting-coronavirus-blessing-from-god-us-election-2020-655261',\n",
       " 'https://www.indiatvnews.com/news/world/dangerous-hurricane-delta-closing-in-on-mexico-s-yucatan-654979',\n",
       " 'https://www.indiatvnews.com/news/world/donald-trump-aide-stephen-miller-tests-covid-positive-654943',\n",
       " 'https://www.indiatvnews.com/news/world/donald-trump-safe-to-return-to-public-life-us-president-covid-health-updates-655512',\n",
       " 'https://www.indiatvnews.com/news/world/george-floyd-murder-suspect-derek-chauvin-released-on-usd-1-million-bail-655258',\n",
       " 'https://www.indiatvnews.com/news/world/h1b-visas-donald-trump-imposes-new-curbs-united-states-workers-654975',\n",
       " 'https://www.indiatvnews.com/news/world/hurricane-delta-to-hit-louisiana-category-3-storm-655562',\n",
       " 'https://www.indiatvnews.com/news/world/joe-biden-wins-communist-kamala-harris-us-president-elections-donald-trump-655511',\n",
       " 'https://www.indiatvnews.com/news/world/michigan-governor-gretchen-whitmer-kidnapping-plot-busted-by-fbi-655519',\n",
       " 'https://www.indiatvnews.com/news/world/nasa-astronaut-chris-ferguson-chooses-daughter-wedding-boeing-test-flight-655448',\n",
       " 'https://www.indiatvnews.com/news/world/nobel-peace-prize-2020-world-food-programme-wfp-norwegian-nobel-committee-655602',\n",
       " 'https://www.indiatvnews.com/news/world/nobel-prize-2020-for-literature-winner-american-poet-louise-gluck-655396',\n",
       " 'https://www.indiatvnews.com/news/world/nobel-prize-for-chemistry-awarded-to-emmanuelle-charpentier-jennifer-a-doudna-fo-genome-scissors-655097',\n",
       " 'https://www.indiatvnews.com/news/world/nobel-prize-physics-winner-briton-roger-penrose-reinhard-genzel-andrea-ghez-for-cosmology-finds-654802',\n",
       " 'https://www.indiatvnews.com/news/world/pakistan-bans-tiktok-for-immoral-and-indecent-content-tiktok-banned-655661',\n",
       " 'https://www.indiatvnews.com/news/world/pakistan-navy-chief-admiral-amjad-khan-niazi-takes-over-charge-655103',\n",
       " 'https://www.indiatvnews.com/news/world/pence-harris-spar-vigorously-over-covid-19-in-vice-president-debate-655254',\n",
       " 'https://www.indiatvnews.com/news/world/presidential-debate-trump-biden-oct-22-belmont-university-in-nashville-tennessee-us-presidential-elections-2020-655674',\n",
       " 'https://www.indiatvnews.com/news/world/taiwan-strong-reply-to-china-advise-to-indian-media-newspapers-taiwan-national-day-655700',\n",
       " 'https://www.indiatvnews.com/news/world/tasmanian-devils-australia-sarcophilus-satanicus-654996',\n",
       " 'https://www.indiatvnews.com/news/world/trump-administration-covid-19-handling-greatest-failure-kamala-harris-655259',\n",
       " 'https://www.indiatvnews.com/news/world/trump-reports-no-symptoms-returns-to-downplaying-coronavirus-654949',\n",
       " 'https://www.indiatvnews.com/news/world/us-presidential-debate-new-dates-donald-trump-joe-biden-655504',\n",
       " 'https://www.indiatvnews.com/news/world/us-presidential-debate-virtual-joe-biden-donald-trump-pulls-out-655434',\n",
       " 'https://www.indiatvnews.com/news/world/us-vice-presidential-debate-fly-on-mike-pence-head-video-655402',\n",
       " 'https://www.indiatvnews.com/opinion/news-hathras-gangrape-victim-dies-19-year-old-girl-brutal-rape-uttar-pradesh-nirbhaya-fund-653112',\n",
       " 'https://www.indiatvnews.com/opinion/news-hathras-rape-victim-death-yogi-govt-police-administration-political-slugfest-653650',\n",
       " 'https://www.indiatvnews.com/opinion/news-no-nation-for-mahatma-gandhi-72-years-on-it-s-nathu-ram-godse-who-is-trending-on-twitter-653909',\n",
       " 'https://www.indiatvnews.com/opinion/news-popular-front-of-india-pfi-ban-who-will-bell-the-cat-654886',\n",
       " 'https://www.indiatvnews.com/opinion/news-sushant-s-death-is-suicide-not-murder-aiims-death-not-by-design-but-self-inflicted-654589',\n",
       " 'https://www.indiatvnews.com/politics/national-23-senior-congress-leaders-sonia-gandhi-letter-question-party-cwc-meeting-leadership-rahul-gandhi-644147',\n",
       " 'https://www.indiatvnews.com/politics/national-after-rahul-quit-priyanka-was-ready-to-work-under-non-gandhi-chief-643219',\n",
       " 'https://www.indiatvnews.com/politics/national-assam-election-2021-ranjan-gogoi-bjp-assam-cm-candidate-says-tarun-gogoi-644278',\n",
       " 'https://www.indiatvnews.com/politics/national-bihar-assembly-election-2020-shyam-rajak-to-join-rjd-after-being-sacked-from-jdu-642667',\n",
       " 'https://www.indiatvnews.com/politics/national-bjp-jd-u-ljp-to-fight-bihar-polls-together-jp-nadda-644219',\n",
       " 'https://www.indiatvnews.com/politics/national-congress-appoints-new-general-secretaries-ghulam-nabi-azad-kharge-dropped-surjewala-biggest-gainer-cwc-reshuffle-648904',\n",
       " 'https://www.indiatvnews.com/politics/national-congress-kapil-sibal-cryptic-tweet-rahul-gandhi-cwc-meet-bjp-collusion-sonia-gandhi-644674',\n",
       " 'https://www.indiatvnews.com/politics/national-congress-leader-sachin-pilot-rajasthan-political-crisis-641140',\n",
       " 'https://www.indiatvnews.com/politics/national-congress-sonia-gandhi-nine-expelled-senior-congress-leaders-letter-bomb-priyanka-gandhi-vadra-647548',\n",
       " 'https://www.indiatvnews.com/politics/national-harsimrat-resigns-under-pressure-of-punjab-s-local-politics-bjp-650294',\n",
       " 'https://www.indiatvnews.com/politics/national-himachal-pradesh-cabinet-reshuffle-chief-minister-jai-ram-thakur-new-ministers-portfolios-638763',\n",
       " 'https://www.indiatvnews.com/politics/national-jdu-mp-harivansh-files-nomination-nda-candidate-rs-deputy-chairman-post-648365',\n",
       " 'https://www.indiatvnews.com/politics/national-jyotiraditya-scindia-pm-modi-kamal-nath-comparison-jibe-vallabh-bhavan-lockdown-644054',\n",
       " 'https://www.indiatvnews.com/politics/national-manipur-council-of-ministers-three-ministers-dropped-manipur-cabinet-651835',\n",
       " 'https://www.indiatvnews.com/politics/national-monsoon-session-parliament-covid-19-test-mps-645599',\n",
       " 'https://www.indiatvnews.com/politics/national-nawab-malik-denies-reports-12-ncp-mlas-joining-bjp-maharashtra-640949',\n",
       " 'https://www.indiatvnews.com/politics/national-pm-modi-petroleum-projects-inauguration-bihar-rs-900-crore-nitish-lalu-649280',\n",
       " 'https://www.indiatvnews.com/politics/national-rajasthan-assembly-sachin-pilot-seat-change-strongest-worrior-sent-to-border-642047',\n",
       " 'https://www.indiatvnews.com/politics/national-rajasthan-assembly-session-live-updates-congress-ashok-gehlot-sachin-pilot-trust-vote-bjp-no-confidence-motion-641962',\n",
       " 'https://www.indiatvnews.com/politics/national-rajasthan-bjp-noconfidence-motion-ashok-gehlot-govt-sachin-pilot-faceoff-congress-crisis-641815',\n",
       " 'https://www.indiatvnews.com/politics/national-rajasthan-political-crisis-vasundhara-raje-meets-rajnath-singh-640581',\n",
       " 'https://www.indiatvnews.com/politics/national-rajya-sabha-deputy-chairman-post-opposition-joint-candidate-congress-jdu-harivansh-narayan-singh-tiruchi-siva-648201',\n",
       " 'https://www.indiatvnews.com/politics/national-ravi-kishan-drug-trafficking-issue-lok-sabha-drug-smuggling-addiction-monsoon-session-parliament-649427',\n",
       " 'https://www.indiatvnews.com/politics/national-sachin-pilot-greeted-with-i-love-you-chants-by-supporters-in-rajasthan-watch-video-641364',\n",
       " 'https://www.indiatvnews.com/politics/national-sachin-pilot-meets-rahul-gandhi-priyanka-address-grievances-congress-to-form-three-member-committee-641134',\n",
       " 'https://www.indiatvnews.com/politics/national-sachin-pilot-meets-rahul-gandhi-priyanka-gandhi-vadra-breakthrough-talks-rajasthan-crisis-ashok-gehlot-641049',\n",
       " 'https://www.indiatvnews.com/politics/national-sachin-pilot-statement-on-return-to-congress-rajasthan-politics-ashok-gehlot-sonia-gandhi-641238',\n",
       " 'https://www.indiatvnews.com/politics/national-sanjay-raut-appointed-shiv-sena-s-chief-spokesperson-648014',\n",
       " 'https://www.indiatvnews.com/politics/national-shah-faesal-ias-officer-turned-politician-steps-down-as-jkpm-president-641055',\n",
       " 'https://www.indiatvnews.com/politics/national-shaheen-bagh-activist-shahzad-ali-joins-bjp-642618',\n",
       " 'https://www.indiatvnews.com/politics/national-shivraj-chouhan-hanuman-chalisa-taunts-at-kamal-nath-ram-temple-jyotiraditya-scindia-madhya-pradesh-gwalior-644040',\n",
       " 'https://www.indiatvnews.com/politics/national-shyam-rajak-joins-rjd-tejashwi-yadav-present-bihar-assembly-elections-642733',\n",
       " 'https://www.indiatvnews.com/politics/national-sonia-gandhi-cwc-meet-congress-working-committee-congress-leadership-rahul-gandhi-sonia-gandhi-644355',\n",
       " 'https://www.indiatvnews.com/politics/national-sushant-singh-rajput-death-case-latest-news-ncp-nawab-malik-blames-modi-govt-640234',\n",
       " 'https://www.indiatvnews.com/politics/national-ysrc-open-to-talks-on-joining-nda-jagan-mohan-reddy-pm-modi-meet-654622',\n",
       " 'https://www.indiatvnews.com/politics/national-zafar-islam-bjp-candidate-uttar-pradesh-rajya-sabha-bypoll-645110',\n",
       " 'https://www.indiatvnews.com/science/are-potential-coronavirus-vaccines-affected-by-affected-by-recent-mutations-in-g-strain-of-virus-655423',\n",
       " 'https://www.indiatvnews.com/science/asteroid-earth-orbit-airplane-size-asteroid-655070',\n",
       " 'https://www.indiatvnews.com/science/common-cold-in-past-may-give-protection-from-covid-19-653320',\n",
       " 'https://www.indiatvnews.com/science/common-cold-in-past-may-provide-protection-from-coronavirus-study-653379',\n",
       " 'https://www.indiatvnews.com/science/coronavirus-death-rates-gene-mutation-india-covid19-cases-study-653581',\n",
       " 'https://www.indiatvnews.com/science/coronavirus-likely-more-lethal-winter-experts-653405',\n",
       " 'https://www.indiatvnews.com/science/coronavirus-patients-treatment-common-antioxidant-enzyme-653832',\n",
       " 'https://www.indiatvnews.com/science/coronavirus-rapid-detect-sensor-developed-653831',\n",
       " 'https://www.indiatvnews.com/science/covid-19-airborne-scientists-better-public-health-guidance-how-coronavirus-spreads-in-air-654774',\n",
       " 'https://www.indiatvnews.com/science/covid-19-vaccine-rollout-unlikely-before-fall-2021-study-653768',\n",
       " 'https://www.indiatvnews.com/science/covid-vaccine-indian-origin-researchers-use-bovine-adenovirus-655441',\n",
       " 'https://www.indiatvnews.com/science/european-space-agency-exoplanet-observer-cheops-reveals-strange-ultra-hot-jupiter-654527',\n",
       " 'https://www.indiatvnews.com/science/feluda-covid-19-test-cheaper-faster-alternative-to-rtpcr-652980',\n",
       " 'https://www.indiatvnews.com/science/isro-astrosat-completes-5-years-of-mapping-stars-galaxies-in-space-652903',\n",
       " 'https://www.indiatvnews.com/science/isro-astrosat-galaxy-euv-light-detected-dark-ages-important-clue-says-dst-653687',\n",
       " 'https://www.indiatvnews.com/science/isro-venus-mission-launch-2025-space-mission-cnes-653446',\n",
       " 'https://www.indiatvnews.com/science/nasa-5-million-dollar-competition-to-find-power-solutions-for-moon-653655',\n",
       " 'https://www.indiatvnews.com/science/nasa-launch-cygnus-spacecraft-wallops-flight-facility-kalpana-chawla-photos-videos-653938',\n",
       " 'https://www.indiatvnews.com/science/nasa-plans-3d-printing-construction-systems-for-moon-mars-653865',\n",
       " 'https://www.indiatvnews.com/science/nasa-spacex-launch-services-imap-mission-652754',\n",
       " 'https://www.indiatvnews.com/science/new-family-of-bony-fish-aenigmachannidae-found-in-western-ghats-654061',\n",
       " 'https://www.indiatvnews.com/science/nitric-oxide-possible-coronavirus-treatment-654057',\n",
       " 'https://www.indiatvnews.com/science/novel-coronavirus-can-survive-on-skin-for-9-hours-says-study-655606',\n",
       " 'https://www.indiatvnews.com/science/origin-of-diamonds-in-meteorites-scientists-study-research-652945',\n",
       " 'https://www.indiatvnews.com/science/planets-suitable-for-life-earth-study-654489',\n",
       " 'https://www.indiatvnews.com/science/planets-with-better-conditions-of-life-than-earth-discovered-super-habitable-655266',\n",
       " 'https://www.indiatvnews.com/science/plant-based-spray-can-be-used-in-n95-masks-says-study-655132',\n",
       " 'https://www.indiatvnews.com/science/saliva-tests-could-quickly-detect-asymptomatic-covid-19-cases-study-says-653003',\n",
       " 'https://www.indiatvnews.com/science/saturn-moon-lake-titan-stratify-like-those-on-earth-653212',\n",
       " 'https://www.indiatvnews.com/science/scientists-detect-long-lived-antibodies-in-blood-saliva-samples-from-covid-19-patients-655574',\n",
       " 'https://www.indiatvnews.com/science/scientists-develop-new-tool-to-uncover-patterns-in-coronavirus-mutations-654005',\n",
       " 'https://www.indiatvnews.com/science/scientists-find-evidence-virus-eating-microorganisms-652767',\n",
       " 'https://www.indiatvnews.com/science/smart-flight-tested-drdo-supersonic-missile-assisted-release-torpedo-654490',\n",
       " 'https://www.indiatvnews.com/science/sofosbuvir-hepatitis-c-drug-in-combination-with-other-antivirals-safe-for-coronavirus-655166',\n",
       " 'https://www.indiatvnews.com/science/ss-kalpana-chawla-cygnus-spacecraft-nasa-space-station-654545',\n",
       " 'https://www.indiatvnews.com/science/zydus-healthcare-launches-generic-anti-diabetic-dapagliflozin-tablets-in-india-654248',\n",
       " 'https://www.indiatvnews.com/sports/cricket-chennai-super-kings-announce-ipl-2020-schedule-take-on-mumbai-indians-mi-opener-589358',\n",
       " 'https://www.indiatvnews.com/sports/cricket-cricket-australia-ready-for-a-female-ceo-says-ellyse-perry-627394',\n",
       " 'https://www.indiatvnews.com/sports/cricket-fans-will-be-permitted-to-watch-t20-wc-matches-live-whenever-it-is-held-cricket-australia-interim-ceo-627713',\n",
       " 'https://www.indiatvnews.com/sports/cricket-former-england-captain-andrew-strauss-emerges-as-surprise-candidate-for-cricket-australia-ceo-report-627181',\n",
       " 'https://www.indiatvnews.com/sports/cricket-ipl-2020-delhi-capitals-full-schedule-fixtures-dates-timings-venues-589407',\n",
       " 'https://www.indiatvnews.com/sports/cricket-ipl-2020-full-schedule-venues-fixtures-date-timings-all-you-need-to-know-589375',\n",
       " 'https://www.indiatvnews.com/sports/cricket-kings-xi-punjab-full-schedule-ipl-2020-begin-campaign-against-delhi-capitals-timings-venues-dates-589445',\n",
       " 'https://www.indiatvnews.com/sports/cricket-kolkata-knight-riders-to-begin-ipl-2020-journey-against-royal-challengers-bangalore-on-march-31-589290',\n",
       " 'https://www.indiatvnews.com/sports/cricket-mumbai-indians-announce-ipl-2020-schedule-to-play-chennai-super-kings-on-opening-day-589446',\n",
       " 'https://www.indiatvnews.com/sports/cricket-royal-challengers-bangalore-announce-their-ipl-2020-schedule-to-play-opener-vs-kolkata-knight-riders-on-march-31-589281',\n",
       " 'https://www.indiatvnews.com/sports/cricket/ajay-jayaram-lakshya-sen-kidambi-srikanth-shubhankar-dey-denmark-open-655620',\n",
       " 'https://www.indiatvnews.com/sports/cricket/bcci-apex-council-to-discuss-home-series-against-england-domestic-season-on-october-17-655547',\n",
       " 'https://www.indiatvnews.com/sports/cricket/cheteshwar-pujara-international-cricket-655649',\n",
       " 'https://www.indiatvnews.com/sports/cricket/delhi-capitals-rajasthan-royals-rr-vs-dc-ipl-2020-655733',\n",
       " 'https://www.indiatvnews.com/sports/cricket/first-batch-of-18-players-confirmed-for-the-hundred-655599',\n",
       " 'https://www.indiatvnews.com/sports/cricket/india-australia-series-bcci-queensland-covid-19-quarantine-655706',\n",
       " 'https://www.indiatvnews.com/sports/cricket/ipl-2020-dinesh-karthik-introduces-rahul-tripathi-shah-rukh-khan-heartwarming-655664',\n",
       " 'https://www.indiatvnews.com/sports/cricket/ipl-2020-dream11-predictions-rajasthan-royals-vs-delhi-capitals-fantasy-tips-655557',\n",
       " 'https://www.indiatvnews.com/sports/cricket/ipl-2020-eoin-morgan-kkr-senior-players-without-title-655612',\n",
       " 'https://www.indiatvnews.com/sports/cricket/ipl-2020-is-it-over-for-glenn-maxwell-at-kxip-once-again-655541',\n",
       " 'https://www.indiatvnews.com/sports/cricket/ipl-2020-problems-aplenty-for-kxip-as-kkr-aim-to-bank-on-momentum-655631',\n",
       " 'https://www.indiatvnews.com/sports/cricket/ipl-2020-rishabh-pant-has-vastly-improved-his-off-side-game-feels-brian-lara-655589',\n",
       " 'https://www.indiatvnews.com/sports/cricket/ipl-2020-rr-vs-dc-match-23-live-updates-cricket-score-today-ipl-2020-dream11-royals-vs-capitals-at-sharjah-655651',\n",
       " 'https://www.indiatvnews.com/sports/cricket/ipl-2020-rr-vs-dc-match-23-preview-back-at-sharjah-rajasthan-royals-aim-to-stop-high-flying-delhi-capitals-655521',\n",
       " 'https://www.indiatvnews.com/sports/cricket/ipl-2020-rr-vs-dc-rajasthan-royals-vs-delhi-capitals-statistical-preview-head-to-head-tie-655584',\n",
       " 'https://www.indiatvnews.com/sports/cricket/ipl-2020-some-batsmen-think-it-s-a-government-job-virender-sehwag-takes-a-dig-at-csk-s-faltering-campaign-655576',\n",
       " 'https://www.indiatvnews.com/sports/cricket/ipl-2020-strike-rates-are-very-overrated-kxip-captain-kl-rahul-on-his-slow-starts-655513',\n",
       " 'https://www.indiatvnews.com/sports/cricket/jonny-bairstow-chris-wood-england-test-team-653427',\n",
       " 'https://www.indiatvnews.com/sports/cricket/jonny-bairstow-rashid-khan-david-warner-srh-vs-kxip-ipl-2020-655482',\n",
       " 'https://www.indiatvnews.com/sports/cricket/live-match-score-rajasthan-royals-vs-delhi-capitals-ipl-2020-rr-vs-dc-match-23-how-to-watch-ipl-live-cricket-streaming-hotstar-tv-match-today-online-655647',\n",
       " 'https://www.indiatvnews.com/sports/cricket/ravi-bishnoi-anil-kumble-kxip-ipl-2020-655662',\n",
       " 'https://www.indiatvnews.com/sports/cricket/really-enjoy-batting-together-srh-captain-david-warner-on-160-run-partnership-with-jonny-bairstow-vs-kxip-655503',\n",
       " 'https://www.indiatvnews.com/sports/cricket/rr-vs-dc-shreyas-iyer-steve-smith-andrew-tye-ipl-2020-655678',\n",
       " 'https://www.indiatvnews.com/sports/cricket/shane-warne-picks-four-teams-who-will-make-the-playoffs-in-ipl-2020-653412',\n",
       " 'https://www.indiatvnews.com/sports/cricket/test-series-against-india-will-be-compelling-says-cricket-australia-interim-ceo-655590',\n",
       " 'https://www.indiatvnews.com/sports/cricket/virat-kohli-dilip-vengsarkar-rcb-ipl-2020-653413',\n",
       " 'https://www.indiatvnews.com/sports/cricket/womens-challengers-series-uae-ipl-2020-653406',\n",
       " 'https://www.indiatvnews.com/sports/cricket/womens-t20-challenge-bcci-womens-ipl-655696',\n",
       " 'https://www.indiatvnews.com/sports/football/afc-champions-league-east-to-be-played-in-doha-from-november-18-655608',\n",
       " 'https://www.indiatvnews.com/sports/football/dominic-calvert-lewin-leads-trio-of-1st-time-england-scorers-against-wales-655497',\n",
       " 'https://www.indiatvnews.com/sports/football/east-bengal-isl-robbie-fowler-655702',\n",
       " 'https://www.indiatvnews.com/sports/football/fifa-corruption-ban-court-of-arbitration-for-sport-655624',\n",
       " 'https://www.indiatvnews.com/sports/football/football-clubs-spent-1-9-billion-less-in-european-transfer-window-this-year-fifa-655672',\n",
       " 'https://www.indiatvnews.com/sports/football/serbia-oust-norway-advance-to-euro-2020-playoff-finals-655498',\n",
       " 'https://www.indiatvnews.com/sports/football/wc-qualifiers-lionel-messi-scores-on-return-for-argentina-luis-suarez-nets-for-uruguay-655609',\n",
       " 'https://www.indiatvnews.com/sports/formula-1',\n",
       " 'https://www.indiatvnews.com/sports/formula-1/f1-eiflel-grand-prix-nurburgring-mick-schumacher-655633',\n",
       " 'https://www.indiatvnews.com/sports/formula-1/honda-to-withdraw-from-formula-one-at-end-of-2021-season-653812',\n",
       " 'https://www.indiatvnews.com/sports/formula-1/lewis-hamilton-takes-pole-in-dramatic-russian-grand-prix-qualifying-652423',\n",
       " 'https://www.indiatvnews.com/sports/formula-1/lewis-hamilton-the-greatest-driver-of-our-generation-says-serena-williams-652562',\n",
       " 'https://www.indiatvnews.com/sports/formula-1/valtteri-bottas-wins-russian-grand-prix-as-lewis-hamilton-misses-f1-win-record-652622',\n",
       " 'https://www.indiatvnews.com/sports/other/post-covid-19-hiatus-indian-archers-aim-to-find-momentum-655615',\n",
       " 'https://www.indiatvnews.com/sports/other/saina-nehwal-2021-tokyo-olympics-qualification-655719',\n",
       " 'https://www.indiatvnews.com/sports/tennis/dev-javia-french-open-junior-roland-garros-2020-655670',\n",
       " 'https://www.indiatvnews.com/sports/tennis/french-open-2020-semifinal-rafael-nadal-vs-diego-schwartzman-novak-djokovic-vs-stefanos-tsitsipas-655502',\n",
       " 'https://www.indiatvnews.com/sports/tennis/iga-swiatek-nadia-podoroska-french-open-roland-garros-2020-655462',\n",
       " 'https://www.indiatvnews.com/sports/tennis/paris-masters-to-go-ahead-as-planned-amid-covid-19-pandemic-655373',\n",
       " 'https://www.indiatvnews.com/sports/tennis/rafael-nadal-diego-schwartzman-french-open-roland-garros-2020-655721',\n",
       " 'https://www.indiatvnews.com/sports/tennis/sofia-kenin-21-will-face-unseeded-iag-swiatek-19-in-french-open-2020-final-655501',\n",
       " 'https://www.indiatvnews.com/sports/tennis/sofia-kenin-iga-swiatek-french-open-roland-garros-655655',\n",
       " 'https://www.indiatvnews.com/technology/apps-after-india-here-s-why-pakistan-and-us-banned-chinese-app-tiktok-655712',\n",
       " 'https://www.indiatvnews.com/technology/gadgets-best-smart-tvs-under-rs-25-000-for-ipl-2020-655366',\n",
       " 'https://www.indiatvnews.com/technology/news-amazon-india-irctc-collaborate-for-train-ticket-booking-655543',\n",
       " 'https://www.indiatvnews.com/technology/news-amazon-live-tv-for-fire-tv-products-launched-in-india-655332',\n",
       " 'https://www.indiatvnews.com/technology/news-google-assistant-open-search-third-party-android-apps-655566',\n",
       " 'https://www.indiatvnews.com/technology/news-google-fi-now-selling-5g-phones-from-samsung-655703',\n",
       " 'https://www.indiatvnews.com/technology/news-google-notify-users-of-security-issues-in-google-apps-655344',\n",
       " 'https://www.indiatvnews.com/technology/news-google-pixel-4a-price-in-india-revealed-price-features-specs-and-more-655610',\n",
       " 'https://www.indiatvnews.com/technology/news-honor-watch-gs-pro-watch-es-introduced-in-india-price-features-specs-and-more-655421',\n",
       " 'https://www.indiatvnews.com/technology/news-instagram-most-preferred-platform-among-indian-youth-survey-655601',\n",
       " 'https://www.indiatvnews.com/technology/news-iphone-12-price-features-specs-availability-details-fully-leaked-655666',\n",
       " 'https://www.indiatvnews.com/technology/news-mediatek-launches-ai-enabled-chip-to-power-premium-smart-tvs-655374',\n",
       " 'https://www.indiatvnews.com/technology/news-microsoft-arm-collaborate-for-improved-ai-in-iot-devices-655568',\n",
       " 'https://www.indiatvnews.com/technology/news-microsoft-finds-dangerous-android-ransomware-know-details-655669',\n",
       " 'https://www.indiatvnews.com/technology/news-motorola-discount-on-smartphones-during-flipkart-big-billion-days-sale-655623',\n",
       " 'https://www.indiatvnews.com/technology/news-nokia-5-1-starts-receiving-android-10-update-in-india-655654',\n",
       " 'https://www.indiatvnews.com/technology/news-oneplus-8t-5g-design-officially-revealed-how-it-looks-like-655560',\n",
       " 'https://www.indiatvnews.com/technology/news-oneplus-affordable-y-series-tvs-to-be-available-via-flipkart-in-india-655697',\n",
       " 'https://www.indiatvnews.com/technology/news-oneplus-nord-n10-5g-series-reportedly-launching-soon-655412',\n",
       " 'https://www.indiatvnews.com/technology/news-oppo-reno-3-pro-receives-a-permanent-price-cut-in-india-655684',\n",
       " 'https://www.indiatvnews.com/technology/news-paytm-aims-1-mn-apps-on-its-mini-app-store-655450',\n",
       " 'https://www.indiatvnews.com/technology/news-pubg-in-talks-with-airtel-to-lift-pubg-mobile-ban-in-india-655407',\n",
       " 'https://www.indiatvnews.com/technology/news-qualcomm-to-develop-its-own-gaming-phones-report-655348',\n",
       " 'https://www.indiatvnews.com/technology/news-realme-festive-days-sale-to-begin-on-october-16-655454',\n",
       " 'https://www.indiatvnews.com/technology/news-roposo-crosses-100mn-users-on-google-play-store-655673',\n",
       " 'https://www.indiatvnews.com/technology/news-samsung-galaxy-f41launched-in-india-price-specifications-655442',\n",
       " 'https://www.indiatvnews.com/technology/news-samsung-launches-new-variant-of-galaxy-a21s-smartphone-655389',\n",
       " 'https://www.indiatvnews.com/technology/news-samsung-offering-free-galaxy-smartphone-with-refrigerator-655372',\n",
       " 'https://www.indiatvnews.com/technology/news-samsung-to-offer-discounts-of-up-to-rs-50-000-lifestyle-tvs-this-festive-season-655582',\n",
       " 'https://www.indiatvnews.com/technology/news-snapdeal-kum-mein-dum-sale-will-begin-from-october-16-655565',\n",
       " 'https://www.indiatvnews.com/technology/news-truecaller-150-million-daily-active-users-in-india-655336',\n",
       " 'https://www.indiatvnews.com/technology/news-twitter-india-launches-new-emoji-for-world-mental-health-day-655710',\n",
       " 'https://www.indiatvnews.com/technology/news-wait-for-over-50-aiot-products-in-india-by-december-realme-ceo-655339',\n",
       " 'https://www.indiatvnews.com/technology/news-zoom-makes-classrooms-more-secure-with-this-new-feature-655458',\n",
       " 'https://www.indiatvnews.com/technology/news-zoom-supports-rupee-as-localised-pricing-for-india-market-655587',\n",
       " 'https://www.indiatvnews.com/technology/reviews-belkin-kakao-friends-10w-wireless-charging-pad-review-655418',\n",
       " 'https://www.indiatvnews.com/technology/reviews-jabra-elite-45h-headphones-review-652172',\n",
       " 'https://www.indiatvnews.com/technology/reviews-samsung-galaxy-buds-live-653048',\n",
       " 'https://www.indiatvnews.com/technology/reviews-xiaomi-mi-notebook-14-laptop-review-653377',\n",
       " 'https://www.indiatvnews.com/topic/bihar-assembly-elections-2020',\n",
       " 'https://www.indiatvnews.com/topic/coolie-no-1',\n",
       " 'https://www.indiatvnews.com/topic/covid-19',\n",
       " 'https://www.indiatvnews.com/topic/indian-premier-league-2020',\n",
       " 'https://www.indiatvnews.com/topic/ipl-2020',\n",
       " 'https://www.indiatvnews.com/trending/news-5-viral-posts-on-independence-day-anand-mahindra-that-has-touched-our-heart-642086',\n",
       " 'https://www.indiatvnews.com/trending/news-anand-mahindra-shares-video-of-kerala-man-version-of-mohammed-rafi-s-song-teri-aankhon-ke-sivaa-649523',\n",
       " 'https://www.indiatvnews.com/trending/news-anushka-sharma-virat-kohli-announce-pregnancy-mithayi-baat-dijiye-twitterati-jump-with-joy-645171',\n",
       " 'https://www.indiatvnews.com/trending/news-babakadhaba-twitterati-bollywood-celebs-unite-to-support-80-year-old-delhi-couple-matar-paneer-655353',\n",
       " 'https://www.indiatvnews.com/trending/news-elon-musk-begs-twitterverse-to-trash-him-on-wikipedia-his-page-gets-locked-642762',\n",
       " 'https://www.indiatvnews.com/trending/news-elon-musk-s-neuralink-brain-chip-tests-on-pigs-leave-twitterati-fascinated-645741',\n",
       " 'https://www.indiatvnews.com/trending/news-finally-perfect-hater-shades-rapper-kanye-west-s-yeezy-sunglasses-amuses-netizens-642873',\n",
       " 'https://www.indiatvnews.com/trending/news-girl-performs-backflip-in-saree-and-leaves-netizens-amazed-video-goes-viral-646360',\n",
       " 'https://www.indiatvnews.com/trending/news-google-asks-netizens-to-caption-childish-weeping-picture-sparks-2020-memes-644009',\n",
       " 'https://www.indiatvnews.com/trending/news-google-dedicates-a-doddle-to-zohra-sehgal-actress-who-lived-through-cinema-and-dance-652934',\n",
       " 'https://www.indiatvnews.com/trending/news-google-s-removal-of-paytm-app-from-play-store-leads-netizens-to-churn-out-the-funniest-memes-650412',\n",
       " 'https://www.indiatvnews.com/trending/news-government-official-philippines-caught-having-sex-with-secretary-during-zoom-meeting-645497',\n",
       " 'https://www.indiatvnews.com/trending/news-harsh-goenka-tweets-about-indian-datun-being-sold-in-us-supermarket-for-rs-1100-650466',\n",
       " 'https://www.indiatvnews.com/trending/news-hear-it-from-the-horse-s-mouth-woman-drops-her-mask-friends-gift-her-horse-s-head-651546',\n",
       " 'https://www.indiatvnews.com/trending/news-ipl-2020-begins-fans-csk-vs-mi-share-memes-twitter-reaction-videos-to-cheer-up-teams-650446',\n",
       " 'https://www.indiatvnews.com/trending/news-jai-hind-indian-flag-hoisted-canada-niagara-falls-on-74th-independence-day-642064',\n",
       " 'https://www.indiatvnews.com/trending/news-justiceforkaku-a-trend-that-enlightens-why-it-s-wrong-to-mock-domestic-help-646740',\n",
       " 'https://www.indiatvnews.com/trending/news-kamala-harris-says-chithi-in-her-acceptance-speech-netizens-can-t-keep-calm-643568',\n",
       " 'https://www.indiatvnews.com/trending/news-kokilaben-dialogues-turned-into-rib-tickling-song-smriti-irani-says-kya-se-kya-ho-gaya-dekhte-dekhte-643972',\n",
       " 'https://www.indiatvnews.com/trending/news-man-asks-zomato-for-ms-dhoni-special-discount-for-the-country-company-s-reply-amuses-internet-642995',\n",
       " 'https://www.indiatvnews.com/trending/news-netizens-make-funny-memes-on-recent-possibility-of-finding-alien-life-on-venus-649764',\n",
       " 'https://www.indiatvnews.com/trending/news-no-fear-of-coronavirus-at-drive-through-haunted-house-in-tokyo-643461',\n",
       " 'https://www.indiatvnews.com/trending/news-raipur-tweeted-most-about-animals-bhubaneswar-on-good-deeds-twitter-649824',\n",
       " 'https://www.indiatvnews.com/trending/news-raveena-tandon-asks-anand-mahindra-to-book-the-all-new-suv-thar-for-her-642463',\n",
       " 'https://www.indiatvnews.com/trending/news-sau-baar-shukriyaa-pubg-banned-117-other-chinese-apps-by-government-twitter-filled-with-hilarious-memes-646727',\n",
       " 'https://www.indiatvnews.com/trending/news-schoolgirl-robbed-amidst-zoom-video-call-lesson-in-ecuador-as-teacher-and-students-watch-helplessly-647894',\n",
       " 'https://www.indiatvnews.com/trending/news-this-girl-with-the-longest-legs-creates-a-world-record-654967',\n",
       " 'https://www.indiatvnews.com/trending/news-this-is-insane-bollywood-fans-laud-bole-chudiyan-spoof-by-indonesian-fans-seen-video-yet-649347',\n",
       " 'https://www.indiatvnews.com/trending/news-twitter-reacts-to-blue-pit-viper-on-red-rose-s-viral-video-650670',\n",
       " 'https://www.indiatvnews.com/trending/news-twitter-welcomes-the-news-of-chandrayaan-3-launch-in-early-2021-with-funny-memes-647867',\n",
       " 'https://www.indiatvnews.com/trending/news-wave-of-blood-twitter-reacts-after-50-000-litres-red-wine-burst-out-of-defective-tank-652465',\n",
       " 'https://www.indiatvnews.com/trending/news-zomato-s-wordplay-tweet-on-anushka-sharma-virat-kohli-pregnancy-announcement-is-simply-unmissable-645287',\n",
       " 'https://www.indiatvnews.com/trending/offbeat-panna-labourer-jackpot-diamonds-worth-rs-35-lakh-mine-640106',\n",
       " 'https://www.indiatvnews.com/trending/offbeat-snowing-cocoa-chocolate-factory-glitch-dusts-swiss-town-643051',\n",
       " 'https://www.indiatvnews.com/trending/offbeat-treasure-hunter-finds-3-000-year-old-hoard-in-scotland-641375',\n",
       " 'https://www.indiatvnews.com/trending/offbeat-trending-news-tanzanian-miner-an-overnight-millionaire-strikes-it-rich-again-with-huge-gem-find-639784'}"
      ]
     },
     "execution_count": 65,
     "metadata": {},
     "output_type": "execute_result"
    }
   ],
   "source": [
    "ITV_extractor.all_urls"
   ]
  },
  {
   "cell_type": "code",
   "execution_count": 69,
   "metadata": {},
   "outputs": [],
   "source": [
    "class MakeArticles:\n",
    "    def __init__(self,urls_file_path : str, save_file_path : str):\n",
    "        self.urls = []\n",
    "        self.save_file_path = save_file_path\n",
    "        with open(urls_file_path , \"r\") as f:\n",
    "            for line in f:\n",
    "                self.urls.append(line.split(\"\\n\")[0])\n",
    "        self.articles = []\n",
    "    def _save_dict(self,name : str , dct : dict):\n",
    "        save_dict(dct , os.path.join(self.save_file_path, name + \".pkl\"))\n",
    "    \n",
    "    def _convert_to_dict(self, article : Article):\n",
    "        return  dict(\n",
    "            name = article.url,\n",
    "            title = article.title,\n",
    "            text = article.text,\n",
    "            authors = article.authors,\n",
    "        )\n",
    "    def build(self):\n",
    "        failed = 0\n",
    "        successful = 0\n",
    "        for index,url in tqdm(enumerate(self.urls)):\n",
    "            try:\n",
    "                article = Article(url)\n",
    "                article.download()\n",
    "                article.parse()\n",
    "                article = self._convert_to_dict(article)\n",
    "                self._save_dict(str(index),article)\n",
    "                successful += 1\n",
    "            except:\n",
    "                failed += 1\n",
    "                print(\"{} failed\".format(failed))\n",
    "                continue\n",
    "\n",
    "        print(\"num extracted = {} num failed = {}\".format(successful, failed))\n",
    "        "
   ]
  },
  {
   "cell_type": "code",
   "execution_count": 70,
   "metadata": {},
   "outputs": [],
   "source": [
    "mk_articles = MakeArticles(\"./ITV_urls.txt\", \"./ITV_articles\")"
   ]
  },
  {
   "cell_type": "code",
   "execution_count": 71,
   "metadata": {},
   "outputs": [
    {
     "name": "stderr",
     "output_type": "stream",
     "text": [
      "590it [06:55,  2.57s/it]"
     ]
    },
    {
     "name": "stdout",
     "output_type": "stream",
     "text": [
      "1 failed\n"
     ]
    },
    {
     "name": "stderr",
     "output_type": "stream",
     "text": [
      "602it [07:11,  2.77s/it]"
     ]
    },
    {
     "name": "stdout",
     "output_type": "stream",
     "text": [
      "2 failed\n"
     ]
    },
    {
     "name": "stderr",
     "output_type": "stream",
     "text": [
      "1805it [20:57,  2.52s/it]"
     ]
    },
    {
     "name": "stdout",
     "output_type": "stream",
     "text": [
      "3 failed\n"
     ]
    },
    {
     "name": "stderr",
     "output_type": "stream",
     "text": [
      "1843it [21:27,  2.56s/it]"
     ]
    },
    {
     "name": "stdout",
     "output_type": "stream",
     "text": [
      "4 failed\n"
     ]
    },
    {
     "name": "stderr",
     "output_type": "stream",
     "text": [
      "3213it [36:29,  2.57s/it]"
     ]
    },
    {
     "name": "stdout",
     "output_type": "stream",
     "text": [
      "5 failed\n"
     ]
    },
    {
     "name": "stderr",
     "output_type": "stream",
     "text": [
      "4186it [47:12,  2.56s/it]"
     ]
    },
    {
     "name": "stdout",
     "output_type": "stream",
     "text": [
      "6 failed\n"
     ]
    },
    {
     "name": "stderr",
     "output_type": "stream",
     "text": [
      "5126it [57:33,  2.51s/it]"
     ]
    },
    {
     "name": "stdout",
     "output_type": "stream",
     "text": [
      "7 failed\n"
     ]
    },
    {
     "name": "stderr",
     "output_type": "stream",
     "text": [
      "7119it [1:19:17,  2.51s/it]"
     ]
    },
    {
     "name": "stdout",
     "output_type": "stream",
     "text": [
      "8 failed\n"
     ]
    },
    {
     "name": "stderr",
     "output_type": "stream",
     "text": [
      "7376it [1:22:01,  2.48s/it]"
     ]
    },
    {
     "name": "stdout",
     "output_type": "stream",
     "text": [
      "9 failed\n"
     ]
    },
    {
     "name": "stderr",
     "output_type": "stream",
     "text": [
      "9537it [1:44:54,  2.53s/it]"
     ]
    },
    {
     "name": "stdout",
     "output_type": "stream",
     "text": [
      "10 failed\n"
     ]
    },
    {
     "name": "stderr",
     "output_type": "stream",
     "text": [
      "10969it [1:59:34,  2.53s/it]"
     ]
    },
    {
     "name": "stdout",
     "output_type": "stream",
     "text": [
      "11 failed\n"
     ]
    },
    {
     "name": "stderr",
     "output_type": "stream",
     "text": [
      "11667it [2:06:52,  2.46s/it]"
     ]
    },
    {
     "name": "stdout",
     "output_type": "stream",
     "text": [
      "12 failed\n"
     ]
    },
    {
     "name": "stderr",
     "output_type": "stream",
     "text": [
      "12439it [2:15:41,  2.56s/it]"
     ]
    },
    {
     "name": "stdout",
     "output_type": "stream",
     "text": [
      "13 failed\n"
     ]
    },
    {
     "name": "stderr",
     "output_type": "stream",
     "text": [
      "14317it [2:36:37,  2.50s/it]"
     ]
    },
    {
     "name": "stdout",
     "output_type": "stream",
     "text": [
      "14 failed\n"
     ]
    },
    {
     "name": "stderr",
     "output_type": "stream",
     "text": [
      "14402it [2:37:41,  2.45s/it]"
     ]
    },
    {
     "name": "stdout",
     "output_type": "stream",
     "text": [
      "15 failed\n"
     ]
    },
    {
     "name": "stderr",
     "output_type": "stream",
     "text": [
      "15066it [2:44:51,  2.50s/it]"
     ]
    },
    {
     "name": "stdout",
     "output_type": "stream",
     "text": [
      "16 failed\n"
     ]
    },
    {
     "name": "stderr",
     "output_type": "stream",
     "text": [
      "15719it [2:51:46,  2.59s/it]"
     ]
    },
    {
     "name": "stdout",
     "output_type": "stream",
     "text": [
      "17 failed\n"
     ]
    },
    {
     "name": "stderr",
     "output_type": "stream",
     "text": [
      "16154it [2:55:59,  1.53it/s]"
     ]
    },
    {
     "name": "stdout",
     "output_type": "stream",
     "text": [
      "num extracted = 16137 num failed = 17\n"
     ]
    },
    {
     "name": "stderr",
     "output_type": "stream",
     "text": [
      "\n"
     ]
    }
   ],
   "source": [
    "mk_articles.build()"
   ]
  },
  {
   "cell_type": "code",
   "execution_count": 12,
   "metadata": {},
   "outputs": [],
   "source": [
    "data = load_dict(os.path.join(\"./NDTV_articles\", \"0.pkl\"))"
   ]
  }
 ],
 "metadata": {
  "kernelspec": {
   "display_name": "Python 3",
   "language": "python",
   "name": "python3"
  },
  "language_info": {
   "codemirror_mode": {
    "name": "ipython",
    "version": 3
   },
   "file_extension": ".py",
   "mimetype": "text/x-python",
   "name": "python",
   "nbconvert_exporter": "python",
   "pygments_lexer": "ipython3",
   "version": "3.6.6"
  }
 },
 "nbformat": 4,
 "nbformat_minor": 4
}
